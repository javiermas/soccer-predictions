{
 "cells": [
  {
   "cell_type": "code",
   "execution_count": null,
   "metadata": {
    "collapsed": true
   },
   "outputs": [],
   "source": [
    "import requests\n",
    "import pandas as pd\n",
    "\n",
    "def get_competitions(create=True, save=False):\n",
    "    if not create:\n",
    "        return pd.DataFrame.from_csv('competition_ids')\n",
    "\n",
    "    query_string = 'http://api.football-data.org/v1/competitions/?season=' \n",
    "    ids, leagues, league_names, years = [[] for i in range(4)]\n",
    "    for year in ['2015', '2016', '2017']:\n",
    "        req = requests.request('GET', query_string+year)\n",
    "        competitions = req.json()\n",
    "        for c in competitions:\n",
    "            ids.append(c['id'])\n",
    "            leagues.append(c['league'])\n",
    "            league_names.append(c['caption'])\n",
    "            years.append(c['year'])\n",
    "\n",
    "    league_ids = pd.DataFrame({\n",
    "        'Ids':ids, \n",
    "        'League':leagues, \n",
    "        'LeagueName':league_names, \n",
    "        'Year':years\n",
    "    })\n",
    "    if save: \n",
    "        league_ids.to_csv('competition_ids')\n",
    "\n",
    "return league_ids"
   ]
  }
 ],
 "metadata": {
  "kernelspec": {
   "display_name": "Python 3",
   "language": "python",
   "name": "python3"
  },
  "language_info": {
   "codemirror_mode": {
    "name": "ipython",
    "version": 3
   },
   "file_extension": ".py",
   "mimetype": "text/x-python",
   "name": "python",
   "nbconvert_exporter": "python",
   "pygments_lexer": "ipython3",
   "version": "3.5.0"
  }
 },
 "nbformat": 4,
 "nbformat_minor": 2
}
