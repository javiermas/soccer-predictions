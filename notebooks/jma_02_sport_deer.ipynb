{
 "cells": [
  {
   "cell_type": "code",
   "execution_count": 82,
   "metadata": {},
   "outputs": [
    {
     "name": "stdout",
     "output_type": "stream",
     "text": [
      "The autoreload extension is already loaded. To reload it, use:\n",
      "  %reload_ext autoreload\n"
     ]
    },
    {
     "data": {
      "text/html": [
       "<style>.container { width: 1580px !important; }</style>"
      ],
      "text/plain": [
       "<IPython.core.display.HTML object>"
      ]
     },
     "metadata": {},
     "output_type": "display_data"
    }
   ],
   "source": [
    "%load_ext autoreload\n",
    "%autoreload 2\n",
    "from IPython.core.display import display, HTML\n",
    "display(HTML(\"<style>.container { width: 1580px !important; }</style>\"))\n",
    "from jupyterthemes import jtplot\n",
    "# onedork | grade3 | oceans16 | chesterish | monokai | solarizedl | solarizedd\n",
    "jtplot.style('onedork')\n",
    "\n",
    "import os\n",
    "import requests\n",
    "from Soccer.data.sport_deer.token_manager import TokenManager"
   ]
  },
  {
   "cell_type": "code",
   "execution_count": 84,
   "metadata": {},
   "outputs": [],
   "source": [
    "tm = TokenManager()\n",
    "path = '/Users/yc00031/repos/soccer-predictions/Soccer/data/access_tokens/'\n",
    "access_token = tm.get_access_token(path)"
   ]
  },
  {
   "cell_type": "code",
   "execution_count": 93,
   "metadata": {},
   "outputs": [],
   "source": [
    "# Get countries\n",
    "query = 'https://api.sportdeer.com/v1/countries?access_token={}'.format(access_token)\n",
    "ids = requests.request('GET', query)\n",
    "country_ids = ids.json()['docs']"
   ]
  },
  {
   "cell_type": "code",
   "execution_count": 97,
   "metadata": {},
   "outputs": [
    {
     "name": "stdout",
     "output_type": "stream",
     "text": [
      "{'docs': [{'_id': 25, 'name': 'Belgium', 'rectangle_flag': 'http://assets.sportdeer.com/flags/svg/4x3/be.svg', 'square_flag': 'http://assets.sportdeer.com/flags/svg/1x1/be.svg'}]}\n"
     ]
    }
   ],
   "source": [
    "# Get specific country\n",
    "query = 'https://api.sportdeer.com/v1/countries/{}?access_token={}'.format(country_ids[0]['_id'], access_token)\n",
    "country = requests.request('GET', query)\n",
    "country = country.json()\n",
    "print(country)"
   ]
  },
  {
   "cell_type": "code",
   "execution_count": null,
   "metadata": {},
   "outputs": [],
   "source": []
  }
 ],
 "metadata": {
  "kernelspec": {
   "display_name": "Python 3",
   "language": "python",
   "name": "python3"
  },
  "language_info": {
   "codemirror_mode": {
    "name": "ipython",
    "version": 3
   },
   "file_extension": ".py",
   "mimetype": "text/x-python",
   "name": "python",
   "nbconvert_exporter": "python",
   "pygments_lexer": "ipython3",
   "version": "3.6.5"
  }
 },
 "nbformat": 4,
 "nbformat_minor": 2
}
