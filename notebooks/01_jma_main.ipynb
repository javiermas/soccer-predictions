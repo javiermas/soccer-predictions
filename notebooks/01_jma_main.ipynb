{
 "cells": [
  {
   "cell_type": "code",
   "execution_count": 4,
   "metadata": {},
   "outputs": [
    {
     "name": "stdout",
     "output_type": "stream",
     "text": [
      "The autoreload extension is already loaded. To reload it, use:\n",
      "  %reload_ext autoreload\n"
     ]
    }
   ],
   "source": [
    "%load_ext autoreload\n",
    "%autoreload 2\n",
    "import requests\n",
    "import pandas as pd\n",
    "from Soccer.data.get_competitions import get_competitions\n",
    "from Soccer.data.football_data import FootballData"
   ]
  },
  {
   "cell_type": "code",
   "execution_count": null,
   "metadata": {},
   "outputs": [],
   "source": [
    "#http://www.football-data.org/documentation"
   ]
  },
  {
   "cell_type": "code",
   "execution_count": 5,
   "metadata": {},
   "outputs": [],
   "source": [
    "football_data = FootballData()"
   ]
  },
  {
   "cell_type": "code",
   "execution_count": null,
   "metadata": {},
   "outputs": [],
   "source": [
    "football_data.extract_data()"
   ]
  },
  {
   "cell_type": "code",
   "execution_count": null,
   "metadata": {},
   "outputs": [
    {
     "name": "stdout",
     "output_type": "stream",
     "text": [
      "Fixtures for comp. 394 are restricted\n",
      "Fixtures for comp. 395 are restricted\n",
      "Fixtures for comp. 396 are restricted\n",
      "Fixtures for comp. 397 are restricted\n",
      "Fixtures for comp. 398 are restricted\n",
      "Fixtures for comp. 399 are restricted\n",
      "Fixtures for comp. 400 are restricted\n",
      "Fixtures for comp. 401 are restricted\n",
      "Fixtures for comp. 402 are restricted\n",
      "Fixtures for comp. 403 are restricted\n",
      "Fixtures for comp. 404 are restricted\n",
      "Fixtures for comp. 405 are restricted\n",
      "Fixtures for comp. 425 are restricted\n",
      "Fixtures for comp. 466 are restricted\n"
     ]
    }
   ],
   "source": [
    "football_data.extract_fixture_data()"
   ]
  },
  {
   "cell_type": "markdown",
   "metadata": {},
   "source": [
    "### Modelling"
   ]
  },
  {
   "cell_type": "code",
   "execution_count": null,
   "metadata": {},
   "outputs": [],
   "source": [
    "comps = [football_data.get_competition_fixtures('PD', year) for year in [2015,2016,2017]]"
   ]
  }
 ],
 "metadata": {
  "kernelspec": {
   "display_name": "Python 3",
   "language": "python",
   "name": "python3"
  },
  "language_info": {
   "codemirror_mode": {
    "name": "ipython",
    "version": 2
   },
   "file_extension": ".py",
   "mimetype": "text/x-python",
   "name": "python",
   "nbconvert_exporter": "python",
   "pygments_lexer": "ipython2",
   "version": "2.7.10"
  }
 },
 "nbformat": 4,
 "nbformat_minor": 2
}
