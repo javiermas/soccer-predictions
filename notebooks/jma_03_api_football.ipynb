{
 "cells": [
  {
   "cell_type": "code",
   "execution_count": 105,
   "metadata": {},
   "outputs": [
    {
     "name": "stdout",
     "output_type": "stream",
     "text": [
      "The autoreload extension is already loaded. To reload it, use:\n",
      "  %reload_ext autoreload\n"
     ]
    }
   ],
   "source": [
    "%load_ext autoreload\n",
    "%autoreload 2\n",
    "import os\n",
    "import requests\n",
    "import pandas as pd\n",
    "\n",
    "from configparser import ConfigParser"
   ]
  },
  {
   "cell_type": "code",
   "execution_count": 160,
   "metadata": {},
   "outputs": [],
   "source": [
    "parser = ConfigParser()\n",
    "parser.read('../config.cfg')\n",
    "base_query = 'https://www.api-football.com/api/v2/'\n",
    "headers = {\n",
    "    \"X-RapidAPI-Key\": parser.get('api-football', 'token'),\n",
    "    \"Accept\": \"application/json\"\n",
    "}"
   ]
  },
  {
   "cell_type": "code",
   "execution_count": 155,
   "metadata": {},
   "outputs": [
    {
     "ename": "KeyError",
     "evalue": "'api'",
     "output_type": "error",
     "traceback": [
      "\u001b[0;31m---------------------------------------------------------------------------\u001b[0m",
      "\u001b[0;31mKeyError\u001b[0m                                  Traceback (most recent call last)",
      "\u001b[0;32m<ipython-input-155-233e54230780>\u001b[0m in \u001b[0;36m<module>\u001b[0;34m\u001b[0m\n\u001b[1;32m      1\u001b[0m \u001b[0mreq\u001b[0m \u001b[0;34m=\u001b[0m \u001b[0mrequests\u001b[0m\u001b[0;34m.\u001b[0m\u001b[0mget\u001b[0m\u001b[0;34m(\u001b[0m\u001b[0murl\u001b[0m\u001b[0;34m=\u001b[0m\u001b[0mbase_query\u001b[0m\u001b[0;34m+\u001b[0m\u001b[0;34m'status'\u001b[0m\u001b[0;34m,\u001b[0m \u001b[0mheaders\u001b[0m\u001b[0;34m=\u001b[0m\u001b[0mheaders\u001b[0m\u001b[0;34m)\u001b[0m\u001b[0;34m\u001b[0m\u001b[0;34m\u001b[0m\u001b[0m\n\u001b[0;32m----> 2\u001b[0;31m \u001b[0mapi_doc\u001b[0m \u001b[0;34m=\u001b[0m \u001b[0mreq\u001b[0m\u001b[0;34m.\u001b[0m\u001b[0mjson\u001b[0m\u001b[0;34m(\u001b[0m\u001b[0;34m)\u001b[0m\u001b[0;34m[\u001b[0m\u001b[0;34m'api'\u001b[0m\u001b[0;34m]\u001b[0m\u001b[0;34m\u001b[0m\u001b[0;34m\u001b[0m\u001b[0m\n\u001b[0m",
      "\u001b[0;31mKeyError\u001b[0m: 'api'"
     ]
    }
   ],
   "source": [
    "req = requests.get(url=base_query+'status', headers=headers)\n",
    "api_doc = req.json()['api']"
   ]
  },
  {
   "cell_type": "code",
   "execution_count": 151,
   "metadata": {},
   "outputs": [
    {
     "data": {
      "text/plain": [
       "{'results': 1,\n",
       " 'status': {'user': 'javiermas93',\n",
       "  'email': 'javiermas93@gmail.com',\n",
       "  'plan': 'Free',\n",
       "  'token': '022b19a4341138f56a65c60fc6280208',\n",
       "  'active': 1,\n",
       "  'subscription_end': '2019-12-31T23:59:59+00:00',\n",
       "  'requests': 9,\n",
       "  'requests_limit_day': 50,\n",
       "  'payments': []}}"
      ]
     },
     "execution_count": 151,
     "metadata": {},
     "output_type": "execute_result"
    }
   ],
   "source": [
    "api_doc"
   ]
  },
  {
   "cell_type": "code",
   "execution_count": 156,
   "metadata": {},
   "outputs": [],
   "source": [
    "countries_query = base_query+'countries'\n",
    "req = requests.get(url=countries_query, headers=headers)"
   ]
  },
  {
   "cell_type": "code",
   "execution_count": 157,
   "metadata": {},
   "outputs": [
    {
     "ename": "KeyError",
     "evalue": "'api'",
     "output_type": "error",
     "traceback": [
      "\u001b[0;31m---------------------------------------------------------------------------\u001b[0m",
      "\u001b[0;31mKeyError\u001b[0m                                  Traceback (most recent call last)",
      "\u001b[0;32m<ipython-input-157-88f23882ae14>\u001b[0m in \u001b[0;36m<module>\u001b[0;34m\u001b[0m\n\u001b[0;32m----> 1\u001b[0;31m \u001b[0mcountries\u001b[0m \u001b[0;34m=\u001b[0m \u001b[0mreq\u001b[0m\u001b[0;34m.\u001b[0m\u001b[0mjson\u001b[0m\u001b[0;34m(\u001b[0m\u001b[0;34m)\u001b[0m\u001b[0;34m[\u001b[0m\u001b[0;34m'api'\u001b[0m\u001b[0;34m]\u001b[0m\u001b[0;34m\u001b[0m\u001b[0;34m\u001b[0m\u001b[0m\n\u001b[0m",
      "\u001b[0;31mKeyError\u001b[0m: 'api'"
     ]
    }
   ],
   "source": [
    "countries = req.json()['api']"
   ]
  },
  {
   "cell_type": "code",
   "execution_count": 115,
   "metadata": {},
   "outputs": [
    {
     "data": {
      "text/plain": [
       "[{'country': 'Albania',\n",
       "  'code': 'AL',\n",
       "  'flag': 'https://www.api-football.com/public/flags/al.svg'},\n",
       " {'country': 'Algeria',\n",
       "  'code': 'DZ',\n",
       "  'flag': 'https://www.api-football.com/public/flags/dz.svg'},\n",
       " {'country': 'Andorra',\n",
       "  'code': 'AD',\n",
       "  'flag': 'https://www.api-football.com/public/flags/ad.svg'},\n",
       " {'country': 'Angola',\n",
       "  'code': 'AO',\n",
       "  'flag': 'https://www.api-football.com/public/flags/ao.svg'},\n",
       " {'country': 'Argentina',\n",
       "  'code': 'AR',\n",
       "  'flag': 'https://www.api-football.com/public/flags/ar.svg'}]"
      ]
     },
     "execution_count": 115,
     "metadata": {},
     "output_type": "execute_result"
    }
   ],
   "source": [
    "countries['countries'][:5]"
   ]
  },
  {
   "cell_type": "code",
   "execution_count": 140,
   "metadata": {},
   "outputs": [],
   "source": [
    "country_of_interest = 'GB'\n",
    "leagues_query = base_query+'leagues/country/'+country_of_interest\n",
    "req = requests.get(url=leagues_query, headers=headers)"
   ]
  },
  {
   "cell_type": "code",
   "execution_count": 141,
   "metadata": {},
   "outputs": [],
   "source": [
    "league_id = req.json()['api']['leagues'][0]['league_id']"
   ]
  },
  {
   "cell_type": "code",
   "execution_count": 142,
   "metadata": {},
   "outputs": [],
   "source": [
    "fixtures = base_query+f\"fixtures/league/{league_id}\"\n",
    "req = requests.get(url=fixtures, headers=headers)"
   ]
  },
  {
   "cell_type": "code",
   "execution_count": 143,
   "metadata": {},
   "outputs": [
    {
     "name": "stdout",
     "output_type": "stream",
     "text": [
      "(380, 17)\n"
     ]
    },
    {
     "data": {
      "text/html": [
       "<div>\n",
       "<style scoped>\n",
       "    .dataframe tbody tr th:only-of-type {\n",
       "        vertical-align: middle;\n",
       "    }\n",
       "\n",
       "    .dataframe tbody tr th {\n",
       "        vertical-align: top;\n",
       "    }\n",
       "\n",
       "    .dataframe thead th {\n",
       "        text-align: right;\n",
       "    }\n",
       "</style>\n",
       "<table border=\"1\" class=\"dataframe\">\n",
       "  <thead>\n",
       "    <tr style=\"text-align: right;\">\n",
       "      <th></th>\n",
       "      <th>awayTeam</th>\n",
       "      <th>elapsed</th>\n",
       "      <th>event_date</th>\n",
       "      <th>event_timestamp</th>\n",
       "      <th>firstHalfStart</th>\n",
       "      <th>fixture_id</th>\n",
       "      <th>goalsAwayTeam</th>\n",
       "      <th>goalsHomeTeam</th>\n",
       "      <th>homeTeam</th>\n",
       "      <th>league_id</th>\n",
       "      <th>referee</th>\n",
       "      <th>round</th>\n",
       "      <th>score</th>\n",
       "      <th>secondHalfStart</th>\n",
       "      <th>status</th>\n",
       "      <th>statusShort</th>\n",
       "      <th>venue</th>\n",
       "    </tr>\n",
       "  </thead>\n",
       "  <tbody>\n",
       "    <tr>\n",
       "      <th>0</th>\n",
       "      <td>{'team_id': 46, 'team_name': 'Leicester', 'log...</td>\n",
       "      <td>90</td>\n",
       "      <td>2018-08-10 19:00:00+00:00</td>\n",
       "      <td>1533927600</td>\n",
       "      <td>1533927600</td>\n",
       "      <td>65</td>\n",
       "      <td>1</td>\n",
       "      <td>2</td>\n",
       "      <td>{'team_id': 33, 'team_name': 'Manchester Unite...</td>\n",
       "      <td>2</td>\n",
       "      <td>None</td>\n",
       "      <td>Regular Season - 1</td>\n",
       "      <td>{'halftime': '1-0', 'fulltime': '2-1', 'extrat...</td>\n",
       "      <td>1533931200</td>\n",
       "      <td>Match Finished</td>\n",
       "      <td>FT</td>\n",
       "      <td>Old Trafford (Manchester)</td>\n",
       "    </tr>\n",
       "    <tr>\n",
       "      <th>1</th>\n",
       "      <td>{'team_id': 47, 'team_name': 'Tottenham', 'log...</td>\n",
       "      <td>90</td>\n",
       "      <td>2018-08-11 11:30:00+00:00</td>\n",
       "      <td>1533987000</td>\n",
       "      <td>1533987000</td>\n",
       "      <td>66</td>\n",
       "      <td>2</td>\n",
       "      <td>1</td>\n",
       "      <td>{'team_id': 34, 'team_name': 'Newcastle', 'log...</td>\n",
       "      <td>2</td>\n",
       "      <td>Rudimar Goltara</td>\n",
       "      <td>Regular Season - 1</td>\n",
       "      <td>{'halftime': '1-2', 'fulltime': '1-2', 'extrat...</td>\n",
       "      <td>1533990600</td>\n",
       "      <td>Match Finished</td>\n",
       "      <td>FT</td>\n",
       "      <td>St. James' Park (Newcastle upon Tyne)</td>\n",
       "    </tr>\n",
       "    <tr>\n",
       "      <th>2</th>\n",
       "      <td>{'team_id': 43, 'team_name': 'Cardiff', 'logo'...</td>\n",
       "      <td>90</td>\n",
       "      <td>2018-08-11 14:00:00+00:00</td>\n",
       "      <td>1533996000</td>\n",
       "      <td>1533996000</td>\n",
       "      <td>67</td>\n",
       "      <td>0</td>\n",
       "      <td>2</td>\n",
       "      <td>{'team_id': 35, 'team_name': 'Bournemouth', 'l...</td>\n",
       "      <td>2</td>\n",
       "      <td>André Rodrigo Rocha</td>\n",
       "      <td>Regular Season - 1</td>\n",
       "      <td>{'halftime': '1-0', 'fulltime': '2-0', 'extrat...</td>\n",
       "      <td>1533999600</td>\n",
       "      <td>Match Finished</td>\n",
       "      <td>FT</td>\n",
       "      <td>Vitality Stadium (Bournemouth, Dorset)</td>\n",
       "    </tr>\n",
       "    <tr>\n",
       "      <th>3</th>\n",
       "      <td>{'team_id': 52, 'team_name': 'Crystal Palace',...</td>\n",
       "      <td>90</td>\n",
       "      <td>2018-08-11 14:00:00+00:00</td>\n",
       "      <td>1533996000</td>\n",
       "      <td>1533996000</td>\n",
       "      <td>68</td>\n",
       "      <td>2</td>\n",
       "      <td>0</td>\n",
       "      <td>{'team_id': 36, 'team_name': 'Fulham', 'logo':...</td>\n",
       "      <td>2</td>\n",
       "      <td>Andrey Da Silva e Silva</td>\n",
       "      <td>Regular Season - 1</td>\n",
       "      <td>{'halftime': '0-1', 'fulltime': '0-2', 'extrat...</td>\n",
       "      <td>1533999600</td>\n",
       "      <td>Match Finished</td>\n",
       "      <td>FT</td>\n",
       "      <td>Craven Cottage (London)</td>\n",
       "    </tr>\n",
       "    <tr>\n",
       "      <th>4</th>\n",
       "      <td>{'team_id': 49, 'team_name': 'Chelsea', 'logo'...</td>\n",
       "      <td>90</td>\n",
       "      <td>2018-08-11 14:00:00+00:00</td>\n",
       "      <td>1533996000</td>\n",
       "      <td>1533996000</td>\n",
       "      <td>69</td>\n",
       "      <td>3</td>\n",
       "      <td>0</td>\n",
       "      <td>{'team_id': 37, 'team_name': 'Huddersfield', '...</td>\n",
       "      <td>2</td>\n",
       "      <td>Vanderlei Soares de Macedo</td>\n",
       "      <td>Regular Season - 1</td>\n",
       "      <td>{'halftime': '0-2', 'fulltime': '0-3', 'extrat...</td>\n",
       "      <td>1533999600</td>\n",
       "      <td>Match Finished</td>\n",
       "      <td>FT</td>\n",
       "      <td>The John Smith's Stadium (Huddersfield, West Y...</td>\n",
       "    </tr>\n",
       "  </tbody>\n",
       "</table>\n",
       "</div>"
      ],
      "text/plain": [
       "                                            awayTeam  elapsed  \\\n",
       "0  {'team_id': 46, 'team_name': 'Leicester', 'log...       90   \n",
       "1  {'team_id': 47, 'team_name': 'Tottenham', 'log...       90   \n",
       "2  {'team_id': 43, 'team_name': 'Cardiff', 'logo'...       90   \n",
       "3  {'team_id': 52, 'team_name': 'Crystal Palace',...       90   \n",
       "4  {'team_id': 49, 'team_name': 'Chelsea', 'logo'...       90   \n",
       "\n",
       "                 event_date  event_timestamp  firstHalfStart  fixture_id  \\\n",
       "0 2018-08-10 19:00:00+00:00       1533927600      1533927600          65   \n",
       "1 2018-08-11 11:30:00+00:00       1533987000      1533987000          66   \n",
       "2 2018-08-11 14:00:00+00:00       1533996000      1533996000          67   \n",
       "3 2018-08-11 14:00:00+00:00       1533996000      1533996000          68   \n",
       "4 2018-08-11 14:00:00+00:00       1533996000      1533996000          69   \n",
       "\n",
       "   goalsAwayTeam  goalsHomeTeam  \\\n",
       "0              1              2   \n",
       "1              2              1   \n",
       "2              0              2   \n",
       "3              2              0   \n",
       "4              3              0   \n",
       "\n",
       "                                            homeTeam  league_id  \\\n",
       "0  {'team_id': 33, 'team_name': 'Manchester Unite...          2   \n",
       "1  {'team_id': 34, 'team_name': 'Newcastle', 'log...          2   \n",
       "2  {'team_id': 35, 'team_name': 'Bournemouth', 'l...          2   \n",
       "3  {'team_id': 36, 'team_name': 'Fulham', 'logo':...          2   \n",
       "4  {'team_id': 37, 'team_name': 'Huddersfield', '...          2   \n",
       "\n",
       "                      referee               round  \\\n",
       "0                        None  Regular Season - 1   \n",
       "1             Rudimar Goltara  Regular Season - 1   \n",
       "2         André Rodrigo Rocha  Regular Season - 1   \n",
       "3     Andrey Da Silva e Silva  Regular Season - 1   \n",
       "4  Vanderlei Soares de Macedo  Regular Season - 1   \n",
       "\n",
       "                                               score  secondHalfStart  \\\n",
       "0  {'halftime': '1-0', 'fulltime': '2-1', 'extrat...       1533931200   \n",
       "1  {'halftime': '1-2', 'fulltime': '1-2', 'extrat...       1533990600   \n",
       "2  {'halftime': '1-0', 'fulltime': '2-0', 'extrat...       1533999600   \n",
       "3  {'halftime': '0-1', 'fulltime': '0-2', 'extrat...       1533999600   \n",
       "4  {'halftime': '0-2', 'fulltime': '0-3', 'extrat...       1533999600   \n",
       "\n",
       "           status statusShort  \\\n",
       "0  Match Finished          FT   \n",
       "1  Match Finished          FT   \n",
       "2  Match Finished          FT   \n",
       "3  Match Finished          FT   \n",
       "4  Match Finished          FT   \n",
       "\n",
       "                                               venue  \n",
       "0                          Old Trafford (Manchester)  \n",
       "1              St. James' Park (Newcastle upon Tyne)  \n",
       "2             Vitality Stadium (Bournemouth, Dorset)  \n",
       "3                            Craven Cottage (London)  \n",
       "4  The John Smith's Stadium (Huddersfield, West Y...  "
      ]
     },
     "execution_count": 143,
     "metadata": {},
     "output_type": "execute_result"
    }
   ],
   "source": [
    "fixture_data = req.json()['api']['fixtures']\n",
    "fixture_data = pd.DataFrame(fixture_data)\n",
    "fixture_data['event_date'] = pd.to_datetime(fixture_data['event_date'])\n",
    "print(fixture_data.shape)\n",
    "fixture_data.head()"
   ]
  },
  {
   "cell_type": "code",
   "execution_count": 146,
   "metadata": {},
   "outputs": [],
   "source": [
    "odds_query = base_query+f\"odds/league/{league_id}\"\n",
    "req = requests.get(url=odds_query, headers=headers)"
   ]
  },
  {
   "cell_type": "code",
   "execution_count": 152,
   "metadata": {},
   "outputs": [],
   "source": [
    "fixture_id = '65' \n",
    "odds_query = base_query+f\"odds/fixture/{fixture_id}\"\n",
    "req = requests.get(url=odds_query, headers=headers)"
   ]
  },
  {
   "cell_type": "code",
   "execution_count": 153,
   "metadata": {},
   "outputs": [
    {
     "data": {
      "text/plain": [
       "{'api': {'results': 0, 'odds': []}}"
      ]
     },
     "execution_count": 153,
     "metadata": {},
     "output_type": "execute_result"
    }
   ],
   "source": [
    "req.json()"
   ]
  },
  {
   "cell_type": "code",
   "execution_count": 149,
   "metadata": {},
   "outputs": [
    {
     "data": {
      "text/plain": [
       "{'Date': 'Sat, 03 Aug 2019 13:56:57 GMT', 'Server': 'Apache', 'Content-Length': '31', 'Keep-Alive': 'timeout=5, max=100', 'Connection': 'Keep-Alive', 'Content-Type': 'application/json'}"
      ]
     },
     "execution_count": 149,
     "metadata": {},
     "output_type": "execute_result"
    }
   ],
   "source": [
    "req.headers"
   ]
  },
  {
   "cell_type": "code",
   "execution_count": 147,
   "metadata": {},
   "outputs": [
    {
     "data": {
      "text/plain": [
       "{'api': {'results': 0, 'odds': []}}"
      ]
     },
     "execution_count": 147,
     "metadata": {},
     "output_type": "execute_result"
    }
   ],
   "source": [
    "req.json()"
   ]
  },
  {
   "cell_type": "code",
   "execution_count": 131,
   "metadata": {},
   "outputs": [
    {
     "name": "stdout",
     "output_type": "stream",
     "text": [
      "(0, 0)\n"
     ]
    },
    {
     "data": {
      "text/html": [
       "<div>\n",
       "<style scoped>\n",
       "    .dataframe tbody tr th:only-of-type {\n",
       "        vertical-align: middle;\n",
       "    }\n",
       "\n",
       "    .dataframe tbody tr th {\n",
       "        vertical-align: top;\n",
       "    }\n",
       "\n",
       "    .dataframe thead th {\n",
       "        text-align: right;\n",
       "    }\n",
       "</style>\n",
       "<table border=\"1\" class=\"dataframe\">\n",
       "  <thead>\n",
       "    <tr style=\"text-align: right;\">\n",
       "      <th></th>\n",
       "    </tr>\n",
       "  </thead>\n",
       "  <tbody>\n",
       "  </tbody>\n",
       "</table>\n",
       "</div>"
      ],
      "text/plain": [
       "Empty DataFrame\n",
       "Columns: []\n",
       "Index: []"
      ]
     },
     "execution_count": 131,
     "metadata": {},
     "output_type": "execute_result"
    }
   ],
   "source": [
    "odd_data = pd.DataFrame(req.json()['api']['odds'])\n",
    "print(odd_data.shape)\n",
    "odd_data.head()"
   ]
  },
  {
   "cell_type": "code",
   "execution_count": 132,
   "metadata": {},
   "outputs": [
    {
     "data": {
      "text/plain": [
       "{'api': {'results': 0, 'odds': []}}"
      ]
     },
     "execution_count": 132,
     "metadata": {},
     "output_type": "execute_result"
    }
   ],
   "source": [
    "req.json()"
   ]
  },
  {
   "cell_type": "code",
   "execution_count": 70,
   "metadata": {},
   "outputs": [],
   "source": [
    "odd_data['league_id'] = odd_data['fixture'].apply(lambda x: x['league_id'])\n",
    "odd_data['fixture_id'] = odd_data['fixture'].apply(lambda x: x['fixture_id'])"
   ]
  },
  {
   "cell_type": "code",
   "execution_count": 71,
   "metadata": {},
   "outputs": [
    {
     "data": {
      "text/html": [
       "<div>\n",
       "<style scoped>\n",
       "    .dataframe tbody tr th:only-of-type {\n",
       "        vertical-align: middle;\n",
       "    }\n",
       "\n",
       "    .dataframe tbody tr th {\n",
       "        vertical-align: top;\n",
       "    }\n",
       "\n",
       "    .dataframe thead th {\n",
       "        text-align: right;\n",
       "    }\n",
       "</style>\n",
       "<table border=\"1\" class=\"dataframe\">\n",
       "  <thead>\n",
       "    <tr style=\"text-align: right;\">\n",
       "      <th></th>\n",
       "      <th>bookmakers</th>\n",
       "      <th>fixture</th>\n",
       "      <th>league_id</th>\n",
       "      <th>fixture_id</th>\n",
       "    </tr>\n",
       "  </thead>\n",
       "  <tbody>\n",
       "    <tr>\n",
       "      <th>0</th>\n",
       "      <td>[{'bookmaker_id': 6, 'bookmaker_name': 'bwin',...</td>\n",
       "      <td>{'league_id': 2, 'fixture_id': 435, 'updateAt'...</td>\n",
       "      <td>2</td>\n",
       "      <td>435</td>\n",
       "    </tr>\n",
       "    <tr>\n",
       "      <th>1</th>\n",
       "      <td>[{'bookmaker_id': 6, 'bookmaker_name': 'bwin',...</td>\n",
       "      <td>{'league_id': 2, 'fixture_id': 436, 'updateAt'...</td>\n",
       "      <td>2</td>\n",
       "      <td>436</td>\n",
       "    </tr>\n",
       "    <tr>\n",
       "      <th>2</th>\n",
       "      <td>[{'bookmaker_id': 6, 'bookmaker_name': 'bwin',...</td>\n",
       "      <td>{'league_id': 2, 'fixture_id': 437, 'updateAt'...</td>\n",
       "      <td>2</td>\n",
       "      <td>437</td>\n",
       "    </tr>\n",
       "    <tr>\n",
       "      <th>3</th>\n",
       "      <td>[{'bookmaker_id': 6, 'bookmaker_name': 'bwin',...</td>\n",
       "      <td>{'league_id': 2, 'fixture_id': 438, 'updateAt'...</td>\n",
       "      <td>2</td>\n",
       "      <td>438</td>\n",
       "    </tr>\n",
       "    <tr>\n",
       "      <th>4</th>\n",
       "      <td>[{'bookmaker_id': 6, 'bookmaker_name': 'bwin',...</td>\n",
       "      <td>{'league_id': 2, 'fixture_id': 439, 'updateAt'...</td>\n",
       "      <td>2</td>\n",
       "      <td>439</td>\n",
       "    </tr>\n",
       "  </tbody>\n",
       "</table>\n",
       "</div>"
      ],
      "text/plain": [
       "                                          bookmakers  \\\n",
       "0  [{'bookmaker_id': 6, 'bookmaker_name': 'bwin',...   \n",
       "1  [{'bookmaker_id': 6, 'bookmaker_name': 'bwin',...   \n",
       "2  [{'bookmaker_id': 6, 'bookmaker_name': 'bwin',...   \n",
       "3  [{'bookmaker_id': 6, 'bookmaker_name': 'bwin',...   \n",
       "4  [{'bookmaker_id': 6, 'bookmaker_name': 'bwin',...   \n",
       "\n",
       "                                             fixture  league_id  fixture_id  \n",
       "0  {'league_id': 2, 'fixture_id': 435, 'updateAt'...          2         435  \n",
       "1  {'league_id': 2, 'fixture_id': 436, 'updateAt'...          2         436  \n",
       "2  {'league_id': 2, 'fixture_id': 437, 'updateAt'...          2         437  \n",
       "3  {'league_id': 2, 'fixture_id': 438, 'updateAt'...          2         438  \n",
       "4  {'league_id': 2, 'fixture_id': 439, 'updateAt'...          2         439  "
      ]
     },
     "execution_count": 71,
     "metadata": {},
     "output_type": "execute_result"
    }
   ],
   "source": [
    "odd_data.head()"
   ]
  },
  {
   "cell_type": "code",
   "execution_count": 80,
   "metadata": {},
   "outputs": [
    {
     "data": {
      "text/plain": [
       "{'label_id': 1,\n",
       " 'label_name': 'Match Winner',\n",
       " 'values': [{'value': 'Home', 'odd': '17.50'},\n",
       "  {'value': 'Draw', 'odd': '8.75'},\n",
       "  {'value': 'Away', 'odd': '1.14'}]}"
      ]
     },
     "execution_count": 80,
     "metadata": {},
     "output_type": "execute_result"
    }
   ],
   "source": [
    "odd_data['bookmakers'].iloc[0][0]['bets'][0]"
   ]
  },
  {
   "cell_type": "code",
   "execution_count": 75,
   "metadata": {},
   "outputs": [],
   "source": [
    "odd_data['bookmaker_name'] = odd_data['bookmakers'].apply(lambda x: x[0]['bookmaker_name'])\n",
    "odd_data[''] = odd_data['bookmakers'].apply(lambda x: x[0]['bets'][0])"
   ]
  },
  {
   "cell_type": "code",
   "execution_count": 76,
   "metadata": {},
   "outputs": [
    {
     "data": {
      "text/plain": [
       "array(['bwin'], dtype=object)"
      ]
     },
     "execution_count": 76,
     "metadata": {},
     "output_type": "execute_result"
    }
   ],
   "source": [
    "odd_data['bookmaker_name']"
   ]
  },
  {
   "cell_type": "code",
   "execution_count": null,
   "metadata": {},
   "outputs": [],
   "source": []
  }
 ],
 "metadata": {
  "kernelspec": {
   "display_name": "Python 3",
   "language": "python",
   "name": "python3"
  },
  "language_info": {
   "codemirror_mode": {
    "name": "ipython",
    "version": 3
   },
   "file_extension": ".py",
   "mimetype": "text/x-python",
   "name": "python",
   "nbconvert_exporter": "python",
   "pygments_lexer": "ipython3",
   "version": "3.7.3"
  }
 },
 "nbformat": 4,
 "nbformat_minor": 4
}
