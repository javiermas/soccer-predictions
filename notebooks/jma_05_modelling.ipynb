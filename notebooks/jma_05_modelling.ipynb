{
 "cells": [
  {
   "cell_type": "code",
   "execution_count": 2,
   "metadata": {},
   "outputs": [
    {
     "data": {
      "text/html": [
       "<style>.container { width:100% !important; }</style>"
      ],
      "text/plain": [
       "<IPython.core.display.HTML object>"
      ]
     },
     "metadata": {},
     "output_type": "display_data"
    },
    {
     "data": {
      "text/html": [
       "        <script type=\"text/javascript\">\n",
       "        window.PlotlyConfig = {MathJaxConfig: 'local'};\n",
       "        if (window.MathJax) {MathJax.Hub.Config({SVG: {font: \"STIX-Web\"}});}\n",
       "        if (typeof require !== 'undefined') {\n",
       "        require.undef(\"plotly\");\n",
       "        requirejs.config({\n",
       "            paths: {\n",
       "                'plotly': ['https://cdn.plot.ly/plotly-latest.min']\n",
       "            }\n",
       "        });\n",
       "        require(['plotly'], function(Plotly) {\n",
       "            window._Plotly = Plotly;\n",
       "        });\n",
       "        }\n",
       "        </script>\n",
       "        "
      ]
     },
     "metadata": {},
     "output_type": "display_data"
    }
   ],
   "source": [
    "%load_ext autoreload\n",
    "%autoreload 2\n",
    "\n",
    "from IPython.core.display import display, HTML\n",
    "display(HTML(\"<style>.container { width:100% !important; }</style>\"))\n",
    "\n",
    "import pandas as pd\n",
    "import math\n",
    "import numpy as np\n",
    "import datetime\n",
    "from time import time\n",
    "from functools import reduce\n",
    "from matplotlib import pyplot as plt\n",
    "from soccerlearn.features import *\n",
    "    \n",
    "import plotly.graph_objs as go\n",
    "from plotly.offline import download_plotlyjs, init_notebook_mode, plot, iplot\n",
    "init_notebook_mode(connected=True)\n",
    "\n",
    "\n",
    "SMALL_SIZE=17\n",
    "MEDIUM_SIZE=SMALL_SIZE+5\n",
    "BIGGER_SIZE=MEDIUM_SIZE+5\n",
    "\n",
    "plt.rc('font', size=SMALL_SIZE)          # controls default text sizes\n",
    "plt.rc('axes', titlesize=MEDIUM_SIZE)     # fontsize of the axes title\n",
    "plt.rc('axes', labelsize=MEDIUM_SIZE)    # fontsize of the x and y labels\n",
    "plt.rc('xtick', labelsize=SMALL_SIZE)    # fontsize of the tick labels\n",
    "plt.rc('ytick', labelsize=SMALL_SIZE)    # fontsize of the tick labels\n",
    "plt.rc('legend', fontsize=SMALL_SIZE)    # legend fontsize\n",
    "plt.rc('figure', titlesize=BIGGER_SIZE)  # fontsize of the figure title\n",
    "plt.rc('figure', dpi=200)\n",
    "\n",
    "season_data = pd.read_csv('../data/seasons.csv').rename(columns={'id': 'season_id', 'name': 'season_name'})\n",
    "team_data = pd.read_csv('../data/teams_league_La Liga.csv')"
   ]
  },
  {
   "cell_type": "code",
   "execution_count": 153,
   "metadata": {
    "scrolled": false
   },
   "outputs": [
    {
     "name": "stdout",
     "output_type": "stream",
     "text": [
      "Creating feature pivot_fixtures_by_team\n",
      "Creating feature get_scores\n",
      "Creating feature get_results\n",
      "Creating feature get_games_played\n",
      "Creating feature get_cumulative_results\n",
      "Creating feature get_winning_odds\n",
      "Creating feature rolling_results\n",
      "> \u001b[0;32m/Users/javiermas/repos/soccer-predictions/soccerlearn/features/team_date_features.py\u001b[0m(111)\u001b[0;36mget_rolling_results\u001b[0;34m()\u001b[0m\n",
      "\u001b[0;32m    110 \u001b[0;31m    \u001b[0;32mimport\u001b[0m \u001b[0mipdb\u001b[0m\u001b[0;34m;\u001b[0m \u001b[0mipdb\u001b[0m\u001b[0;34m.\u001b[0m\u001b[0mset_trace\u001b[0m\u001b[0;34m(\u001b[0m\u001b[0;34m)\u001b[0m\u001b[0;34m\u001b[0m\u001b[0;34m\u001b[0m\u001b[0m\n",
      "\u001b[0m\u001b[0;32m--> 111 \u001b[0;31m    \u001b[0mresults\u001b[0m\u001b[0;34m[\u001b[0m\u001b[0;34m'points_won'\u001b[0m\u001b[0;34m]\u001b[0m \u001b[0;34m=\u001b[0m \u001b[0mresults\u001b[0m\u001b[0;34m[\u001b[0m\u001b[0;34m'win'\u001b[0m\u001b[0;34m]\u001b[0m \u001b[0;34m*\u001b[0m \u001b[0;36m3\u001b[0m \u001b[0;34m+\u001b[0m \u001b[0mresults\u001b[0m\u001b[0;34m[\u001b[0m\u001b[0;34m'draw'\u001b[0m\u001b[0;34m]\u001b[0m\u001b[0;34m\u001b[0m\u001b[0;34m\u001b[0m\u001b[0m\n",
      "\u001b[0m\u001b[0;32m    112 \u001b[0;31m    \u001b[0mresults\u001b[0m\u001b[0;34m[\u001b[0m\u001b[0;34mf'points_won_last_{PERIODS}_games_sum'\u001b[0m\u001b[0;34m]\u001b[0m \u001b[0;34m=\u001b[0m \u001b[0mresults\u001b[0m\u001b[0;31m\\\u001b[0m\u001b[0;34m\u001b[0m\u001b[0;34m\u001b[0m\u001b[0m\n",
      "\u001b[0m\n",
      "ipdb> c\n",
      "> \u001b[0;32m/Users/javiermas/repos/soccer-predictions/soccerlearn/features/team_date_features.py\u001b[0m(118)\u001b[0;36mget_rolling_results\u001b[0;34m()\u001b[0m\n",
      "\u001b[0;32m    116 \u001b[0;31m\u001b[0;34m\u001b[0m\u001b[0m\n",
      "\u001b[0m\u001b[0;32m    117 \u001b[0;31m    \u001b[0;32mimport\u001b[0m \u001b[0mipdb\u001b[0m\u001b[0;34m;\u001b[0m \u001b[0mipdb\u001b[0m\u001b[0;34m.\u001b[0m\u001b[0mset_trace\u001b[0m\u001b[0;34m(\u001b[0m\u001b[0;34m)\u001b[0m\u001b[0;34m\u001b[0m\u001b[0;34m\u001b[0m\u001b[0m\n",
      "\u001b[0m\u001b[0;32m--> 118 \u001b[0;31m    \u001b[0;32mreturn\u001b[0m \u001b[0mresults\u001b[0m\u001b[0;34m[\u001b[0m\u001b[0;34m[\u001b[0m\u001b[0;34mf'points_won_last_{PERIODS}_games_sum'\u001b[0m\u001b[0;34m]\u001b[0m\u001b[0;34m]\u001b[0m\u001b[0;34m\u001b[0m\u001b[0;34m\u001b[0m\u001b[0m\n",
      "\u001b[0m\n",
      "ipdb> c\n",
      "Pipeline finished\n",
      "Creating feature positions\n",
      "Creating feature previous_season\n",
      "Pipeline finished\n",
      "(4560, 35)\n"
     ]
    },
    {
     "data": {
      "text/html": [
       "<div>\n",
       "<style scoped>\n",
       "    .dataframe tbody tr th:only-of-type {\n",
       "        vertical-align: middle;\n",
       "    }\n",
       "\n",
       "    .dataframe tbody tr th {\n",
       "        vertical-align: top;\n",
       "    }\n",
       "\n",
       "    .dataframe thead th {\n",
       "        text-align: right;\n",
       "    }\n",
       "</style>\n",
       "<table border=\"1\" class=\"dataframe\">\n",
       "  <thead>\n",
       "    <tr style=\"text-align: right;\">\n",
       "      <th></th>\n",
       "      <th></th>\n",
       "      <th>round_id</th>\n",
       "      <th>scores</th>\n",
       "      <th>winner_team_id</th>\n",
       "      <th>season_id</th>\n",
       "      <th>season_start_year</th>\n",
       "      <th>winning_odds_calculated</th>\n",
       "      <th>odd_value_1</th>\n",
       "      <th>odd_value_2</th>\n",
       "      <th>odd_value_X</th>\n",
       "      <th>odd_winning_1</th>\n",
       "      <th>...</th>\n",
       "      <th>points_current_season</th>\n",
       "      <th>winning_odds</th>\n",
       "      <th>points_won_last_5_games_sum</th>\n",
       "      <th>name</th>\n",
       "      <th>short_code</th>\n",
       "      <th>position_end_season</th>\n",
       "      <th>goals_scored_current_season_lag_1</th>\n",
       "      <th>points_current_season_lag_1</th>\n",
       "      <th>goals_conceded_current_season_lag_1</th>\n",
       "      <th>position_end_season_lag_1</th>\n",
       "    </tr>\n",
       "    <tr>\n",
       "      <th>team_id</th>\n",
       "      <th>date</th>\n",
       "      <th></th>\n",
       "      <th></th>\n",
       "      <th></th>\n",
       "      <th></th>\n",
       "      <th></th>\n",
       "      <th></th>\n",
       "      <th></th>\n",
       "      <th></th>\n",
       "      <th></th>\n",
       "      <th></th>\n",
       "      <th></th>\n",
       "      <th></th>\n",
       "      <th></th>\n",
       "      <th></th>\n",
       "      <th></th>\n",
       "      <th></th>\n",
       "      <th></th>\n",
       "      <th></th>\n",
       "      <th></th>\n",
       "      <th></th>\n",
       "      <th></th>\n",
       "    </tr>\n",
       "  </thead>\n",
       "  <tbody>\n",
       "    <tr>\n",
       "      <th rowspan=\"5\" valign=\"top\">36</th>\n",
       "      <th>2014-08-24</th>\n",
       "      <td>54887</td>\n",
       "      <td>{'localteam_score': 3, 'visitorteam_score': 1,...</td>\n",
       "      <td>36.0</td>\n",
       "      <td>2061</td>\n",
       "      <td>2014</td>\n",
       "      <td>True</td>\n",
       "      <td>NaN</td>\n",
       "      <td>NaN</td>\n",
       "      <td>NaN</td>\n",
       "      <td>NaN</td>\n",
       "      <td>...</td>\n",
       "      <td>0.0</td>\n",
       "      <td>NaN</td>\n",
       "      <td>NaN</td>\n",
       "      <td>Celta de Vigo</td>\n",
       "      <td>CLV</td>\n",
       "      <td>8</td>\n",
       "      <td>51.0</td>\n",
       "      <td>44.0</td>\n",
       "      <td>67.0</td>\n",
       "      <td>13.0</td>\n",
       "    </tr>\n",
       "    <tr>\n",
       "      <th>2014-08-30</th>\n",
       "      <td>54895</td>\n",
       "      <td>{'localteam_score': 1, 'visitorteam_score': 1,...</td>\n",
       "      <td>NaN</td>\n",
       "      <td>2061</td>\n",
       "      <td>2014</td>\n",
       "      <td>True</td>\n",
       "      <td>NaN</td>\n",
       "      <td>NaN</td>\n",
       "      <td>NaN</td>\n",
       "      <td>NaN</td>\n",
       "      <td>...</td>\n",
       "      <td>3.0</td>\n",
       "      <td>NaN</td>\n",
       "      <td>NaN</td>\n",
       "      <td>Celta de Vigo</td>\n",
       "      <td>CLV</td>\n",
       "      <td>8</td>\n",
       "      <td>51.0</td>\n",
       "      <td>44.0</td>\n",
       "      <td>67.0</td>\n",
       "      <td>13.0</td>\n",
       "    </tr>\n",
       "    <tr>\n",
       "      <th>2014-09-13</th>\n",
       "      <td>54903</td>\n",
       "      <td>{'localteam_score': 2, 'visitorteam_score': 2,...</td>\n",
       "      <td>NaN</td>\n",
       "      <td>2061</td>\n",
       "      <td>2014</td>\n",
       "      <td>True</td>\n",
       "      <td>NaN</td>\n",
       "      <td>NaN</td>\n",
       "      <td>NaN</td>\n",
       "      <td>NaN</td>\n",
       "      <td>...</td>\n",
       "      <td>4.0</td>\n",
       "      <td>NaN</td>\n",
       "      <td>NaN</td>\n",
       "      <td>Celta de Vigo</td>\n",
       "      <td>CLV</td>\n",
       "      <td>8</td>\n",
       "      <td>51.0</td>\n",
       "      <td>44.0</td>\n",
       "      <td>67.0</td>\n",
       "      <td>13.0</td>\n",
       "    </tr>\n",
       "    <tr>\n",
       "      <th>2014-09-20</th>\n",
       "      <td>54911</td>\n",
       "      <td>{'localteam_score': 2, 'visitorteam_score': 2,...</td>\n",
       "      <td>NaN</td>\n",
       "      <td>2061</td>\n",
       "      <td>2014</td>\n",
       "      <td>True</td>\n",
       "      <td>NaN</td>\n",
       "      <td>NaN</td>\n",
       "      <td>NaN</td>\n",
       "      <td>NaN</td>\n",
       "      <td>...</td>\n",
       "      <td>5.0</td>\n",
       "      <td>NaN</td>\n",
       "      <td>NaN</td>\n",
       "      <td>Celta de Vigo</td>\n",
       "      <td>CLV</td>\n",
       "      <td>8</td>\n",
       "      <td>51.0</td>\n",
       "      <td>44.0</td>\n",
       "      <td>67.0</td>\n",
       "      <td>13.0</td>\n",
       "    </tr>\n",
       "    <tr>\n",
       "      <th>2014-09-23</th>\n",
       "      <td>54921</td>\n",
       "      <td>{'localteam_score': 2, 'visitorteam_score': 1,...</td>\n",
       "      <td>36.0</td>\n",
       "      <td>2061</td>\n",
       "      <td>2014</td>\n",
       "      <td>True</td>\n",
       "      <td>NaN</td>\n",
       "      <td>NaN</td>\n",
       "      <td>NaN</td>\n",
       "      <td>NaN</td>\n",
       "      <td>...</td>\n",
       "      <td>6.0</td>\n",
       "      <td>NaN</td>\n",
       "      <td>NaN</td>\n",
       "      <td>Celta de Vigo</td>\n",
       "      <td>CLV</td>\n",
       "      <td>8</td>\n",
       "      <td>51.0</td>\n",
       "      <td>44.0</td>\n",
       "      <td>67.0</td>\n",
       "      <td>13.0</td>\n",
       "    </tr>\n",
       "  </tbody>\n",
       "</table>\n",
       "<p>5 rows × 35 columns</p>\n",
       "</div>"
      ],
      "text/plain": [
       "                   round_id  \\\n",
       "team_id date                  \n",
       "36      2014-08-24    54887   \n",
       "        2014-08-30    54895   \n",
       "        2014-09-13    54903   \n",
       "        2014-09-20    54911   \n",
       "        2014-09-23    54921   \n",
       "\n",
       "                                                               scores  \\\n",
       "team_id date                                                            \n",
       "36      2014-08-24  {'localteam_score': 3, 'visitorteam_score': 1,...   \n",
       "        2014-08-30  {'localteam_score': 1, 'visitorteam_score': 1,...   \n",
       "        2014-09-13  {'localteam_score': 2, 'visitorteam_score': 2,...   \n",
       "        2014-09-20  {'localteam_score': 2, 'visitorteam_score': 2,...   \n",
       "        2014-09-23  {'localteam_score': 2, 'visitorteam_score': 1,...   \n",
       "\n",
       "                    winner_team_id  season_id season_start_year  \\\n",
       "team_id date                                                      \n",
       "36      2014-08-24            36.0       2061              2014   \n",
       "        2014-08-30             NaN       2061              2014   \n",
       "        2014-09-13             NaN       2061              2014   \n",
       "        2014-09-20             NaN       2061              2014   \n",
       "        2014-09-23            36.0       2061              2014   \n",
       "\n",
       "                    winning_odds_calculated  odd_value_1  odd_value_2  \\\n",
       "team_id date                                                            \n",
       "36      2014-08-24                     True          NaN          NaN   \n",
       "        2014-08-30                     True          NaN          NaN   \n",
       "        2014-09-13                     True          NaN          NaN   \n",
       "        2014-09-20                     True          NaN          NaN   \n",
       "        2014-09-23                     True          NaN          NaN   \n",
       "\n",
       "                    odd_value_X  odd_winning_1  ...  points_current_season  \\\n",
       "team_id date                                    ...                          \n",
       "36      2014-08-24          NaN            NaN  ...                    0.0   \n",
       "        2014-08-30          NaN            NaN  ...                    3.0   \n",
       "        2014-09-13          NaN            NaN  ...                    4.0   \n",
       "        2014-09-20          NaN            NaN  ...                    5.0   \n",
       "        2014-09-23          NaN            NaN  ...                    6.0   \n",
       "\n",
       "                    winning_odds  points_won_last_5_games_sum           name  \\\n",
       "team_id date                                                                   \n",
       "36      2014-08-24           NaN                          NaN  Celta de Vigo   \n",
       "        2014-08-30           NaN                          NaN  Celta de Vigo   \n",
       "        2014-09-13           NaN                          NaN  Celta de Vigo   \n",
       "        2014-09-20           NaN                          NaN  Celta de Vigo   \n",
       "        2014-09-23           NaN                          NaN  Celta de Vigo   \n",
       "\n",
       "                    short_code position_end_season  \\\n",
       "team_id date                                         \n",
       "36      2014-08-24         CLV                   8   \n",
       "        2014-08-30         CLV                   8   \n",
       "        2014-09-13         CLV                   8   \n",
       "        2014-09-20         CLV                   8   \n",
       "        2014-09-23         CLV                   8   \n",
       "\n",
       "                    goals_scored_current_season_lag_1  \\\n",
       "team_id date                                            \n",
       "36      2014-08-24                               51.0   \n",
       "        2014-08-30                               51.0   \n",
       "        2014-09-13                               51.0   \n",
       "        2014-09-20                               51.0   \n",
       "        2014-09-23                               51.0   \n",
       "\n",
       "                    points_current_season_lag_1  \\\n",
       "team_id date                                      \n",
       "36      2014-08-24                         44.0   \n",
       "        2014-08-30                         44.0   \n",
       "        2014-09-13                         44.0   \n",
       "        2014-09-20                         44.0   \n",
       "        2014-09-23                         44.0   \n",
       "\n",
       "                    goals_conceded_current_season_lag_1  \\\n",
       "team_id date                                              \n",
       "36      2014-08-24                                 67.0   \n",
       "        2014-08-30                                 67.0   \n",
       "        2014-09-13                                 67.0   \n",
       "        2014-09-20                                 67.0   \n",
       "        2014-09-23                                 67.0   \n",
       "\n",
       "                    position_end_season_lag_1  \n",
       "team_id date                                   \n",
       "36      2014-08-24                       13.0  \n",
       "        2014-08-30                       13.0  \n",
       "        2014-09-13                       13.0  \n",
       "        2014-09-20                       13.0  \n",
       "        2014-09-23                       13.0  \n",
       "\n",
       "[5 rows x 35 columns]"
      ]
     },
     "execution_count": 153,
     "metadata": {},
     "output_type": "execute_result"
    }
   ],
   "source": [
    "fixtures_and_odds = pd.read_csv('../data/fixtures_and_odds_La Liga_2014-07-01_2020-07-01.csv').drop(columns='Unnamed: 0')\n",
    "fixtures_and_odds = pd.merge(fixtures_and_odds, season_data[['season_id', 'season_name']], on='season_id', how='left')\n",
    "fixtures_and_odds['season_start_year'] = fixtures_and_odds['season_name'].apply(lambda x: x.split('/')[0])\n",
    "fixtures_and_odds['date_time'] = pd.to_datetime(fixtures_and_odds['time'].apply(lambda x: eval(x)['starting_at']['date_time']))\n",
    "fixtures_and_odds['year'] = fixtures_and_odds['date_time'].dt.year\n",
    "fixtures_and_odds['month'] = fixtures_and_odds['date_time'].dt.month\n",
    "fixtures_and_odds['date'] = pd.to_datetime(fixtures_and_odds['date_time'].dt.date)\n",
    "fixtures_and_odds['round_id'] = fixtures_and_odds['round_id'].apply(lambda x: np.nan if math.isnan(x) else str(int(x)))\n",
    "date_to_season = fixtures_and_odds.groupby('date')[['season_id']].first()\n",
    "standings_data = pd.read_csv('../data/standings_La Liga.csv')\n",
    "data = {'fixtures': fixtures_and_odds, 'standings': standings_data, 'teams': team_data}\n",
    "data['fixtures'] = unpivot_fixtures_by_odds(data)\n",
    "\n",
    "\n",
    "team_date_pipeline =  Pipeline([\n",
    "    ('pivot_fixtures_by_team', pivot_fixtures_by_team, {}),\n",
    "    ('get_scores', get_scores, {}),\n",
    "    ('get_results', get_results, {}),\n",
    "    ('get_games_played', get_games_played_current_season, {}),\n",
    "    ('get_cumulative_results', get_cumulative_results_current_season, {}),\n",
    "    ('get_winning_odds', get_winning_odds, {}),\n",
    "    ('rolling_results', get_rolling_results, {}),\n",
    "])\n",
    "fixture_features = team_date_pipeline.transform(data)\n",
    "\n",
    "teams = pd.read_csv('../data/teams_league_La Liga.csv').rename(columns={'id': 'team_id'}).groupby('team_id')[['name', 'short_code']].first()\n",
    "fixture_features = fixture_features.join(teams, how='outer')\n",
    "data['fixture_features'] = fixture_features\n",
    "\n",
    "team_season_pipeline =  Pipeline([\n",
    "    ('positions', compute_position_end_season, {}),\n",
    "    ('previous_season', compute_previous_season_features, {}),\n",
    "#    #('transfers', get_amount_transferred, {}),\n",
    "])\n",
    "team_season_features = team_season_pipeline.transform(data)\n",
    "\n",
    "fixture_features = pd.merge(\n",
    "    fixture_features.reset_index(),\n",
    "    team_season_features.reset_index(),\n",
    "    on=['team_id', 'season_id'],\n",
    "    how='left',\n",
    ").set_index(['team_id', 'date'])\n",
    "print(fixture_features.shape)\n",
    "fixture_features.head()\n",
    "\n",
    "#TO BE DONE: CHECK CUMULATIVE_RESULTS_CURRENT_SEASON, GROUPBY SHIFT NOT WORKING (DROPPING THE INDEX)"
   ]
  },
  {
   "cell_type": "code",
   "execution_count": 155,
   "metadata": {},
   "outputs": [
    {
     "data": {
      "text/plain": [
       "round_id                                                                           54887\n",
       "scores                                 {'localteam_score': 3, 'visitorteam_score': 1,...\n",
       "winner_team_id                                                                        36\n",
       "season_id                                                                           2061\n",
       "season_start_year                                                                   2014\n",
       "winning_odds_calculated                                                             True\n",
       "odd_value_1                                                                          NaN\n",
       "odd_value_2                                                                          NaN\n",
       "odd_value_X                                                                          NaN\n",
       "odd_winning_1                                                                        NaN\n",
       "odd_winning_2                                                                        NaN\n",
       "odd_winning_X                                                                        NaN\n",
       "local                                                                               True\n",
       "goals_scored                                                                           3\n",
       "goals_conceded                                                                         1\n",
       "result                                                                               win\n",
       "result_num                                                                             0\n",
       "draw                                                                                   0\n",
       "loss                                                                                   0\n",
       "win                                                                                    1\n",
       "games_played_current_season                                                            0\n",
       "win_current_season                                                                     0\n",
       "draw_current_season                                                                    0\n",
       "goals_scored_current_season                                                            0\n",
       "goals_conceded_current_season                                                          0\n",
       "points_current_season                                                                  0\n",
       "winning_odds                                                                         NaN\n",
       "points_won_last_5_games_sum                                                          NaN\n",
       "name                                                                       Celta de Vigo\n",
       "short_code                                                                           CLV\n",
       "position_end_season                                                                    8\n",
       "goals_scored_current_season_lag_1                                                     51\n",
       "points_current_season_lag_1                                                           44\n",
       "goals_conceded_current_season_lag_1                                                   67\n",
       "position_end_season_lag_1                                                             13\n",
       "Name: (36, 2014-08-24 00:00:00), dtype: object"
      ]
     },
     "execution_count": 155,
     "metadata": {},
     "output_type": "execute_result"
    }
   ],
   "source": [
    "fixture_features.iloc[0]"
   ]
  },
  {
   "cell_type": "markdown",
   "metadata": {},
   "source": [
    "## Feature engineering"
   ]
  },
  {
   "cell_type": "code",
   "execution_count": 162,
   "metadata": {},
   "outputs": [],
   "source": [
    "def add_difference_features(data, feature_names):\n",
    "    for name in feature_names:\n",
    "        data[f'difference_in_{name}'] = data[f'local_{name}'] - data[f'visitor_{name}']\n",
    "        \n",
    "    return data"
   ]
  },
  {
   "cell_type": "code",
   "execution_count": 174,
   "metadata": {},
   "outputs": [
    {
     "name": "stdout",
     "output_type": "stream",
     "text": [
      "(1900, 39)\n"
     ]
    },
    {
     "data": {
      "text/html": [
       "<div>\n",
       "<style scoped>\n",
       "    .dataframe tbody tr th:only-of-type {\n",
       "        vertical-align: middle;\n",
       "    }\n",
       "\n",
       "    .dataframe tbody tr th {\n",
       "        vertical-align: top;\n",
       "    }\n",
       "\n",
       "    .dataframe thead th {\n",
       "        text-align: right;\n",
       "    }\n",
       "</style>\n",
       "<table border=\"1\" class=\"dataframe\">\n",
       "  <thead>\n",
       "    <tr style=\"text-align: right;\">\n",
       "      <th></th>\n",
       "      <th>visitor_goals_scored_current_season</th>\n",
       "      <th>odd_value_X</th>\n",
       "      <th>odd_value_1</th>\n",
       "      <th>visitor_points_current_season</th>\n",
       "      <th>local_points_current_season_lag_1</th>\n",
       "      <th>visitor_position_end_season_lag_1</th>\n",
       "      <th>local_games_played_current_season</th>\n",
       "      <th>local_goals_conceded_current_season</th>\n",
       "      <th>local_position_end_season_lag_1</th>\n",
       "      <th>odd_value_2</th>\n",
       "      <th>...</th>\n",
       "      <th>difference_in_games_played_current_season</th>\n",
       "      <th>difference_in_goals_conceded_current_season</th>\n",
       "      <th>difference_in_position_end_season_lag_1</th>\n",
       "      <th>difference_in_goals_conceded_current_season_lag_1</th>\n",
       "      <th>difference_in_points_won_last_5_games_sum</th>\n",
       "      <th>difference_in_points_current_season</th>\n",
       "      <th>difference_in_goals_scored_current_season</th>\n",
       "      <th>difference_in_draw_current_season</th>\n",
       "      <th>difference_in_goals_scored_current_season_lag_1</th>\n",
       "      <th>difference_in_win_current_season</th>\n",
       "    </tr>\n",
       "    <tr>\n",
       "      <th>date</th>\n",
       "      <th></th>\n",
       "      <th></th>\n",
       "      <th></th>\n",
       "      <th></th>\n",
       "      <th></th>\n",
       "      <th></th>\n",
       "      <th></th>\n",
       "      <th></th>\n",
       "      <th></th>\n",
       "      <th></th>\n",
       "      <th></th>\n",
       "      <th></th>\n",
       "      <th></th>\n",
       "      <th></th>\n",
       "      <th></th>\n",
       "      <th></th>\n",
       "      <th></th>\n",
       "      <th></th>\n",
       "      <th></th>\n",
       "      <th></th>\n",
       "      <th></th>\n",
       "    </tr>\n",
       "  </thead>\n",
       "  <tbody>\n",
       "    <tr>\n",
       "      <th>2014-08-23</th>\n",
       "      <td>0.0</td>\n",
       "      <td>NaN</td>\n",
       "      <td>NaN</td>\n",
       "      <td>0.0</td>\n",
       "      <td>46.0</td>\n",
       "      <td>7.0</td>\n",
       "      <td>0.0</td>\n",
       "      <td>0.0</td>\n",
       "      <td>11.0</td>\n",
       "      <td>NaN</td>\n",
       "      <td>...</td>\n",
       "      <td>0.0</td>\n",
       "      <td>0.0</td>\n",
       "      <td>4.0</td>\n",
       "      <td>13.0</td>\n",
       "      <td>NaN</td>\n",
       "      <td>0.0</td>\n",
       "      <td>0.0</td>\n",
       "      <td>0.0</td>\n",
       "      <td>-3.0</td>\n",
       "      <td>0.0</td>\n",
       "    </tr>\n",
       "    <tr>\n",
       "      <th>2014-08-23</th>\n",
       "      <td>0.0</td>\n",
       "      <td>NaN</td>\n",
       "      <td>NaN</td>\n",
       "      <td>0.0</td>\n",
       "      <td>69.0</td>\n",
       "      <td>12.0</td>\n",
       "      <td>0.0</td>\n",
       "      <td>0.0</td>\n",
       "      <td>4.0</td>\n",
       "      <td>NaN</td>\n",
       "      <td>...</td>\n",
       "      <td>0.0</td>\n",
       "      <td>0.0</td>\n",
       "      <td>-8.0</td>\n",
       "      <td>-13.0</td>\n",
       "      <td>NaN</td>\n",
       "      <td>0.0</td>\n",
       "      <td>0.0</td>\n",
       "      <td>0.0</td>\n",
       "      <td>9.0</td>\n",
       "      <td>0.0</td>\n",
       "    </tr>\n",
       "    <tr>\n",
       "      <th>2014-08-23</th>\n",
       "      <td>0.0</td>\n",
       "      <td>NaN</td>\n",
       "      <td>NaN</td>\n",
       "      <td>0.0</td>\n",
       "      <td>20.0</td>\n",
       "      <td>16.0</td>\n",
       "      <td>0.0</td>\n",
       "      <td>0.0</td>\n",
       "      <td>20.0</td>\n",
       "      <td>NaN</td>\n",
       "      <td>...</td>\n",
       "      <td>0.0</td>\n",
       "      <td>0.0</td>\n",
       "      <td>4.0</td>\n",
       "      <td>19.0</td>\n",
       "      <td>NaN</td>\n",
       "      <td>0.0</td>\n",
       "      <td>0.0</td>\n",
       "      <td>0.0</td>\n",
       "      <td>-11.0</td>\n",
       "      <td>0.0</td>\n",
       "    </tr>\n",
       "    <tr>\n",
       "      <th>2014-08-23</th>\n",
       "      <td>0.0</td>\n",
       "      <td>NaN</td>\n",
       "      <td>NaN</td>\n",
       "      <td>0.0</td>\n",
       "      <td>NaN</td>\n",
       "      <td>8.0</td>\n",
       "      <td>0.0</td>\n",
       "      <td>0.0</td>\n",
       "      <td>NaN</td>\n",
       "      <td>NaN</td>\n",
       "      <td>...</td>\n",
       "      <td>0.0</td>\n",
       "      <td>0.0</td>\n",
       "      <td>NaN</td>\n",
       "      <td>NaN</td>\n",
       "      <td>NaN</td>\n",
       "      <td>0.0</td>\n",
       "      <td>0.0</td>\n",
       "      <td>0.0</td>\n",
       "      <td>NaN</td>\n",
       "      <td>0.0</td>\n",
       "    </tr>\n",
       "    <tr>\n",
       "      <th>2014-08-24</th>\n",
       "      <td>0.0</td>\n",
       "      <td>NaN</td>\n",
       "      <td>NaN</td>\n",
       "      <td>0.0</td>\n",
       "      <td>54.0</td>\n",
       "      <td>6.0</td>\n",
       "      <td>0.0</td>\n",
       "      <td>0.0</td>\n",
       "      <td>10.0</td>\n",
       "      <td>NaN</td>\n",
       "      <td>...</td>\n",
       "      <td>0.0</td>\n",
       "      <td>0.0</td>\n",
       "      <td>4.0</td>\n",
       "      <td>-4.0</td>\n",
       "      <td>NaN</td>\n",
       "      <td>0.0</td>\n",
       "      <td>0.0</td>\n",
       "      <td>0.0</td>\n",
       "      <td>-3.0</td>\n",
       "      <td>0.0</td>\n",
       "    </tr>\n",
       "  </tbody>\n",
       "</table>\n",
       "<p>5 rows × 39 columns</p>\n",
       "</div>"
      ],
      "text/plain": [
       "            visitor_goals_scored_current_season  odd_value_X  odd_value_1  \\\n",
       "date                                                                        \n",
       "2014-08-23                                  0.0          NaN          NaN   \n",
       "2014-08-23                                  0.0          NaN          NaN   \n",
       "2014-08-23                                  0.0          NaN          NaN   \n",
       "2014-08-23                                  0.0          NaN          NaN   \n",
       "2014-08-24                                  0.0          NaN          NaN   \n",
       "\n",
       "            visitor_points_current_season  local_points_current_season_lag_1  \\\n",
       "date                                                                           \n",
       "2014-08-23                            0.0                               46.0   \n",
       "2014-08-23                            0.0                               69.0   \n",
       "2014-08-23                            0.0                               20.0   \n",
       "2014-08-23                            0.0                                NaN   \n",
       "2014-08-24                            0.0                               54.0   \n",
       "\n",
       "            visitor_position_end_season_lag_1  \\\n",
       "date                                            \n",
       "2014-08-23                                7.0   \n",
       "2014-08-23                               12.0   \n",
       "2014-08-23                               16.0   \n",
       "2014-08-23                                8.0   \n",
       "2014-08-24                                6.0   \n",
       "\n",
       "            local_games_played_current_season  \\\n",
       "date                                            \n",
       "2014-08-23                                0.0   \n",
       "2014-08-23                                0.0   \n",
       "2014-08-23                                0.0   \n",
       "2014-08-23                                0.0   \n",
       "2014-08-24                                0.0   \n",
       "\n",
       "            local_goals_conceded_current_season  \\\n",
       "date                                              \n",
       "2014-08-23                                  0.0   \n",
       "2014-08-23                                  0.0   \n",
       "2014-08-23                                  0.0   \n",
       "2014-08-23                                  0.0   \n",
       "2014-08-24                                  0.0   \n",
       "\n",
       "            local_position_end_season_lag_1  odd_value_2  ...  \\\n",
       "date                                                      ...   \n",
       "2014-08-23                             11.0          NaN  ...   \n",
       "2014-08-23                              4.0          NaN  ...   \n",
       "2014-08-23                             20.0          NaN  ...   \n",
       "2014-08-23                              NaN          NaN  ...   \n",
       "2014-08-24                             10.0          NaN  ...   \n",
       "\n",
       "            difference_in_games_played_current_season  \\\n",
       "date                                                    \n",
       "2014-08-23                                        0.0   \n",
       "2014-08-23                                        0.0   \n",
       "2014-08-23                                        0.0   \n",
       "2014-08-23                                        0.0   \n",
       "2014-08-24                                        0.0   \n",
       "\n",
       "            difference_in_goals_conceded_current_season  \\\n",
       "date                                                      \n",
       "2014-08-23                                          0.0   \n",
       "2014-08-23                                          0.0   \n",
       "2014-08-23                                          0.0   \n",
       "2014-08-23                                          0.0   \n",
       "2014-08-24                                          0.0   \n",
       "\n",
       "            difference_in_position_end_season_lag_1  \\\n",
       "date                                                  \n",
       "2014-08-23                                      4.0   \n",
       "2014-08-23                                     -8.0   \n",
       "2014-08-23                                      4.0   \n",
       "2014-08-23                                      NaN   \n",
       "2014-08-24                                      4.0   \n",
       "\n",
       "            difference_in_goals_conceded_current_season_lag_1  \\\n",
       "date                                                            \n",
       "2014-08-23                                               13.0   \n",
       "2014-08-23                                              -13.0   \n",
       "2014-08-23                                               19.0   \n",
       "2014-08-23                                                NaN   \n",
       "2014-08-24                                               -4.0   \n",
       "\n",
       "            difference_in_points_won_last_5_games_sum  \\\n",
       "date                                                    \n",
       "2014-08-23                                        NaN   \n",
       "2014-08-23                                        NaN   \n",
       "2014-08-23                                        NaN   \n",
       "2014-08-23                                        NaN   \n",
       "2014-08-24                                        NaN   \n",
       "\n",
       "            difference_in_points_current_season  \\\n",
       "date                                              \n",
       "2014-08-23                                  0.0   \n",
       "2014-08-23                                  0.0   \n",
       "2014-08-23                                  0.0   \n",
       "2014-08-23                                  0.0   \n",
       "2014-08-24                                  0.0   \n",
       "\n",
       "            difference_in_goals_scored_current_season  \\\n",
       "date                                                    \n",
       "2014-08-23                                        0.0   \n",
       "2014-08-23                                        0.0   \n",
       "2014-08-23                                        0.0   \n",
       "2014-08-23                                        0.0   \n",
       "2014-08-24                                        0.0   \n",
       "\n",
       "            difference_in_draw_current_season  \\\n",
       "date                                            \n",
       "2014-08-23                                0.0   \n",
       "2014-08-23                                0.0   \n",
       "2014-08-23                                0.0   \n",
       "2014-08-23                                0.0   \n",
       "2014-08-24                                0.0   \n",
       "\n",
       "            difference_in_goals_scored_current_season_lag_1  \\\n",
       "date                                                          \n",
       "2014-08-23                                             -3.0   \n",
       "2014-08-23                                              9.0   \n",
       "2014-08-23                                            -11.0   \n",
       "2014-08-23                                              NaN   \n",
       "2014-08-24                                             -3.0   \n",
       "\n",
       "            difference_in_win_current_season  \n",
       "date                                          \n",
       "2014-08-23                               0.0  \n",
       "2014-08-23                               0.0  \n",
       "2014-08-23                               0.0  \n",
       "2014-08-23                               0.0  \n",
       "2014-08-24                               0.0  \n",
       "\n",
       "[5 rows x 39 columns]"
      ]
     },
     "execution_count": 174,
     "metadata": {},
     "output_type": "execute_result"
    }
   ],
   "source": [
    "feature_matrix = data['fixtures'].copy()\n",
    "feature_matrix['date'] = pd.to_datetime(feature_matrix['date'])\n",
    "feature_matrix = pd.merge(\n",
    "    feature_matrix,\n",
    "    fixture_features.add_prefix('local_').reset_index().rename(columns={'team_id': 'localteam_id'}),\n",
    "    on=['localteam_id', 'date'],\n",
    "    how='left'\n",
    ")\n",
    "feature_matrix = pd.merge(\n",
    "    feature_matrix,\n",
    "    fixture_features.add_prefix('visitor_').reset_index().rename(columns={'team_id': 'visitorteam_id'}),\n",
    "    on=['visitorteam_id', 'date'],\n",
    "    how='left'\n",
    ")\n",
    "rename_columns = ['local_result_num']#, 'local_odd_value_X', 'local_odd_value_1', 'local_odd_value_2']\n",
    "feature_matrix = feature_matrix\\\n",
    "    .rename(columns={c: c.split('local_')[1] for c in rename_columns})\\\n",
    "    .dropna(subset=['result_num'])\\\n",
    "    .set_index('date')\\\n",
    "    .sort_index()\n",
    "\n",
    "odd_feature_names = ['odd_value_1', 'odd_value_X', 'odd_value_2']\n",
    "transfer_feature_names = [col for col in feature_matrix if 'transfer' in col]\n",
    "lag_feature_names = [col for col in feature_matrix if 'lag' in col]\n",
    "current_season_feature_names = [col for col in feature_matrix if 'current_season' in col]\n",
    "last_games_feature_names = [col for col in feature_matrix if '_last_' in col]\n",
    "feature_names = list(set(odd_feature_names + transfer_feature_names + lag_feature_names + current_season_feature_names + last_games_feature_names))\n",
    "difference_features = [col.split('local_')[1] for col in feature_names if 'local_' in col]\n",
    "useful_columns = ['visitor_name', 'local_name']\n",
    "target_name = 'result_num'\n",
    "feature_matrix = feature_matrix.copy()[feature_names +  useful_columns + [target_name]]\n",
    "feature_matrix = add_difference_features(feature_matrix, difference_features)\n",
    "feature_names = feature_names + [col for col in feature_matrix if 'difference' in col]\n",
    "print(feature_matrix.shape)\n",
    "feature_matrix.head()"
   ]
  },
  {
   "cell_type": "code",
   "execution_count": 175,
   "metadata": {},
   "outputs": [],
   "source": [
    "assert feature_matrix.reset_index().duplicated(subset=['visitor_name', 'local_name', 'date']).sum() == 0, 'Duplicated games'"
   ]
  },
  {
   "cell_type": "markdown",
   "metadata": {},
   "source": [
    "## Modelling"
   ]
  },
  {
   "cell_type": "code",
   "execution_count": 176,
   "metadata": {},
   "outputs": [],
   "source": [
    "from xgboost import XGBClassifier, plot_tree\n",
    "from sklearn.model_selection import KFold, TimeSeriesSplit\n",
    "from sklearn.metrics import classification_report, log_loss\n",
    "\n",
    "\n",
    "def highest_odd_predict(features_train, target_train, features_test):\n",
    "    predictions = features_test[['odd_value_1', 'odd_value_X', 'odd_value_2']]\\\n",
    "        .idxmax(axis=1).map({'odd_value_1': 0, 'odd_value_X': 1, 'odd_value_2': 2})\n",
    "    return predictions, _\n",
    "\n",
    "def xgboost_fit_predict(features_train, target_train, features_test):\n",
    "    xgb.fit(features_train, target_train)\n",
    "    predictions = xgb.predict(features_test)\n",
    "    predictions_proba = xgb.predict_proba(features_test)\n",
    "    return predictions, predictions_proba, xgb"
   ]
  },
  {
   "cell_type": "code",
   "execution_count": 177,
   "metadata": {},
   "outputs": [
    {
     "data": {
      "text/plain": [
       "visitor_goals_scored_current_season                  0.000000\n",
       "odd_value_X                                          0.800000\n",
       "odd_value_1                                          0.800000\n",
       "visitor_points_current_season                        0.000000\n",
       "local_points_current_season_lag_1                    0.290000\n",
       "visitor_position_end_season_lag_1                    0.290000\n",
       "local_games_played_current_season                    0.000000\n",
       "local_goals_conceded_current_season                  0.000000\n",
       "local_position_end_season_lag_1                      0.290000\n",
       "odd_value_2                                          0.800000\n",
       "visitor_win_current_season                           0.000000\n",
       "local_goals_conceded_current_season_lag_1            0.290000\n",
       "visitor_goals_conceded_current_season                0.000000\n",
       "visitor_draw_current_season                          0.000000\n",
       "visitor_points_current_season_lag_1                  0.290000\n",
       "visitor_games_played_current_season                  0.000000\n",
       "visitor_goals_conceded_current_season_lag_1          0.290000\n",
       "visitor_points_won_last_5_games_sum                  0.038421\n",
       "local_points_won_last_5_games_sum                    0.037895\n",
       "local_points_current_season                          0.000000\n",
       "local_goals_scored_current_season                    0.000000\n",
       "visitor_goals_scored_current_season_lag_1            0.290000\n",
       "local_draw_current_season                            0.000000\n",
       "local_goals_scored_current_season_lag_1              0.290000\n",
       "local_win_current_season                             0.000000\n",
       "visitor_name                                         0.000000\n",
       "local_name                                           0.000000\n",
       "result_num                                           0.000000\n",
       "difference_in_points_current_season_lag_1            0.363158\n",
       "difference_in_games_played_current_season            0.000000\n",
       "difference_in_goals_conceded_current_season          0.000000\n",
       "difference_in_position_end_season_lag_1              0.363158\n",
       "difference_in_goals_conceded_current_season_lag_1    0.363158\n",
       "difference_in_points_won_last_5_games_sum            0.050000\n",
       "difference_in_points_current_season                  0.000000\n",
       "difference_in_goals_scored_current_season            0.000000\n",
       "difference_in_draw_current_season                    0.000000\n",
       "difference_in_goals_scored_current_season_lag_1      0.363158\n",
       "difference_in_win_current_season                     0.000000\n",
       "dtype: float64"
      ]
     },
     "execution_count": 177,
     "metadata": {},
     "output_type": "execute_result"
    }
   ],
   "source": [
    "feature_matrix.isnull().mean()"
   ]
  },
  {
   "cell_type": "code",
   "execution_count": 179,
   "metadata": {},
   "outputs": [
    {
     "name": "stdout",
     "output_type": "stream",
     "text": [
      "Predicting with features: ['visitor_goals_scored_current_season', 'odd_value_X', 'odd_value_1', 'visitor_points_current_season', 'local_points_current_season_lag_1', 'visitor_position_end_season_lag_1', 'local_games_played_current_season', 'local_goals_conceded_current_season', 'local_position_end_season_lag_1', 'odd_value_2', 'visitor_win_current_season', 'local_goals_conceded_current_season_lag_1', 'visitor_goals_conceded_current_season', 'visitor_draw_current_season', 'visitor_points_current_season_lag_1', 'visitor_games_played_current_season', 'visitor_goals_conceded_current_season_lag_1', 'visitor_points_won_last_5_games_sum', 'local_points_won_last_5_games_sum', 'local_points_current_season', 'local_goals_scored_current_season', 'visitor_goals_scored_current_season_lag_1', 'local_draw_current_season', 'local_goals_scored_current_season_lag_1', 'local_win_current_season', 'difference_in_points_current_season_lag_1', 'difference_in_games_played_current_season', 'difference_in_goals_conceded_current_season', 'difference_in_position_end_season_lag_1', 'difference_in_goals_conceded_current_season_lag_1', 'difference_in_points_won_last_5_games_sum', 'difference_in_points_current_season', 'difference_in_goals_scored_current_season', 'difference_in_draw_current_season', 'difference_in_goals_scored_current_season_lag_1', 'difference_in_win_current_season']\n",
      "Accuracy: 0.46\n",
      "log-loss: 1.17\n",
      "              precision    recall  f1-score   support\n",
      "\n",
      "         win       0.52      0.68      0.59       117\n",
      "        draw       0.35      0.30      0.32        74\n",
      "        loss       0.43      0.29      0.34        80\n",
      "\n",
      "   micro avg       0.46      0.46      0.46       271\n",
      "   macro avg       0.43      0.42      0.42       271\n",
      "weighted avg       0.45      0.46      0.44       271\n",
      "\n",
      "Accuracy: 0.46\n",
      "log-loss: 1.13\n",
      "              precision    recall  f1-score   support\n",
      "\n",
      "         win       0.57      0.52      0.54       129\n",
      "        draw       0.30      0.27      0.28        66\n",
      "        loss       0.42      0.51      0.46        76\n",
      "\n",
      "   micro avg       0.46      0.46      0.46       271\n",
      "   macro avg       0.43      0.44      0.43       271\n",
      "weighted avg       0.46      0.46      0.46       271\n",
      "\n",
      "Accuracy: 0.54\n",
      "log-loss: 0.97\n",
      "              precision    recall  f1-score   support\n",
      "\n",
      "         win       0.61      0.79      0.69       136\n",
      "        draw       0.00      0.00      0.00        62\n",
      "        loss       0.44      0.51      0.47        73\n",
      "\n",
      "   micro avg       0.54      0.54      0.54       271\n",
      "   macro avg       0.35      0.43      0.39       271\n",
      "weighted avg       0.42      0.54      0.47       271\n",
      "\n",
      "Accuracy: 0.5\n",
      "log-loss: 1.02\n",
      "              precision    recall  f1-score   support\n",
      "\n",
      "         win       0.55      0.76      0.63       123\n",
      "        draw       0.15      0.10      0.12        63\n",
      "        loss       0.60      0.44      0.50        85\n",
      "\n",
      "   micro avg       0.50      0.50      0.50       271\n",
      "   macro avg       0.43      0.43      0.42       271\n",
      "weighted avg       0.47      0.50      0.47       271\n",
      "\n",
      "Accuracy: 0.45\n",
      "log-loss: 1.09\n",
      "              precision    recall  f1-score   support\n",
      "\n",
      "         win       0.50      0.72      0.59       119\n",
      "        draw       0.32      0.13      0.18        71\n",
      "        loss       0.40      0.35      0.37        81\n",
      "\n",
      "   micro avg       0.45      0.45      0.45       271\n",
      "   macro avg       0.41      0.40      0.38       271\n",
      "weighted avg       0.42      0.45      0.42       271\n",
      "\n",
      "Accuracy: 0.45\n",
      "log-loss: 1.07\n",
      "              precision    recall  f1-score   support\n",
      "\n",
      "         win       0.56      0.65      0.60       128\n",
      "        draw       0.26      0.25      0.26        73\n",
      "        loss       0.36      0.29      0.32        70\n",
      "\n",
      "   micro avg       0.45      0.45      0.45       271\n",
      "   macro avg       0.40      0.39      0.39       271\n",
      "weighted avg       0.43      0.45      0.44       271\n",
      "\n"
     ]
    }
   ],
   "source": [
    "from xgboost import XGBClassifier\n",
    "\n",
    "xgb = XGBClassifier(objective='multi:softmax', num_classes=3)\n",
    "print(f'Predicting with features: {feature_names}')\n",
    "predict_func = xgboost_fit_predict\n",
    "splitter = TimeSeriesSplit(6)\n",
    "for i, (train_ix, test_ix) in enumerate(splitter.split(feature_matrix.sort_index())):\n",
    "    features_train, target_train = feature_matrix.iloc[train_ix][feature_names], feature_matrix.iloc[train_ix][target_name]\n",
    "    features_test, target_test = feature_matrix.iloc[test_ix][feature_names], feature_matrix.iloc[test_ix][target_name]\n",
    "    predictions, predictions_proba, model = predict_func(features_train, target_train, features_test)\n",
    "    print(f'Accuracy: {round(np.mean(predictions == target_test.values), 2)}')\n",
    "    print(f'log-loss: {round(log_loss(target_test.values, predictions_proba), 2)}')\n",
    "    print(classification_report(target_test.values.reshape(-1), predictions, target_names=['win', 'draw', 'loss']))"
   ]
  },
  {
   "cell_type": "code",
   "execution_count": 180,
   "metadata": {},
   "outputs": [
    {
     "data": {
      "image/png": "[encoded data removed]",
      "text/plain": [
       "<Figure size 1440x1440 with 1 Axes>"
      ]
     },
     "metadata": {
      "needs_background": "light"
     },
     "output_type": "display_data"
    }
   ],
   "source": [
    "fig, ax = plt.subplots(figsize=(20, 20))\n",
    "feature_importances = pd.Series({f: imp for f, imp in zip(feature_names, model.feature_importances_)}).sort_values()\n",
    "ax.barh(feature_importances.index, feature_importances.values)\n",
    "plt.xticks(rotation=45)\n",
    "plt.show()"
   ]
  },
  {
   "cell_type": "code",
   "execution_count": 181,
   "metadata": {},
   "outputs": [
    {
     "name": "stderr",
     "output_type": "stream",
     "text": [
      "/Users/javiermas/py3/lib/python3.7/site-packages/sklearn/model_selection/_split.py:2053: FutureWarning:\n",
      "\n",
      "You should specify a value for 'cv' instead of relying on the default value. The default value will change from 3 to 5 in version 0.22.\n",
      "\n"
     ]
    },
    {
     "data": {
      "text/plain": [
       "RandomizedSearchCV(cv='warn', error_score='raise-deprecating',\n",
       "          estimator=XGBClassifier(base_score=0.5, booster='gbtree', colsample_bylevel=1,\n",
       "       colsample_bynode=1, colsample_bytree=1, gamma=0, learning_rate=0.1,\n",
       "       max_delta_step=0, max_depth=3, min_child_weight=1, missing=None,\n",
       "       n_estimators=100, n_jobs=1, nthread=None, num_classes=3,\n",
       "       objective='multi:softmax', random_state=0, reg_alpha=0,\n",
       "       reg_lambda=1, scale_pos_weight=1, seed=None, silent=None,\n",
       "       subsample=1, verbosity=1),\n",
       "          fit_params=None, iid='warn', n_iter=30, n_jobs=None,\n",
       "          param_distributions={'learning_rate': array([0.01   , 0.01099, 0.01207, 0.01326, 0.01456, 0.016  , 0.01758,\n",
       "       0.01931, 0.02121, 0.0233 , 0.0256 , 0.02812, 0.03089, 0.03393,\n",
       "       0.03728, 0.04095, 0.04498, 0.04942, 0.05429, 0.05964, 0.06551,\n",
       "       0.07197, 0.07906, 0.08685, 0.09541, 0.10481, ...39, 1.70612,\n",
       "       1.74286, 1.77959, 1.81633, 1.85306, 1.8898 , 1.92653, 1.96327,\n",
       "       2.     ])},\n",
       "          pre_dispatch='2*n_jobs', random_state=None, refit=True,\n",
       "          return_train_score='warn', scoring=None, verbose=0)"
      ]
     },
     "execution_count": 181,
     "metadata": {},
     "output_type": "execute_result"
    }
   ],
   "source": [
    "from sklearn.model_selection import RandomizedSearchCV\n",
    "\n",
    "def report(results, n_top=3):\n",
    "    for i in range(1, n_top + 1):\n",
    "        candidates = np.flatnonzero(results['rank_test_score'] == i)\n",
    "        for candidate in candidates:\n",
    "            print(\"Model with rank: {0}\".format(i))\n",
    "            print(\"Mean validation score: {0:.3f} (std: {1:.3f})\".format(\n",
    "                  results['mean_test_score'][candidate],\n",
    "                  results['std_test_score'][candidate]))\n",
    "            print(\"Parameters: {0}\".format(results['params'][candidate]))\n",
    "            print(\"\")\n",
    "        if i == 1:\n",
    "            top_parameters = results['params'][candidate]\n",
    "            \n",
    "    return top_parameters   \n",
    "\n",
    "\n",
    "space = {\n",
    "    'learning_rate': (np.geomspace(1e-2, 1)),\n",
    "    'max_depth': (range(1, 10)),\n",
    "    'gamma': (np.geomspace(1e-2, 1)),\n",
    "    'min_child_weight': (range(1, 10)),\n",
    "    'n_estimators': (range(30, 300)),\n",
    "    'reg_alpha': (np.linspace(0.2, 1)),\n",
    "    'reg_lambda': (np.linspace(0.2, 2)),\n",
    "}\n",
    "\n",
    "random_search = RandomizedSearchCV(XGBClassifier(objective='multi:softmax', num_classes=3), param_distributions=space, n_iter=30)\n",
    "random_search.fit(feature_matrix[feature_names], feature_matrix[target_name])"
   ]
  },
  {
   "cell_type": "code",
   "execution_count": 183,
   "metadata": {},
   "outputs": [
    {
     "name": "stdout",
     "output_type": "stream",
     "text": [
      "Model with rank: 1\n",
      "Mean validation score: 0.527 (std: 0.013)\n",
      "Parameters: {'reg_lambda': 1.3020408163265307, 'reg_alpha': 0.4938775510204082, 'n_estimators': 146, 'min_child_weight': 8, 'max_depth': 1, 'learning_rate': 0.04498432668969444, 'gamma': 0.09540954763499938}\n",
      "\n",
      "Model with rank: 2\n",
      "Mean validation score: 0.510 (std: 0.008)\n",
      "Parameters: {'reg_lambda': 1.5224489795918368, 'reg_alpha': 0.3959183673469388, 'n_estimators': 72, 'min_child_weight': 8, 'max_depth': 4, 'learning_rate': 0.015998587196060583, 'gamma': 0.0372759372031494}\n",
      "\n",
      "Model with rank: 3\n",
      "Mean validation score: 0.508 (std: 0.014)\n",
      "Parameters: {'reg_lambda': 0.5306122448979592, 'reg_alpha': 0.9020408163265308, 'n_estimators': 34, 'min_child_weight': 8, 'max_depth': 1, 'learning_rate': 0.07196856730011521, 'gamma': 0.09540954763499938}\n",
      "\n",
      "Model with rank: 3\n",
      "Mean validation score: 0.508 (std: 0.014)\n",
      "Parameters: {'reg_lambda': 1.5591836734693878, 'reg_alpha': 0.28163265306122454, 'n_estimators': 152, 'min_child_weight': 2, 'max_depth': 1, 'learning_rate': 0.012067926406393288, 'gamma': 0.07196856730011521}\n",
      "\n"
     ]
    }
   ],
   "source": [
    "top_parameters = report(random_search.cv_results_)"
   ]
  },
  {
   "cell_type": "code",
   "execution_count": 184,
   "metadata": {},
   "outputs": [],
   "source": [
    "#top_parameters = {'reg_lambda': 0.8244897959183675, 'reg_alpha': 0.8204081632653062, 'n_estimators': 91, 'min_child_weight': 4, 'max_depth': 4, 'learning_rate': 0.010985411419875584, 'gamma': 0.025595479226995357}"
   ]
  },
  {
   "cell_type": "code",
   "execution_count": 185,
   "metadata": {},
   "outputs": [
    {
     "name": "stdout",
     "output_type": "stream",
     "text": [
      "Accuracy: 0.48\n",
      "log-loss: 1.02\n",
      "              precision    recall  f1-score   support\n",
      "\n",
      "         win       0.52      0.79      0.63       117\n",
      "        draw       0.32      0.18      0.23        74\n",
      "        loss       0.50      0.31      0.38        80\n",
      "\n",
      "   micro avg       0.48      0.48      0.48       271\n",
      "   macro avg       0.44      0.43      0.41       271\n",
      "weighted avg       0.46      0.48      0.45       271\n",
      "\n",
      "Accuracy: 0.5\n",
      "log-loss: 1.0\n",
      "              precision    recall  f1-score   support\n",
      "\n",
      "         win       0.56      0.71      0.63       129\n",
      "        draw       0.33      0.08      0.12        66\n",
      "        loss       0.42      0.51      0.46        76\n",
      "\n",
      "   micro avg       0.50      0.50      0.50       271\n",
      "   macro avg       0.44      0.43      0.41       271\n",
      "weighted avg       0.47      0.50      0.46       271\n",
      "\n",
      "Accuracy: 0.55\n",
      "log-loss: 0.98\n",
      "              precision    recall  f1-score   support\n",
      "\n",
      "         win       0.56      0.89      0.69       136\n",
      "        draw       0.00      0.00      0.00        62\n",
      "        loss       0.53      0.40      0.45        73\n",
      "\n",
      "   micro avg       0.55      0.55      0.55       271\n",
      "   macro avg       0.36      0.43      0.38       271\n",
      "weighted avg       0.42      0.55      0.47       271\n",
      "\n"
     ]
    },
    {
     "name": "stderr",
     "output_type": "stream",
     "text": [
      "/Users/javiermas/py3/lib/python3.7/site-packages/sklearn/metrics/classification.py:1143: UndefinedMetricWarning:\n",
      "\n",
      "Precision and F-score are ill-defined and being set to 0.0 in labels with no predicted samples.\n",
      "\n"
     ]
    },
    {
     "name": "stdout",
     "output_type": "stream",
     "text": [
      "Accuracy: 0.53\n",
      "log-loss: 0.99\n",
      "              precision    recall  f1-score   support\n",
      "\n",
      "         win       0.54      0.83      0.65       123\n",
      "        draw       0.10      0.02      0.03        63\n",
      "        loss       0.56      0.47      0.51        85\n",
      "\n",
      "   micro avg       0.53      0.53      0.53       271\n",
      "   macro avg       0.40      0.44      0.40       271\n",
      "weighted avg       0.44      0.53      0.46       271\n",
      "\n",
      "Accuracy: 0.5\n",
      "log-loss: 1.03\n",
      "              precision    recall  f1-score   support\n",
      "\n",
      "         win       0.50      0.87      0.64       119\n",
      "        draw       0.60      0.04      0.08        71\n",
      "        loss       0.50      0.36      0.42        81\n",
      "\n",
      "   micro avg       0.50      0.50      0.50       271\n",
      "   macro avg       0.53      0.42      0.38       271\n",
      "weighted avg       0.53      0.50      0.42       271\n",
      "\n",
      "Accuracy: 0.48\n",
      "log-loss: 1.01\n",
      "              precision    recall  f1-score   support\n",
      "\n",
      "         win       0.51      0.80      0.62       128\n",
      "        draw       0.42      0.07      0.12        73\n",
      "        loss       0.40      0.34      0.37        70\n",
      "\n",
      "   micro avg       0.48      0.48      0.48       271\n",
      "   macro avg       0.44      0.40      0.37       271\n",
      "weighted avg       0.46      0.48      0.42       271\n",
      "\n"
     ]
    }
   ],
   "source": [
    "from xgboost import XGBClassifier\n",
    "\n",
    "xgb = XGBClassifier(objective='multi:softmax', num_classes=3, **top_parameters)\n",
    "predict_func = xgboost_fit_predict\n",
    "splitter = TimeSeriesSplit(6)\n",
    "all_predictions = []\n",
    "for train_ix, test_ix in splitter.split(feature_matrix):\n",
    "    features_train, target_train = feature_matrix.iloc[train_ix][feature_names], feature_matrix.iloc[train_ix][target_name]\n",
    "    features_test, target_test = feature_matrix.iloc[test_ix][feature_names], feature_matrix.iloc[test_ix][target_name]\n",
    "    predictions, predictions_proba,  model = predict_func(features_train, target_train, features_test)\n",
    "    print(f'Accuracy: {round(np.mean(predictions == target_test.values), 2)}')\n",
    "    print(f'log-loss: {round(log_loss(target_test.values, predictions_proba), 2)}')\n",
    "    print(classification_report(target_test.values.reshape(-1), predictions, target_names=['win', 'draw', 'loss']))"
   ]
  },
  {
   "cell_type": "code",
   "execution_count": 186,
   "metadata": {},
   "outputs": [
    {
     "name": "stdout",
     "output_type": "stream",
     "text": [
      "Accuracy: 0.55\n",
      "log-loss: 1.01\n",
      "              precision    recall  f1-score   support\n",
      "\n",
      "         win       0.58      0.83      0.68        41\n",
      "        draw       0.00      0.00      0.00        23\n",
      "        loss       0.50      0.58      0.54        31\n",
      "\n",
      "   micro avg       0.55      0.55      0.55        95\n",
      "   macro avg       0.36      0.47      0.41        95\n",
      "weighted avg       0.41      0.55      0.47        95\n",
      "\n",
      "Accuracy: 0.58\n",
      "log-loss: 0.91\n",
      "              precision    recall  f1-score   support\n",
      "\n",
      "         win       0.74      0.63      0.68        54\n",
      "        draw       0.38      0.20      0.26        15\n",
      "        loss       0.44      0.69      0.54        26\n",
      "\n",
      "   micro avg       0.58      0.58      0.58        95\n",
      "   macro avg       0.52      0.51      0.49        95\n",
      "weighted avg       0.60      0.58      0.57        95\n",
      "\n"
     ]
    },
    {
     "name": "stderr",
     "output_type": "stream",
     "text": [
      "/Users/javiermas/py3/lib/python3.7/site-packages/sklearn/metrics/classification.py:1143: UndefinedMetricWarning:\n",
      "\n",
      "Precision and F-score are ill-defined and being set to 0.0 in labels with no predicted samples.\n",
      "\n"
     ]
    },
    {
     "name": "stdout",
     "output_type": "stream",
     "text": [
      "Accuracy: 0.52\n",
      "log-loss: 1.01\n",
      "              precision    recall  f1-score   support\n",
      "\n",
      "         win       0.49      0.89      0.63        37\n",
      "        draw       0.75      0.10      0.18        29\n",
      "        loss       0.57      0.45      0.50        29\n",
      "\n",
      "   micro avg       0.52      0.52      0.52        95\n",
      "   macro avg       0.60      0.48      0.44        95\n",
      "weighted avg       0.59      0.52      0.45        95\n",
      "\n"
     ]
    }
   ],
   "source": [
    "splitter = TimeSeriesSplit(3)\n",
    "for train_ix, test_ix in splitter.split(feature_matrix.dropna(subset=['odd_value_X'])):\n",
    "    features_train, target_train = feature_matrix.iloc[train_ix][feature_names], feature_matrix.iloc[train_ix][target_name]\n",
    "    features_test, target_test = feature_matrix.iloc[test_ix][feature_names], feature_matrix.iloc[test_ix][target_name]\n",
    "    predictions, predictions_proba,  model = predict_func(features_train, target_train, features_test)\n",
    "    print(f'Accuracy: {round(np.mean(predictions == target_test.values), 2)}')\n",
    "    print(f'log-loss: {round(log_loss(target_test.values, predictions_proba), 2)}')\n",
    "    print(classification_report(target_test.values.reshape(-1), predictions, target_names=['win', 'draw', 'loss']))"
   ]
  },
  {
   "cell_type": "markdown",
   "metadata": {},
   "source": [
    "## Betting"
   ]
  },
  {
   "cell_type": "code",
   "execution_count": 187,
   "metadata": {},
   "outputs": [
    {
     "name": "stdout",
     "output_type": "stream",
     "text": [
      "(380, 40)\n"
     ]
    },
    {
     "data": {
      "text/html": [
       "<div>\n",
       "<style scoped>\n",
       "    .dataframe tbody tr th:only-of-type {\n",
       "        vertical-align: middle;\n",
       "    }\n",
       "\n",
       "    .dataframe tbody tr th {\n",
       "        vertical-align: top;\n",
       "    }\n",
       "\n",
       "    .dataframe thead th {\n",
       "        text-align: right;\n",
       "    }\n",
       "</style>\n",
       "<table border=\"1\" class=\"dataframe\">\n",
       "  <thead>\n",
       "    <tr style=\"text-align: right;\">\n",
       "      <th></th>\n",
       "      <th>date</th>\n",
       "      <th>visitor_goals_scored_current_season</th>\n",
       "      <th>odd_value_X</th>\n",
       "      <th>odd_value_1</th>\n",
       "      <th>visitor_points_current_season</th>\n",
       "      <th>local_points_current_season_lag_1</th>\n",
       "      <th>visitor_position_end_season_lag_1</th>\n",
       "      <th>local_games_played_current_season</th>\n",
       "      <th>local_goals_conceded_current_season</th>\n",
       "      <th>local_position_end_season_lag_1</th>\n",
       "      <th>...</th>\n",
       "      <th>difference_in_games_played_current_season</th>\n",
       "      <th>difference_in_goals_conceded_current_season</th>\n",
       "      <th>difference_in_position_end_season_lag_1</th>\n",
       "      <th>difference_in_goals_conceded_current_season_lag_1</th>\n",
       "      <th>difference_in_points_won_last_5_games_sum</th>\n",
       "      <th>difference_in_points_current_season</th>\n",
       "      <th>difference_in_goals_scored_current_season</th>\n",
       "      <th>difference_in_draw_current_season</th>\n",
       "      <th>difference_in_goals_scored_current_season_lag_1</th>\n",
       "      <th>difference_in_win_current_season</th>\n",
       "    </tr>\n",
       "  </thead>\n",
       "  <tbody>\n",
       "    <tr>\n",
       "      <th>0</th>\n",
       "      <td>2018-08-17</td>\n",
       "      <td>0.0</td>\n",
       "      <td>2.40</td>\n",
       "      <td>2.00</td>\n",
       "      <td>0.0</td>\n",
       "      <td>48.0</td>\n",
       "      <td>NaN</td>\n",
       "      <td>0.0</td>\n",
       "      <td>0.0</td>\n",
       "      <td>10.0</td>\n",
       "      <td>...</td>\n",
       "      <td>0.0</td>\n",
       "      <td>0.0</td>\n",
       "      <td>NaN</td>\n",
       "      <td>NaN</td>\n",
       "      <td>NaN</td>\n",
       "      <td>0.0</td>\n",
       "      <td>0.0</td>\n",
       "      <td>0.0</td>\n",
       "      <td>NaN</td>\n",
       "      <td>0.0</td>\n",
       "    </tr>\n",
       "    <tr>\n",
       "      <th>1</th>\n",
       "      <td>2018-08-17</td>\n",
       "      <td>0.0</td>\n",
       "      <td>2.75</td>\n",
       "      <td>1.83</td>\n",
       "      <td>0.0</td>\n",
       "      <td>60.0</td>\n",
       "      <td>15.0</td>\n",
       "      <td>0.0</td>\n",
       "      <td>0.0</td>\n",
       "      <td>6.0</td>\n",
       "      <td>...</td>\n",
       "      <td>0.0</td>\n",
       "      <td>0.0</td>\n",
       "      <td>-9.0</td>\n",
       "      <td>4.0</td>\n",
       "      <td>-7.0</td>\n",
       "      <td>0.0</td>\n",
       "      <td>0.0</td>\n",
       "      <td>0.0</td>\n",
       "      <td>16.0</td>\n",
       "      <td>0.0</td>\n",
       "    </tr>\n",
       "    <tr>\n",
       "      <th>2</th>\n",
       "      <td>2018-08-18</td>\n",
       "      <td>0.0</td>\n",
       "      <td>2.40</td>\n",
       "      <td>2.37</td>\n",
       "      <td>0.0</td>\n",
       "      <td>46.0</td>\n",
       "      <td>11.0</td>\n",
       "      <td>0.0</td>\n",
       "      <td>0.0</td>\n",
       "      <td>13.0</td>\n",
       "      <td>...</td>\n",
       "      <td>0.0</td>\n",
       "      <td>0.0</td>\n",
       "      <td>2.0</td>\n",
       "      <td>16.0</td>\n",
       "      <td>-8.0</td>\n",
       "      <td>0.0</td>\n",
       "      <td>0.0</td>\n",
       "      <td>0.0</td>\n",
       "      <td>20.0</td>\n",
       "      <td>0.0</td>\n",
       "    </tr>\n",
       "    <tr>\n",
       "      <th>3</th>\n",
       "      <td>2018-08-18</td>\n",
       "      <td>0.0</td>\n",
       "      <td>2.40</td>\n",
       "      <td>2.50</td>\n",
       "      <td>0.0</td>\n",
       "      <td>60.0</td>\n",
       "      <td>12.0</td>\n",
       "      <td>0.0</td>\n",
       "      <td>0.0</td>\n",
       "      <td>5.0</td>\n",
       "      <td>...</td>\n",
       "      <td>0.0</td>\n",
       "      <td>0.0</td>\n",
       "      <td>-7.0</td>\n",
       "      <td>-10.0</td>\n",
       "      <td>4.0</td>\n",
       "      <td>0.0</td>\n",
       "      <td>0.0</td>\n",
       "      <td>0.0</td>\n",
       "      <td>-11.0</td>\n",
       "      <td>0.0</td>\n",
       "    </tr>\n",
       "    <tr>\n",
       "      <th>4</th>\n",
       "      <td>2018-08-18</td>\n",
       "      <td>0.0</td>\n",
       "      <td>5.00</td>\n",
       "      <td>1.16</td>\n",
       "      <td>0.0</td>\n",
       "      <td>90.0</td>\n",
       "      <td>14.0</td>\n",
       "      <td>0.0</td>\n",
       "      <td>0.0</td>\n",
       "      <td>1.0</td>\n",
       "      <td>...</td>\n",
       "      <td>0.0</td>\n",
       "      <td>0.0</td>\n",
       "      <td>-13.0</td>\n",
       "      <td>-20.0</td>\n",
       "      <td>1.0</td>\n",
       "      <td>0.0</td>\n",
       "      <td>0.0</td>\n",
       "      <td>0.0</td>\n",
       "      <td>58.0</td>\n",
       "      <td>0.0</td>\n",
       "    </tr>\n",
       "  </tbody>\n",
       "</table>\n",
       "<p>5 rows × 40 columns</p>\n",
       "</div>"
      ],
      "text/plain": [
       "        date  visitor_goals_scored_current_season  odd_value_X  odd_value_1  \\\n",
       "0 2018-08-17                                  0.0         2.40         2.00   \n",
       "1 2018-08-17                                  0.0         2.75         1.83   \n",
       "2 2018-08-18                                  0.0         2.40         2.37   \n",
       "3 2018-08-18                                  0.0         2.40         2.50   \n",
       "4 2018-08-18                                  0.0         5.00         1.16   \n",
       "\n",
       "   visitor_points_current_season  local_points_current_season_lag_1  \\\n",
       "0                            0.0                               48.0   \n",
       "1                            0.0                               60.0   \n",
       "2                            0.0                               46.0   \n",
       "3                            0.0                               60.0   \n",
       "4                            0.0                               90.0   \n",
       "\n",
       "   visitor_position_end_season_lag_1  local_games_played_current_season  \\\n",
       "0                                NaN                                0.0   \n",
       "1                               15.0                                0.0   \n",
       "2                               11.0                                0.0   \n",
       "3                               12.0                                0.0   \n",
       "4                               14.0                                0.0   \n",
       "\n",
       "   local_goals_conceded_current_season  local_position_end_season_lag_1  ...  \\\n",
       "0                                  0.0                             10.0  ...   \n",
       "1                                  0.0                              6.0  ...   \n",
       "2                                  0.0                             13.0  ...   \n",
       "3                                  0.0                              5.0  ...   \n",
       "4                                  0.0                              1.0  ...   \n",
       "\n",
       "   difference_in_games_played_current_season  \\\n",
       "0                                        0.0   \n",
       "1                                        0.0   \n",
       "2                                        0.0   \n",
       "3                                        0.0   \n",
       "4                                        0.0   \n",
       "\n",
       "   difference_in_goals_conceded_current_season  \\\n",
       "0                                          0.0   \n",
       "1                                          0.0   \n",
       "2                                          0.0   \n",
       "3                                          0.0   \n",
       "4                                          0.0   \n",
       "\n",
       "   difference_in_position_end_season_lag_1  \\\n",
       "0                                      NaN   \n",
       "1                                     -9.0   \n",
       "2                                      2.0   \n",
       "3                                     -7.0   \n",
       "4                                    -13.0   \n",
       "\n",
       "   difference_in_goals_conceded_current_season_lag_1  \\\n",
       "0                                                NaN   \n",
       "1                                                4.0   \n",
       "2                                               16.0   \n",
       "3                                              -10.0   \n",
       "4                                              -20.0   \n",
       "\n",
       "   difference_in_points_won_last_5_games_sum  \\\n",
       "0                                        NaN   \n",
       "1                                       -7.0   \n",
       "2                                       -8.0   \n",
       "3                                        4.0   \n",
       "4                                        1.0   \n",
       "\n",
       "   difference_in_points_current_season  \\\n",
       "0                                  0.0   \n",
       "1                                  0.0   \n",
       "2                                  0.0   \n",
       "3                                  0.0   \n",
       "4                                  0.0   \n",
       "\n",
       "   difference_in_goals_scored_current_season  \\\n",
       "0                                        0.0   \n",
       "1                                        0.0   \n",
       "2                                        0.0   \n",
       "3                                        0.0   \n",
       "4                                        0.0   \n",
       "\n",
       "   difference_in_draw_current_season  \\\n",
       "0                                0.0   \n",
       "1                                0.0   \n",
       "2                                0.0   \n",
       "3                                0.0   \n",
       "4                                0.0   \n",
       "\n",
       "   difference_in_goals_scored_current_season_lag_1  \\\n",
       "0                                              NaN   \n",
       "1                                             16.0   \n",
       "2                                             20.0   \n",
       "3                                            -11.0   \n",
       "4                                             58.0   \n",
       "\n",
       "   difference_in_win_current_season  \n",
       "0                               0.0  \n",
       "1                               0.0  \n",
       "2                               0.0  \n",
       "3                               0.0  \n",
       "4                               0.0  \n",
       "\n",
       "[5 rows x 40 columns]"
      ]
     },
     "execution_count": 187,
     "metadata": {},
     "output_type": "execute_result"
    }
   ],
   "source": [
    "features_with_odds = feature_matrix.dropna(subset=['odd_value_X']).reset_index()\n",
    "print(features_with_odds.shape)\n",
    "features_with_odds.head()"
   ]
  },
  {
   "cell_type": "code",
   "execution_count": 191,
   "metadata": {},
   "outputs": [
    {
     "data": {
      "text/plain": [
       "XGBClassifier(base_score=0.5, booster='gbtree', colsample_bylevel=1,\n",
       "       colsample_bynode=1, colsample_bytree=1, gamma=0.09540954763499938,\n",
       "       learning_rate=0.04498432668969444, max_delta_step=0, max_depth=1,\n",
       "       min_child_weight=8, missing=None, n_estimators=146, n_jobs=1,\n",
       "       nthread=None, num_classes=3, objective='multi:softprob',\n",
       "       random_state=0, reg_alpha=0.4938775510204082,\n",
       "       reg_lambda=1.3020408163265307, scale_pos_weight=1, seed=None,\n",
       "       silent=None, subsample=1, verbosity=1)"
      ]
     },
     "execution_count": 191,
     "metadata": {},
     "output_type": "execute_result"
    }
   ],
   "source": [
    "xgb = XGBClassifier(objective='multi:softmax', num_classes=3, **top_parameters)\n",
    "last_training_date = features_with_odds['date'].min()\n",
    "features_training = feature_matrix.loc[feature_matrix.index.get_level_values('date') < last_training_date]\n",
    "xgb.fit(features_training[feature_names], features_training[target_name])"
   ]
  },
  {
   "cell_type": "code",
   "execution_count": 204,
   "metadata": {},
   "outputs": [
    {
     "name": "stdout",
     "output_type": "stream",
     "text": [
      "2018-08-17\n",
      "2018-09-02\n",
      "2018-09-27\n",
      "2018-10-21\n",
      "2018-11-10\n",
      "2018-12-07\n",
      "2018-12-23\n",
      "2019-01-18\n",
      "2019-02-04\n",
      "2019-02-23\n",
      "2019-03-15\n",
      "2019-04-07\n",
      "2019-04-27\n",
      "Done\n",
      "Accuracy over time: 0.4605263157894737\n",
      "log-loss over time: 1.0339094921162253\n"
     ]
    }
   ],
   "source": [
    "def xgboost_predict(features, model):\n",
    "    predictions = model.predict_proba(features_single_date[feature_names])\n",
    "    return predictions\n",
    "\n",
    "\n",
    "def highest_odd(features, model):\n",
    "    predictions = model.predict_proba(features_single_date[feature_names])\n",
    "    return predictions\n",
    "\n",
    "\n",
    "def get_bets_and_expected_gains(expected_value):\n",
    "    bets = []\n",
    "    for index, row in expected_value.iterrows():\n",
    "        max_value = row.max()\n",
    "        max_name = row.idxmax()\n",
    "        bet = (row * 0).to_dict()\n",
    "        bet[max_name] = max_value if max_value > 1 else 0\n",
    "        bets.append(bet)\n",
    "    \n",
    "    bets = pd.DataFrame(bets)\n",
    "    bets.columns = ['bet_1', 'bet_2', 'bet_X']\n",
    "    return bets, bets\n",
    "\n",
    "\n",
    "def dummy_results(target):\n",
    "    categories = [0, 1, 2]\n",
    "    results = pd.get_dummies(target).reset_index(drop=True)\n",
    "    results = results.T.reindex(categories).T.fillna(0)\n",
    "    return results\n",
    "    \n",
    "    \n",
    "def get_returns(results, bets, odds):\n",
    "    returns = pd.DataFrame(results.values * bets.values * odds.values, columns=results.columns)\n",
    "    return returns\n",
    "\n",
    "predictions_over_time = []\n",
    "money_bet = []\n",
    "returns_over_time = []\n",
    "train_every_n_dates = 10\n",
    "dates = sorted(features_with_odds['date'].unique())\n",
    "for i, date in enumerate(dates):\n",
    "    if i % train_every_n_dates == 0:\n",
    "        print(pd.Timestamp(date).date())\n",
    "        features_training = feature_matrix.loc[feature_matrix.index.get_level_values('date') <= date]\n",
    "        xgb.fit(features_training[feature_names], features_training[target_name])\n",
    "        \n",
    "    features_single_date = features_with_odds.loc[features_with_odds['date'] == date]\n",
    "    odds = features_single_date[['odd_value_1', 'odd_value_2', 'odd_value_X']]\n",
    "    predictions = xgboost_predict(features_single_date[feature_names], xgb)\n",
    "    expected_value = odds * predictions\n",
    "    bets, expected_gains = get_bets_and_expected_gains(expected_value)\n",
    "    money_in_play = bets.sum().sum()\n",
    "    results = dummy_results(features_single_date[target_name])\n",
    "    returns = get_returns(results, bets, odds)\n",
    "    total_returns_single_date = returns.sum().sum() - money_in_play\n",
    "    returns_over_time.append(total_returns_single_date)\n",
    "    money_bet.append(money_in_play)\n",
    "    predictions = pd.DataFrame(predictions)\n",
    "    predictions['local_name'] = features_single_date['local_name'].tolist()\n",
    "    predictions['date'] = features_single_date['date'].tolist()\n",
    "    predictions_over_time.append(predictions)\n",
    "\n",
    "print('Done')\n",
    "returns_over_time = pd.Series(returns_over_time, index=dates).sort_index()\n",
    "money_bet_over_time = pd.Series(money_bet, index=dates).sort_index()\n",
    "predictions_over_time = pd.concat(predictions_over_time)\n",
    "predictions_over_time['prediction'] = predictions_over_time[[0, 1, 2]].idxmax(axis=1)\n",
    "predictions_and_features = features_with_odds.set_index(['local_name', 'date']).join(\n",
    "    predictions_over_time.set_index(['local_name', 'date']),\n",
    ")\n",
    "predictions_and_features['correct_prediction'] = predictions_and_features['result_num'] == predictions_and_features['prediction']\n",
    "predictions_and_target = features_with_odds.set_index(['local_name', 'date'])[[target_name]].astype(int).join(\n",
    "    predictions_over_time.set_index(['local_name', 'date']),\n",
    ")\n",
    "\n",
    "print(f\"Accuracy over time: {(predictions_and_target.dropna()['result_num'] == predictions_and_target.dropna()['prediction']).mean()}\")\n",
    "print(f\"log-loss over time: {log_loss(predictions_and_target['result_num'], predictions_and_target[[0, 1, 2]])}\") "
   ]
  },
  {
   "cell_type": "code",
   "execution_count": 138,
   "metadata": {},
   "outputs": [
    {
     "data": {
      "text/html": [
       "<div>\n",
       "<style scoped>\n",
       "    .dataframe tbody tr th:only-of-type {\n",
       "        vertical-align: middle;\n",
       "    }\n",
       "\n",
       "    .dataframe tbody tr th {\n",
       "        vertical-align: top;\n",
       "    }\n",
       "\n",
       "    .dataframe thead th {\n",
       "        text-align: right;\n",
       "    }\n",
       "</style>\n",
       "<table border=\"1\" class=\"dataframe\">\n",
       "  <thead>\n",
       "    <tr style=\"text-align: right;\">\n",
       "      <th></th>\n",
       "      <th>local_name</th>\n",
       "      <th>visitor_name</th>\n",
       "      <th>result_num</th>\n",
       "      <th>local_win_current_season</th>\n",
       "      <th>visitor_win_current_season</th>\n",
       "      <th>local_goals_scored_current_season</th>\n",
       "      <th>local_goals_conceded_current_season</th>\n",
       "      <th>visitor_goals_scored_current_season</th>\n",
       "      <th>visitor_goals_conceded_current_season</th>\n",
       "    </tr>\n",
       "  </thead>\n",
       "  <tbody>\n",
       "    <tr>\n",
       "      <th>378</th>\n",
       "      <td>Real Madrid</td>\n",
       "      <td>Real Betis</td>\n",
       "      <td>2.0</td>\n",
       "      <td>21.0</td>\n",
       "      <td>13.0</td>\n",
       "      <td>63.0</td>\n",
       "      <td>44.0</td>\n",
       "      <td>42.0</td>\n",
       "      <td>52.0</td>\n",
       "    </tr>\n",
       "    <tr>\n",
       "      <th>379</th>\n",
       "      <td>SD Eibar</td>\n",
       "      <td>Barcelona</td>\n",
       "      <td>1.0</td>\n",
       "      <td>11.0</td>\n",
       "      <td>26.0</td>\n",
       "      <td>44.0</td>\n",
       "      <td>48.0</td>\n",
       "      <td>88.0</td>\n",
       "      <td>34.0</td>\n",
       "    </tr>\n",
       "  </tbody>\n",
       "</table>\n",
       "</div>"
      ],
      "text/plain": [
       "      local_name visitor_name  result_num  local_win_current_season  \\\n",
       "378  Real Madrid   Real Betis         2.0                      21.0   \n",
       "379     SD Eibar    Barcelona         1.0                      11.0   \n",
       "\n",
       "     visitor_win_current_season  local_goals_scored_current_season  \\\n",
       "378                        13.0                               63.0   \n",
       "379                        26.0                               44.0   \n",
       "\n",
       "     local_goals_conceded_current_season  visitor_goals_scored_current_season  \\\n",
       "378                                 44.0                                 42.0   \n",
       "379                                 48.0                                 88.0   \n",
       "\n",
       "     visitor_goals_conceded_current_season  \n",
       "378                                   52.0  \n",
       "379                                   34.0  "
      ]
     },
     "execution_count": 138,
     "metadata": {},
     "output_type": "execute_result"
    }
   ],
   "source": [
    "features_single_date[['local_name', 'visitor_name', 'result_num', 'local_win_current_season',\n",
    "                      'visitor_win_current_season', 'local_goals_scored_current_season', 'local_goals_conceded_current_season',\n",
    "                     'visitor_goals_scored_current_season', 'visitor_goals_conceded_current_season']]"
   ]
  },
  {
   "cell_type": "code",
   "execution_count": 85,
   "metadata": {},
   "outputs": [
    {
     "data": {
      "text/html": [
       "<div>\n",
       "<style scoped>\n",
       "    .dataframe tbody tr th:only-of-type {\n",
       "        vertical-align: middle;\n",
       "    }\n",
       "\n",
       "    .dataframe tbody tr th {\n",
       "        vertical-align: top;\n",
       "    }\n",
       "\n",
       "    .dataframe thead th {\n",
       "        text-align: right;\n",
       "    }\n",
       "</style>\n",
       "<table border=\"1\" class=\"dataframe\">\n",
       "  <thead>\n",
       "    <tr style=\"text-align: right;\">\n",
       "      <th></th>\n",
       "      <th>local_name</th>\n",
       "      <th>visitor_name</th>\n",
       "      <th>result_num</th>\n",
       "    </tr>\n",
       "  </thead>\n",
       "  <tbody>\n",
       "    <tr>\n",
       "      <th>45</th>\n",
       "      <td>Levante</td>\n",
       "      <td>Sevilla</td>\n",
       "      <td>2.0</td>\n",
       "    </tr>\n",
       "    <tr>\n",
       "      <th>46</th>\n",
       "      <td>Villarreal</td>\n",
       "      <td>Valencia</td>\n",
       "      <td>1.0</td>\n",
       "    </tr>\n",
       "    <tr>\n",
       "      <th>47</th>\n",
       "      <td>Real Betis</td>\n",
       "      <td>Athletic Club</td>\n",
       "      <td>1.0</td>\n",
       "    </tr>\n",
       "    <tr>\n",
       "      <th>48</th>\n",
       "      <td>Barcelona</td>\n",
       "      <td>Girona</td>\n",
       "      <td>1.0</td>\n",
       "    </tr>\n",
       "  </tbody>\n",
       "</table>\n",
       "</div>"
      ],
      "text/plain": [
       "    local_name   visitor_name  result_num\n",
       "45     Levante        Sevilla         2.0\n",
       "46  Villarreal       Valencia         1.0\n",
       "47  Real Betis  Athletic Club         1.0\n",
       "48   Barcelona         Girona         1.0"
      ]
     },
     "execution_count": 85,
     "metadata": {},
     "output_type": "execute_result"
    }
   ],
   "source": [
    "features_with_odds.loc[features_with_odds['date'] == '2018-09-23'][['local_name', 'visitor_name', 'result_num']]"
   ]
  },
  {
   "cell_type": "code",
   "execution_count": 142,
   "metadata": {},
   "outputs": [
    {
     "data": {
      "text/html": [
       "<div>\n",
       "<style scoped>\n",
       "    .dataframe tbody tr th:only-of-type {\n",
       "        vertical-align: middle;\n",
       "    }\n",
       "\n",
       "    .dataframe tbody tr th {\n",
       "        vertical-align: top;\n",
       "    }\n",
       "\n",
       "    .dataframe thead th {\n",
       "        text-align: right;\n",
       "    }\n",
       "</style>\n",
       "<table border=\"1\" class=\"dataframe\">\n",
       "  <thead>\n",
       "    <tr style=\"text-align: right;\">\n",
       "      <th></th>\n",
       "      <th></th>\n",
       "      <th>visitor_goals_scored_current_season</th>\n",
       "      <th>odd_value_X</th>\n",
       "      <th>odd_value_1</th>\n",
       "      <th>visitor_points_current_season</th>\n",
       "      <th>local_points_current_season_lag_1</th>\n",
       "      <th>visitor_position_end_season_lag_1</th>\n",
       "      <th>local_games_played_current_season</th>\n",
       "      <th>local_goals_conceded_current_season</th>\n",
       "      <th>local_position_end_season_lag_1</th>\n",
       "      <th>odd_value_2</th>\n",
       "      <th>...</th>\n",
       "      <th>local_draw_current_season</th>\n",
       "      <th>local_goals_scored_current_season_lag_1</th>\n",
       "      <th>local_win_current_season</th>\n",
       "      <th>visitor_name</th>\n",
       "      <th>result_num</th>\n",
       "      <th>0</th>\n",
       "      <th>1</th>\n",
       "      <th>2</th>\n",
       "      <th>prediction</th>\n",
       "      <th>correct_prediction</th>\n",
       "    </tr>\n",
       "    <tr>\n",
       "      <th>local_name</th>\n",
       "      <th>date</th>\n",
       "      <th></th>\n",
       "      <th></th>\n",
       "      <th></th>\n",
       "      <th></th>\n",
       "      <th></th>\n",
       "      <th></th>\n",
       "      <th></th>\n",
       "      <th></th>\n",
       "      <th></th>\n",
       "      <th></th>\n",
       "      <th></th>\n",
       "      <th></th>\n",
       "      <th></th>\n",
       "      <th></th>\n",
       "      <th></th>\n",
       "      <th></th>\n",
       "      <th></th>\n",
       "      <th></th>\n",
       "      <th></th>\n",
       "      <th></th>\n",
       "      <th></th>\n",
       "    </tr>\n",
       "  </thead>\n",
       "  <tbody>\n",
       "    <tr>\n",
       "      <th>Girona</th>\n",
       "      <th>2018-08-17</th>\n",
       "      <td>0.0</td>\n",
       "      <td>2.40</td>\n",
       "      <td>2.00</td>\n",
       "      <td>0.0</td>\n",
       "      <td>48.0</td>\n",
       "      <td>NaN</td>\n",
       "      <td>0.0</td>\n",
       "      <td>0.0</td>\n",
       "      <td>10.0</td>\n",
       "      <td>4.75</td>\n",
       "      <td>...</td>\n",
       "      <td>0.0</td>\n",
       "      <td>48.0</td>\n",
       "      <td>0.0</td>\n",
       "      <td>Real Valladolid</td>\n",
       "      <td>1.0</td>\n",
       "      <td>0.411208</td>\n",
       "      <td>0.308900</td>\n",
       "      <td>0.279891</td>\n",
       "      <td>0</td>\n",
       "      <td>False</td>\n",
       "    </tr>\n",
       "    <tr>\n",
       "      <th>Real Betis</th>\n",
       "      <th>2018-08-17</th>\n",
       "      <td>0.0</td>\n",
       "      <td>2.75</td>\n",
       "      <td>1.83</td>\n",
       "      <td>0.0</td>\n",
       "      <td>60.0</td>\n",
       "      <td>15.0</td>\n",
       "      <td>0.0</td>\n",
       "      <td>0.0</td>\n",
       "      <td>6.0</td>\n",
       "      <td>4.75</td>\n",
       "      <td>...</td>\n",
       "      <td>0.0</td>\n",
       "      <td>58.0</td>\n",
       "      <td>0.0</td>\n",
       "      <td>Levante</td>\n",
       "      <td>2.0</td>\n",
       "      <td>0.436940</td>\n",
       "      <td>0.333668</td>\n",
       "      <td>0.229392</td>\n",
       "      <td>0</td>\n",
       "      <td>False</td>\n",
       "    </tr>\n",
       "    <tr>\n",
       "      <th>Celta de Vigo</th>\n",
       "      <th>2018-08-18</th>\n",
       "      <td>0.0</td>\n",
       "      <td>2.40</td>\n",
       "      <td>2.37</td>\n",
       "      <td>0.0</td>\n",
       "      <td>46.0</td>\n",
       "      <td>11.0</td>\n",
       "      <td>0.0</td>\n",
       "      <td>0.0</td>\n",
       "      <td>13.0</td>\n",
       "      <td>3.60</td>\n",
       "      <td>...</td>\n",
       "      <td>0.0</td>\n",
       "      <td>55.0</td>\n",
       "      <td>0.0</td>\n",
       "      <td>Espanyol</td>\n",
       "      <td>1.0</td>\n",
       "      <td>0.461243</td>\n",
       "      <td>0.306975</td>\n",
       "      <td>0.231783</td>\n",
       "      <td>0</td>\n",
       "      <td>False</td>\n",
       "    </tr>\n",
       "    <tr>\n",
       "      <th>Villarreal</th>\n",
       "      <th>2018-08-18</th>\n",
       "      <td>0.0</td>\n",
       "      <td>2.40</td>\n",
       "      <td>2.50</td>\n",
       "      <td>0.0</td>\n",
       "      <td>60.0</td>\n",
       "      <td>12.0</td>\n",
       "      <td>0.0</td>\n",
       "      <td>0.0</td>\n",
       "      <td>5.0</td>\n",
       "      <td>3.25</td>\n",
       "      <td>...</td>\n",
       "      <td>0.0</td>\n",
       "      <td>55.0</td>\n",
       "      <td>0.0</td>\n",
       "      <td>Real Sociedad</td>\n",
       "      <td>2.0</td>\n",
       "      <td>0.361601</td>\n",
       "      <td>0.442493</td>\n",
       "      <td>0.195906</td>\n",
       "      <td>1</td>\n",
       "      <td>False</td>\n",
       "    </tr>\n",
       "    <tr>\n",
       "      <th>Barcelona</th>\n",
       "      <th>2018-08-18</th>\n",
       "      <td>0.0</td>\n",
       "      <td>5.00</td>\n",
       "      <td>1.16</td>\n",
       "      <td>0.0</td>\n",
       "      <td>90.0</td>\n",
       "      <td>14.0</td>\n",
       "      <td>0.0</td>\n",
       "      <td>0.0</td>\n",
       "      <td>1.0</td>\n",
       "      <td>17.00</td>\n",
       "      <td>...</td>\n",
       "      <td>0.0</td>\n",
       "      <td>98.0</td>\n",
       "      <td>0.0</td>\n",
       "      <td>Deportivo Alavés</td>\n",
       "      <td>0.0</td>\n",
       "      <td>0.672768</td>\n",
       "      <td>0.168129</td>\n",
       "      <td>0.159102</td>\n",
       "      <td>0</td>\n",
       "      <td>True</td>\n",
       "    </tr>\n",
       "  </tbody>\n",
       "</table>\n",
       "<p>5 rows × 30 columns</p>\n",
       "</div>"
      ],
      "text/plain": [
       "                          visitor_goals_scored_current_season  odd_value_X  \\\n",
       "local_name    date                                                           \n",
       "Girona        2018-08-17                                  0.0         2.40   \n",
       "Real Betis    2018-08-17                                  0.0         2.75   \n",
       "Celta de Vigo 2018-08-18                                  0.0         2.40   \n",
       "Villarreal    2018-08-18                                  0.0         2.40   \n",
       "Barcelona     2018-08-18                                  0.0         5.00   \n",
       "\n",
       "                          odd_value_1  visitor_points_current_season  \\\n",
       "local_name    date                                                     \n",
       "Girona        2018-08-17         2.00                            0.0   \n",
       "Real Betis    2018-08-17         1.83                            0.0   \n",
       "Celta de Vigo 2018-08-18         2.37                            0.0   \n",
       "Villarreal    2018-08-18         2.50                            0.0   \n",
       "Barcelona     2018-08-18         1.16                            0.0   \n",
       "\n",
       "                          local_points_current_season_lag_1  \\\n",
       "local_name    date                                            \n",
       "Girona        2018-08-17                               48.0   \n",
       "Real Betis    2018-08-17                               60.0   \n",
       "Celta de Vigo 2018-08-18                               46.0   \n",
       "Villarreal    2018-08-18                               60.0   \n",
       "Barcelona     2018-08-18                               90.0   \n",
       "\n",
       "                          visitor_position_end_season_lag_1  \\\n",
       "local_name    date                                            \n",
       "Girona        2018-08-17                                NaN   \n",
       "Real Betis    2018-08-17                               15.0   \n",
       "Celta de Vigo 2018-08-18                               11.0   \n",
       "Villarreal    2018-08-18                               12.0   \n",
       "Barcelona     2018-08-18                               14.0   \n",
       "\n",
       "                          local_games_played_current_season  \\\n",
       "local_name    date                                            \n",
       "Girona        2018-08-17                                0.0   \n",
       "Real Betis    2018-08-17                                0.0   \n",
       "Celta de Vigo 2018-08-18                                0.0   \n",
       "Villarreal    2018-08-18                                0.0   \n",
       "Barcelona     2018-08-18                                0.0   \n",
       "\n",
       "                          local_goals_conceded_current_season  \\\n",
       "local_name    date                                              \n",
       "Girona        2018-08-17                                  0.0   \n",
       "Real Betis    2018-08-17                                  0.0   \n",
       "Celta de Vigo 2018-08-18                                  0.0   \n",
       "Villarreal    2018-08-18                                  0.0   \n",
       "Barcelona     2018-08-18                                  0.0   \n",
       "\n",
       "                          local_position_end_season_lag_1  odd_value_2  ...  \\\n",
       "local_name    date                                                      ...   \n",
       "Girona        2018-08-17                             10.0         4.75  ...   \n",
       "Real Betis    2018-08-17                              6.0         4.75  ...   \n",
       "Celta de Vigo 2018-08-18                             13.0         3.60  ...   \n",
       "Villarreal    2018-08-18                              5.0         3.25  ...   \n",
       "Barcelona     2018-08-18                              1.0        17.00  ...   \n",
       "\n",
       "                          local_draw_current_season  \\\n",
       "local_name    date                                    \n",
       "Girona        2018-08-17                        0.0   \n",
       "Real Betis    2018-08-17                        0.0   \n",
       "Celta de Vigo 2018-08-18                        0.0   \n",
       "Villarreal    2018-08-18                        0.0   \n",
       "Barcelona     2018-08-18                        0.0   \n",
       "\n",
       "                          local_goals_scored_current_season_lag_1  \\\n",
       "local_name    date                                                  \n",
       "Girona        2018-08-17                                     48.0   \n",
       "Real Betis    2018-08-17                                     58.0   \n",
       "Celta de Vigo 2018-08-18                                     55.0   \n",
       "Villarreal    2018-08-18                                     55.0   \n",
       "Barcelona     2018-08-18                                     98.0   \n",
       "\n",
       "                          local_win_current_season      visitor_name  \\\n",
       "local_name    date                                                     \n",
       "Girona        2018-08-17                       0.0   Real Valladolid   \n",
       "Real Betis    2018-08-17                       0.0           Levante   \n",
       "Celta de Vigo 2018-08-18                       0.0          Espanyol   \n",
       "Villarreal    2018-08-18                       0.0     Real Sociedad   \n",
       "Barcelona     2018-08-18                       0.0  Deportivo Alavés   \n",
       "\n",
       "                          result_num         0         1         2  \\\n",
       "local_name    date                                                   \n",
       "Girona        2018-08-17         1.0  0.411208  0.308900  0.279891   \n",
       "Real Betis    2018-08-17         2.0  0.436940  0.333668  0.229392   \n",
       "Celta de Vigo 2018-08-18         1.0  0.461243  0.306975  0.231783   \n",
       "Villarreal    2018-08-18         2.0  0.361601  0.442493  0.195906   \n",
       "Barcelona     2018-08-18         0.0  0.672768  0.168129  0.159102   \n",
       "\n",
       "                          prediction  correct_prediction  \n",
       "local_name    date                                        \n",
       "Girona        2018-08-17           0               False  \n",
       "Real Betis    2018-08-17           0               False  \n",
       "Celta de Vigo 2018-08-18           0               False  \n",
       "Villarreal    2018-08-18           1               False  \n",
       "Barcelona     2018-08-18           0                True  \n",
       "\n",
       "[5 rows x 30 columns]"
      ]
     },
     "execution_count": 142,
     "metadata": {},
     "output_type": "execute_result"
    }
   ],
   "source": [
    "predictions_and_features.head()"
   ]
  },
  {
   "cell_type": "code",
   "execution_count": 147,
   "metadata": {},
   "outputs": [
    {
     "data": {
      "text/html": [
       "<div>\n",
       "<style scoped>\n",
       "    .dataframe tbody tr th:only-of-type {\n",
       "        vertical-align: middle;\n",
       "    }\n",
       "\n",
       "    .dataframe tbody tr th {\n",
       "        vertical-align: top;\n",
       "    }\n",
       "\n",
       "    .dataframe thead th {\n",
       "        text-align: right;\n",
       "    }\n",
       "</style>\n",
       "<table border=\"1\" class=\"dataframe\">\n",
       "  <thead>\n",
       "    <tr style=\"text-align: right;\">\n",
       "      <th></th>\n",
       "      <th></th>\n",
       "      <th>visitor_name</th>\n",
       "      <th>prediction</th>\n",
       "      <th>result_num</th>\n",
       "    </tr>\n",
       "    <tr>\n",
       "      <th>local_name</th>\n",
       "      <th>date</th>\n",
       "      <th></th>\n",
       "      <th></th>\n",
       "      <th></th>\n",
       "    </tr>\n",
       "  </thead>\n",
       "  <tbody>\n",
       "    <tr>\n",
       "      <th>Levante</th>\n",
       "      <th>2018-09-23</th>\n",
       "      <td>Sevilla</td>\n",
       "      <td>0</td>\n",
       "      <td>2.0</td>\n",
       "    </tr>\n",
       "    <tr>\n",
       "      <th>Villarreal</th>\n",
       "      <th>2018-09-23</th>\n",
       "      <td>Valencia</td>\n",
       "      <td>0</td>\n",
       "      <td>1.0</td>\n",
       "    </tr>\n",
       "    <tr>\n",
       "      <th>Real Betis</th>\n",
       "      <th>2018-09-23</th>\n",
       "      <td>Athletic Club</td>\n",
       "      <td>0</td>\n",
       "      <td>1.0</td>\n",
       "    </tr>\n",
       "    <tr>\n",
       "      <th>Barcelona</th>\n",
       "      <th>2018-09-23</th>\n",
       "      <td>Girona</td>\n",
       "      <td>0</td>\n",
       "      <td>1.0</td>\n",
       "    </tr>\n",
       "  </tbody>\n",
       "</table>\n",
       "</div>"
      ],
      "text/plain": [
       "                        visitor_name  prediction  result_num\n",
       "local_name date                                             \n",
       "Levante    2018-09-23        Sevilla           0         2.0\n",
       "Villarreal 2018-09-23       Valencia           0         1.0\n",
       "Real Betis 2018-09-23  Athletic Club           0         1.0\n",
       "Barcelona  2018-09-23         Girona           0         1.0"
      ]
     },
     "execution_count": 147,
     "metadata": {},
     "output_type": "execute_result"
    }
   ],
   "source": [
    "predictions_and_features.loc[predictions_and_features.index.get_level_values('date') == '2018-09-23'][['visitor_name', 'prediction', 'result_num']]"
   ]
  },
  {
   "cell_type": "code",
   "execution_count": 203,
   "metadata": {},
   "outputs": [
    {
     "data": {
      "text/plain": [
       "2018-08-17    3.712050\n",
       "2018-08-18   -5.997622\n",
       "2018-08-19   -5.373207\n",
       "2018-08-20   -2.750292\n",
       "2018-08-24   -2.229716\n",
       "                ...   \n",
       "2019-05-04   -3.115409\n",
       "2019-05-05    6.486499\n",
       "2019-05-12   -8.859310\n",
       "2019-05-18    7.599873\n",
       "2019-05-19   -3.244702\n",
       "Length: 129, dtype: float64"
      ]
     },
     "execution_count": 203,
     "metadata": {},
     "output_type": "execute_result"
    }
   ],
   "source": [
    "returns_over_time"
   ]
  },
  {
   "cell_type": "code",
   "execution_count": 205,
   "metadata": {},
   "outputs": [
    {
     "data": {
      "application/vnd.plotly.v1+json": {
       "config": {
        "linkText": "Export to plot.ly",
        "plotlyServerURL": "https://plot.ly",
        "showLink": false
       },
       "data": [
        {
         "mode": "lines",
         "type": "scatter",
         "x": [
          "2018-08-17T00:00:00",
          "2018-08-18T00:00:00",
          "2018-08-19T00:00:00",
          "2018-08-20T00:00:00",
          "2018-08-24T00:00:00",
          "2018-08-25T00:00:00",
          "2018-08-26T00:00:00",
          "2018-08-27T00:00:00",
          "2018-08-31T00:00:00",
          "2018-09-01T00:00:00",
          "2018-09-02T00:00:00",
          "2018-09-14T00:00:00",
          "2018-09-15T00:00:00",
          "2018-09-16T00:00:00",
          "2018-09-17T00:00:00",
          "2018-09-21T00:00:00",
          "2018-09-22T00:00:00",
          "2018-09-23T00:00:00",
          "2018-09-25T00:00:00",
          "2018-09-26T00:00:00",
          "2018-09-27T00:00:00",
          "2018-09-28T00:00:00",
          "2018-09-29T00:00:00",
          "2018-09-30T00:00:00",
          "2018-10-01T00:00:00",
          "2018-10-05T00:00:00",
          "2018-10-06T00:00:00",
          "2018-10-07T00:00:00",
          "2018-10-19T00:00:00",
          "2018-10-20T00:00:00",
          "2018-10-21T00:00:00",
          "2018-10-22T00:00:00",
          "2018-10-24T00:00:00",
          "2018-10-26T00:00:00",
          "2018-10-27T00:00:00",
          "2018-10-28T00:00:00",
          "2018-11-03T00:00:00",
          "2018-11-04T00:00:00",
          "2018-11-05T00:00:00",
          "2018-11-09T00:00:00",
          "2018-11-10T00:00:00",
          "2018-11-11T00:00:00",
          "2018-11-23T00:00:00",
          "2018-11-24T00:00:00",
          "2018-11-25T00:00:00",
          "2018-11-26T00:00:00",
          "2018-11-30T00:00:00",
          "2018-12-01T00:00:00",
          "2018-12-02T00:00:00",
          "2018-12-03T00:00:00",
          "2018-12-07T00:00:00",
          "2018-12-08T00:00:00",
          "2018-12-09T00:00:00",
          "2018-12-10T00:00:00",
          "2018-12-14T00:00:00",
          "2018-12-15T00:00:00",
          "2018-12-16T00:00:00",
          "2018-12-17T00:00:00",
          "2018-12-21T00:00:00",
          "2018-12-22T00:00:00",
          "2018-12-23T00:00:00",
          "2019-01-03T00:00:00",
          "2019-01-04T00:00:00",
          "2019-01-05T00:00:00",
          "2019-01-06T00:00:00",
          "2019-01-07T00:00:00",
          "2019-01-11T00:00:00",
          "2019-01-12T00:00:00",
          "2019-01-13T00:00:00",
          "2019-01-14T00:00:00",
          "2019-01-18T00:00:00",
          "2019-01-19T00:00:00",
          "2019-01-20T00:00:00",
          "2019-01-21T00:00:00",
          "2019-01-26T00:00:00",
          "2019-01-27T00:00:00",
          "2019-01-28T00:00:00",
          "2019-02-01T00:00:00",
          "2019-02-02T00:00:00",
          "2019-02-03T00:00:00",
          "2019-02-04T00:00:00",
          "2019-02-08T00:00:00",
          "2019-02-09T00:00:00",
          "2019-02-10T00:00:00",
          "2019-02-11T00:00:00",
          "2019-02-15T00:00:00",
          "2019-02-16T00:00:00",
          "2019-02-17T00:00:00",
          "2019-02-18T00:00:00",
          "2019-02-22T00:00:00",
          "2019-02-23T00:00:00",
          "2019-02-24T00:00:00",
          "2019-02-25T00:00:00",
          "2019-03-01T00:00:00",
          "2019-03-02T00:00:00",
          "2019-03-03T00:00:00",
          "2019-03-04T00:00:00",
          "2019-03-08T00:00:00",
          "2019-03-09T00:00:00",
          "2019-03-10T00:00:00",
          "2019-03-15T00:00:00",
          "2019-03-16T00:00:00",
          "2019-03-17T00:00:00",
          "2019-03-29T00:00:00",
          "2019-03-30T00:00:00",
          "2019-03-31T00:00:00",
          "2019-04-02T00:00:00",
          "2019-04-03T00:00:00",
          "2019-04-04T00:00:00",
          "2019-04-06T00:00:00",
          "2019-04-07T00:00:00",
          "2019-04-13T00:00:00",
          "2019-04-14T00:00:00",
          "2019-04-15T00:00:00",
          "2019-04-19T00:00:00",
          "2019-04-20T00:00:00",
          "2019-04-21T00:00:00",
          "2019-04-23T00:00:00",
          "2019-04-24T00:00:00",
          "2019-04-25T00:00:00",
          "2019-04-27T00:00:00",
          "2019-04-28T00:00:00",
          "2019-04-29T00:00:00",
          "2019-05-03T00:00:00",
          "2019-05-04T00:00:00",
          "2019-05-05T00:00:00",
          "2019-05-12T00:00:00",
          "2019-05-18T00:00:00",
          "2019-05-19T00:00:00"
         ],
         "y": [
          3.712049638852477,
          -5.997621755599976,
          -5.373207464814186,
          -2.7502923607826233,
          -2.22971647977829,
          -8.724453848600387,
          -0.8965307533740994,
          3.8093124330043793,
          4.54628344140947,
          -2.853035938739777,
          0.48473911057114627,
          -1.2107590198516847,
          16.009807927158477,
          -5.102459666132927,
          0,
          -1.2880480885505676,
          1.3398613219976427,
          26.161139058470727,
          1.5544217601418495,
          19.52983974662721,
          -1.5913582897186278,
          -1.2284657806158066,
          8.697903784513475,
          -3.8050146406888965,
          -1.188407862186432,
          -1.2774508818984032,
          9.356062975525855,
          -0.857866499495505,
          -1.2815383261442184,
          0.8391479626297951,
          -5.137919980287552,
          5.091657288372517,
          -1.0021863132715225,
          -1.3792013972997665,
          -0.5643747445940974,
          5.669723128640651,
          -7.08036208152771,
          6.385239085632564,
          1.7299899458885193,
          -1.5871544003486633,
          -5.2556198865175245,
          -2.9544075357913977,
          -1.0862172022461891,
          3.0989956647157673,
          0.45796215236187,
          -1.2207642793655396,
          0,
          -0.2264834569394587,
          -5.117684199661016,
          2.3843677771627902,
          2.6659681890159845,
          -2.8091387283056974,
          -1.5703365728259087,
          -1.4036983609199525,
          -1.2137988686561585,
          -1.51483522619009,
          -5.562899187207222,
          -1.6734006881713868,
          1.0560020059347153,
          4.507043092548848,
          -0.2481882547259331,
          -1.1778327226638794,
          -2.677266261577606,
          4.323660712838173,
          -2.796939895749092,
          -1.222452102303505,
          -1.3939813017845155,
          10.452088022232056,
          -2.824533537626266,
          -1.29644113779068,
          -1.391984075307846,
          1.4119163106381891,
          3.8878142948448655,
          -1.264758825302124,
          -2.407354436218739,
          2.3790071365237235,
          -1.265760236978531,
          -1.0601206421852112,
          -0.8625654423236844,
          -5.325713880658149,
          -1.3894342687726022,
          -1.3242960393428802,
          -2.5406102954596284,
          -0.5038271397352219,
          1.5628803315728905,
          3.9084466695785522,
          -1.4397997632622719,
          3.049810738861561,
          -1.225712075829506,
          4.379303399473429,
          1.362903163805604,
          2.7376742387950417,
          2.49951190687716,
          -1.1821796417236328,
          2.5050033517181873,
          -2.4507028031349183,
          -1.2019200325012207,
          6.257042288780212,
          -0.7423002365231515,
          -1.9601462921917436,
          3.24980092048645,
          -1.8146634358406062,
          4.490374695551397,
          -1.078293225169182,
          0.21791133493185022,
          -2.5415359288454056,
          -0.19799467980861696,
          -1.6628259265422813,
          -1.1169095373153692,
          3.5883956769347183,
          2.8630827060043815,
          -5.3230892136693,
          -2.7513740467429164,
          -1.4480949342250824,
          -1.5075569152832031,
          4.377406450286507,
          1.6594261665403849,
          3.565146390330792,
          1.4229866772890096,
          -4.034698252379894,
          9.307856327915193,
          2.375821649146081,
          3.566876146942377,
          -1.1683981454372407,
          -3.1154092305898664,
          6.486499339401722,
          -8.859309747159482,
          7.599872566771506,
          -3.244701747298241
         ]
        }
       ],
       "layout": {
        "height": 500,
        "template": {
         "data": {
          "bar": [
           {
            "error_x": {
             "color": "#2a3f5f"
            },
            "error_y": {
             "color": "#2a3f5f"
            },
            "marker": {
             "line": {
              "color": "#E5ECF6",
              "width": 0.5
             }
            },
            "type": "bar"
           }
          ],
          "barpolar": [
           {
            "marker": {
             "line": {
              "color": "#E5ECF6",
              "width": 0.5
             }
            },
            "type": "barpolar"
           }
          ],
          "carpet": [
           {
            "aaxis": {
             "endlinecolor": "#2a3f5f",
             "gridcolor": "white",
             "linecolor": "white",
             "minorgridcolor": "white",
             "startlinecolor": "#2a3f5f"
            },
            "baxis": {
             "endlinecolor": "#2a3f5f",
             "gridcolor": "white",
             "linecolor": "white",
             "minorgridcolor": "white",
             "startlinecolor": "#2a3f5f"
            },
            "type": "carpet"
           }
          ],
          "choropleth": [
           {
            "colorbar": {
             "outlinewidth": 0,
             "ticks": ""
            },
            "type": "choropleth"
           }
          ],
          "contour": [
           {
            "colorbar": {
             "outlinewidth": 0,
             "ticks": ""
            },
            "colorscale": [
             [
              0,
              "#0d0887"
             ],
             [
              0.1111111111111111,
              "#46039f"
             ],
             [
              0.2222222222222222,
              "#7201a8"
             ],
             [
              0.3333333333333333,
              "#9c179e"
             ],
             [
              0.4444444444444444,
              "#bd3786"
             ],
             [
              0.5555555555555556,
              "#d8576b"
             ],
             [
              0.6666666666666666,
              "#ed7953"
             ],
             [
              0.7777777777777778,
              "#fb9f3a"
             ],
             [
              0.8888888888888888,
              "#fdca26"
             ],
             [
              1,
              "#f0f921"
             ]
            ],
            "type": "contour"
           }
          ],
          "contourcarpet": [
           {
            "colorbar": {
             "outlinewidth": 0,
             "ticks": ""
            },
            "type": "contourcarpet"
           }
          ],
          "heatmap": [
           {
            "colorbar": {
             "outlinewidth": 0,
             "ticks": ""
            },
            "colorscale": [
             [
              0,
              "#0d0887"
             ],
             [
              0.1111111111111111,
              "#46039f"
             ],
             [
              0.2222222222222222,
              "#7201a8"
             ],
             [
              0.3333333333333333,
              "#9c179e"
             ],
             [
              0.4444444444444444,
              "#bd3786"
             ],
             [
              0.5555555555555556,
              "#d8576b"
             ],
             [
              0.6666666666666666,
              "#ed7953"
             ],
             [
              0.7777777777777778,
              "#fb9f3a"
             ],
             [
              0.8888888888888888,
              "#fdca26"
             ],
             [
              1,
              "#f0f921"
             ]
            ],
            "type": "heatmap"
           }
          ],
          "heatmapgl": [
           {
            "colorbar": {
             "outlinewidth": 0,
             "ticks": ""
            },
            "colorscale": [
             [
              0,
              "#0d0887"
             ],
             [
              0.1111111111111111,
              "#46039f"
             ],
             [
              0.2222222222222222,
              "#7201a8"
             ],
             [
              0.3333333333333333,
              "#9c179e"
             ],
             [
              0.4444444444444444,
              "#bd3786"
             ],
             [
              0.5555555555555556,
              "#d8576b"
             ],
             [
              0.6666666666666666,
              "#ed7953"
             ],
             [
              0.7777777777777778,
              "#fb9f3a"
             ],
             [
              0.8888888888888888,
              "#fdca26"
             ],
             [
              1,
              "#f0f921"
             ]
            ],
            "type": "heatmapgl"
           }
          ],
          "histogram": [
           {
            "marker": {
             "colorbar": {
              "outlinewidth": 0,
              "ticks": ""
             }
            },
            "type": "histogram"
           }
          ],
          "histogram2d": [
           {
            "colorbar": {
             "outlinewidth": 0,
             "ticks": ""
            },
            "colorscale": [
             [
              0,
              "#0d0887"
             ],
             [
              0.1111111111111111,
              "#46039f"
             ],
             [
              0.2222222222222222,
              "#7201a8"
             ],
             [
              0.3333333333333333,
              "#9c179e"
             ],
             [
              0.4444444444444444,
              "#bd3786"
             ],
             [
              0.5555555555555556,
              "#d8576b"
             ],
             [
              0.6666666666666666,
              "#ed7953"
             ],
             [
              0.7777777777777778,
              "#fb9f3a"
             ],
             [
              0.8888888888888888,
              "#fdca26"
             ],
             [
              1,
              "#f0f921"
             ]
            ],
            "type": "histogram2d"
           }
          ],
          "histogram2dcontour": [
           {
            "colorbar": {
             "outlinewidth": 0,
             "ticks": ""
            },
            "colorscale": [
             [
              0,
              "#0d0887"
             ],
             [
              0.1111111111111111,
              "#46039f"
             ],
             [
              0.2222222222222222,
              "#7201a8"
             ],
             [
              0.3333333333333333,
              "#9c179e"
             ],
             [
              0.4444444444444444,
              "#bd3786"
             ],
             [
              0.5555555555555556,
              "#d8576b"
             ],
             [
              0.6666666666666666,
              "#ed7953"
             ],
             [
              0.7777777777777778,
              "#fb9f3a"
             ],
             [
              0.8888888888888888,
              "#fdca26"
             ],
             [
              1,
              "#f0f921"
             ]
            ],
            "type": "histogram2dcontour"
           }
          ],
          "mesh3d": [
           {
            "colorbar": {
             "outlinewidth": 0,
             "ticks": ""
            },
            "type": "mesh3d"
           }
          ],
          "parcoords": [
           {
            "line": {
             "colorbar": {
              "outlinewidth": 0,
              "ticks": ""
             }
            },
            "type": "parcoords"
           }
          ],
          "scatter": [
           {
            "marker": {
             "colorbar": {
              "outlinewidth": 0,
              "ticks": ""
             }
            },
            "type": "scatter"
           }
          ],
          "scatter3d": [
           {
            "line": {
             "colorbar": {
              "outlinewidth": 0,
              "ticks": ""
             }
            },
            "marker": {
             "colorbar": {
              "outlinewidth": 0,
              "ticks": ""
             }
            },
            "type": "scatter3d"
           }
          ],
          "scattercarpet": [
           {
            "marker": {
             "colorbar": {
              "outlinewidth": 0,
              "ticks": ""
             }
            },
            "type": "scattercarpet"
           }
          ],
          "scattergeo": [
           {
            "marker": {
             "colorbar": {
              "outlinewidth": 0,
              "ticks": ""
             }
            },
            "type": "scattergeo"
           }
          ],
          "scattergl": [
           {
            "marker": {
             "colorbar": {
              "outlinewidth": 0,
              "ticks": ""
             }
            },
            "type": "scattergl"
           }
          ],
          "scattermapbox": [
           {
            "marker": {
             "colorbar": {
              "outlinewidth": 0,
              "ticks": ""
             }
            },
            "type": "scattermapbox"
           }
          ],
          "scatterpolar": [
           {
            "marker": {
             "colorbar": {
              "outlinewidth": 0,
              "ticks": ""
             }
            },
            "type": "scatterpolar"
           }
          ],
          "scatterpolargl": [
           {
            "marker": {
             "colorbar": {
              "outlinewidth": 0,
              "ticks": ""
             }
            },
            "type": "scatterpolargl"
           }
          ],
          "scatterternary": [
           {
            "marker": {
             "colorbar": {
              "outlinewidth": 0,
              "ticks": ""
             }
            },
            "type": "scatterternary"
           }
          ],
          "surface": [
           {
            "colorbar": {
             "outlinewidth": 0,
             "ticks": ""
            },
            "colorscale": [
             [
              0,
              "#0d0887"
             ],
             [
              0.1111111111111111,
              "#46039f"
             ],
             [
              0.2222222222222222,
              "#7201a8"
             ],
             [
              0.3333333333333333,
              "#9c179e"
             ],
             [
              0.4444444444444444,
              "#bd3786"
             ],
             [
              0.5555555555555556,
              "#d8576b"
             ],
             [
              0.6666666666666666,
              "#ed7953"
             ],
             [
              0.7777777777777778,
              "#fb9f3a"
             ],
             [
              0.8888888888888888,
              "#fdca26"
             ],
             [
              1,
              "#f0f921"
             ]
            ],
            "type": "surface"
           }
          ],
          "table": [
           {
            "cells": {
             "fill": {
              "color": "#EBF0F8"
             },
             "line": {
              "color": "white"
             }
            },
            "header": {
             "fill": {
              "color": "#C8D4E3"
             },
             "line": {
              "color": "white"
             }
            },
            "type": "table"
           }
          ]
         },
         "layout": {
          "annotationdefaults": {
           "arrowcolor": "#2a3f5f",
           "arrowhead": 0,
           "arrowwidth": 1
          },
          "colorscale": {
           "diverging": [
            [
             0,
             "#8e0152"
            ],
            [
             0.1,
             "#c51b7d"
            ],
            [
             0.2,
             "#de77ae"
            ],
            [
             0.3,
             "#f1b6da"
            ],
            [
             0.4,
             "#fde0ef"
            ],
            [
             0.5,
             "#f7f7f7"
            ],
            [
             0.6,
             "#e6f5d0"
            ],
            [
             0.7,
             "#b8e186"
            ],
            [
             0.8,
             "#7fbc41"
            ],
            [
             0.9,
             "#4d9221"
            ],
            [
             1,
             "#276419"
            ]
           ],
           "sequential": [
            [
             0,
             "#0d0887"
            ],
            [
             0.1111111111111111,
             "#46039f"
            ],
            [
             0.2222222222222222,
             "#7201a8"
            ],
            [
             0.3333333333333333,
             "#9c179e"
            ],
            [
             0.4444444444444444,
             "#bd3786"
            ],
            [
             0.5555555555555556,
             "#d8576b"
            ],
            [
             0.6666666666666666,
             "#ed7953"
            ],
            [
             0.7777777777777778,
             "#fb9f3a"
            ],
            [
             0.8888888888888888,
             "#fdca26"
            ],
            [
             1,
             "#f0f921"
            ]
           ],
           "sequentialminus": [
            [
             0,
             "#0d0887"
            ],
            [
             0.1111111111111111,
             "#46039f"
            ],
            [
             0.2222222222222222,
             "#7201a8"
            ],
            [
             0.3333333333333333,
             "#9c179e"
            ],
            [
             0.4444444444444444,
             "#bd3786"
            ],
            [
             0.5555555555555556,
             "#d8576b"
            ],
            [
             0.6666666666666666,
             "#ed7953"
            ],
            [
             0.7777777777777778,
             "#fb9f3a"
            ],
            [
             0.8888888888888888,
             "#fdca26"
            ],
            [
             1,
             "#f0f921"
            ]
           ]
          },
          "colorway": [
           "#636efa",
           "#EF553B",
           "#00cc96",
           "#ab63fa",
           "#FFA15A",
           "#19d3f3",
           "#FF6692",
           "#B6E880",
           "#FF97FF",
           "#FECB52"
          ],
          "font": {
           "color": "#2a3f5f"
          },
          "geo": {
           "bgcolor": "white",
           "lakecolor": "white",
           "landcolor": "#E5ECF6",
           "showlakes": true,
           "showland": true,
           "subunitcolor": "white"
          },
          "hoverlabel": {
           "align": "left"
          },
          "hovermode": "closest",
          "mapbox": {
           "style": "light"
          },
          "paper_bgcolor": "white",
          "plot_bgcolor": "#E5ECF6",
          "polar": {
           "angularaxis": {
            "gridcolor": "white",
            "linecolor": "white",
            "ticks": ""
           },
           "bgcolor": "#E5ECF6",
           "radialaxis": {
            "gridcolor": "white",
            "linecolor": "white",
            "ticks": ""
           }
          },
          "scene": {
           "xaxis": {
            "backgroundcolor": "#E5ECF6",
            "gridcolor": "white",
            "gridwidth": 2,
            "linecolor": "white",
            "showbackground": true,
            "ticks": "",
            "zerolinecolor": "white"
           },
           "yaxis": {
            "backgroundcolor": "#E5ECF6",
            "gridcolor": "white",
            "gridwidth": 2,
            "linecolor": "white",
            "showbackground": true,
            "ticks": "",
            "zerolinecolor": "white"
           },
           "zaxis": {
            "backgroundcolor": "#E5ECF6",
            "gridcolor": "white",
            "gridwidth": 2,
            "linecolor": "white",
            "showbackground": true,
            "ticks": "",
            "zerolinecolor": "white"
           }
          },
          "shapedefaults": {
           "line": {
            "color": "#2a3f5f"
           }
          },
          "ternary": {
           "aaxis": {
            "gridcolor": "white",
            "linecolor": "white",
            "ticks": ""
           },
           "baxis": {
            "gridcolor": "white",
            "linecolor": "white",
            "ticks": ""
           },
           "bgcolor": "#E5ECF6",
           "caxis": {
            "gridcolor": "white",
            "linecolor": "white",
            "ticks": ""
           }
          },
          "title": {
           "x": 0.05
          },
          "xaxis": {
           "automargin": true,
           "gridcolor": "white",
           "linecolor": "white",
           "ticks": "",
           "zerolinecolor": "white",
           "zerolinewidth": 2
          },
          "yaxis": {
           "automargin": true,
           "gridcolor": "white",
           "linecolor": "white",
           "ticks": "",
           "zerolinecolor": "white",
           "zerolinewidth": 2
          }
         }
        },
        "title": {
         "text": "Returns over time"
        },
        "width": 1300,
        "xaxis": {
         "title": {
          "text": "time"
         }
        },
        "yaxis": {
         "title": {
          "text": "euros"
         }
        }
       }
      },
      "text/html": [
       "<div>\n",
       "        \n",
       "        \n",
       "            <div id=\"92f710f1-966e-4cbd-bd07-56eb49ff1e36\" class=\"plotly-graph-div\" style=\"height:500px; width:1300px;\"></div>\n",
       "            <script type=\"text/javascript\">\n",
       "                require([\"plotly\"], function(Plotly) {\n",
       "                    window.PLOTLYENV=window.PLOTLYENV || {};\n",
       "                    \n",
       "                if (document.getElementById(\"92f710f1-966e-4cbd-bd07-56eb49ff1e36\")) {\n",
       "                    Plotly.newPlot(\n",
       "                        '92f710f1-966e-4cbd-bd07-56eb49ff1e36',\n",
       "                        [{\"mode\": \"lines\", \"type\": \"scatter\", \"x\": [\"2018-08-17T00:00:00\", \"2018-08-18T00:00:00\", \"2018-08-19T00:00:00\", \"2018-08-20T00:00:00\", \"2018-08-24T00:00:00\", \"2018-08-25T00:00:00\", \"2018-08-26T00:00:00\", \"2018-08-27T00:00:00\", \"2018-08-31T00:00:00\", \"2018-09-01T00:00:00\", \"2018-09-02T00:00:00\", \"2018-09-14T00:00:00\", \"2018-09-15T00:00:00\", \"2018-09-16T00:00:00\", \"2018-09-17T00:00:00\", \"2018-09-21T00:00:00\", \"2018-09-22T00:00:00\", \"2018-09-23T00:00:00\", \"2018-09-25T00:00:00\", \"2018-09-26T00:00:00\", \"2018-09-27T00:00:00\", \"2018-09-28T00:00:00\", \"2018-09-29T00:00:00\", \"2018-09-30T00:00:00\", \"2018-10-01T00:00:00\", \"2018-10-05T00:00:00\", \"2018-10-06T00:00:00\", \"2018-10-07T00:00:00\", \"2018-10-19T00:00:00\", \"2018-10-20T00:00:00\", \"2018-10-21T00:00:00\", \"2018-10-22T00:00:00\", \"2018-10-24T00:00:00\", \"2018-10-26T00:00:00\", \"2018-10-27T00:00:00\", \"2018-10-28T00:00:00\", \"2018-11-03T00:00:00\", \"2018-11-04T00:00:00\", \"2018-11-05T00:00:00\", \"2018-11-09T00:00:00\", \"2018-11-10T00:00:00\", \"2018-11-11T00:00:00\", \"2018-11-23T00:00:00\", \"2018-11-24T00:00:00\", \"2018-11-25T00:00:00\", \"2018-11-26T00:00:00\", \"2018-11-30T00:00:00\", \"2018-12-01T00:00:00\", \"2018-12-02T00:00:00\", \"2018-12-03T00:00:00\", \"2018-12-07T00:00:00\", \"2018-12-08T00:00:00\", \"2018-12-09T00:00:00\", \"2018-12-10T00:00:00\", \"2018-12-14T00:00:00\", \"2018-12-15T00:00:00\", \"2018-12-16T00:00:00\", \"2018-12-17T00:00:00\", \"2018-12-21T00:00:00\", \"2018-12-22T00:00:00\", \"2018-12-23T00:00:00\", \"2019-01-03T00:00:00\", \"2019-01-04T00:00:00\", \"2019-01-05T00:00:00\", \"2019-01-06T00:00:00\", \"2019-01-07T00:00:00\", \"2019-01-11T00:00:00\", \"2019-01-12T00:00:00\", \"2019-01-13T00:00:00\", \"2019-01-14T00:00:00\", \"2019-01-18T00:00:00\", \"2019-01-19T00:00:00\", \"2019-01-20T00:00:00\", \"2019-01-21T00:00:00\", \"2019-01-26T00:00:00\", \"2019-01-27T00:00:00\", \"2019-01-28T00:00:00\", \"2019-02-01T00:00:00\", \"2019-02-02T00:00:00\", \"2019-02-03T00:00:00\", \"2019-02-04T00:00:00\", \"2019-02-08T00:00:00\", \"2019-02-09T00:00:00\", \"2019-02-10T00:00:00\", \"2019-02-11T00:00:00\", \"2019-02-15T00:00:00\", \"2019-02-16T00:00:00\", \"2019-02-17T00:00:00\", \"2019-02-18T00:00:00\", \"2019-02-22T00:00:00\", \"2019-02-23T00:00:00\", \"2019-02-24T00:00:00\", \"2019-02-25T00:00:00\", \"2019-03-01T00:00:00\", \"2019-03-02T00:00:00\", \"2019-03-03T00:00:00\", \"2019-03-04T00:00:00\", \"2019-03-08T00:00:00\", \"2019-03-09T00:00:00\", \"2019-03-10T00:00:00\", \"2019-03-15T00:00:00\", \"2019-03-16T00:00:00\", \"2019-03-17T00:00:00\", \"2019-03-29T00:00:00\", \"2019-03-30T00:00:00\", \"2019-03-31T00:00:00\", \"2019-04-02T00:00:00\", \"2019-04-03T00:00:00\", \"2019-04-04T00:00:00\", \"2019-04-06T00:00:00\", \"2019-04-07T00:00:00\", \"2019-04-13T00:00:00\", \"2019-04-14T00:00:00\", \"2019-04-15T00:00:00\", \"2019-04-19T00:00:00\", \"2019-04-20T00:00:00\", \"2019-04-21T00:00:00\", \"2019-04-23T00:00:00\", \"2019-04-24T00:00:00\", \"2019-04-25T00:00:00\", \"2019-04-27T00:00:00\", \"2019-04-28T00:00:00\", \"2019-04-29T00:00:00\", \"2019-05-03T00:00:00\", \"2019-05-04T00:00:00\", \"2019-05-05T00:00:00\", \"2019-05-12T00:00:00\", \"2019-05-18T00:00:00\", \"2019-05-19T00:00:00\"], \"y\": [3.712049638852477, -5.997621755599976, -5.373207464814186, -2.7502923607826233, -2.22971647977829, -8.724453848600387, -0.8965307533740994, 3.8093124330043793, 4.54628344140947, -2.853035938739777, 0.48473911057114627, -1.2107590198516847, 16.009807927158477, -5.102459666132927, 0.0, -1.2880480885505676, 1.3398613219976427, 26.161139058470727, 1.5544217601418495, 19.52983974662721, -1.5913582897186278, -1.2284657806158066, 8.697903784513475, -3.8050146406888965, -1.188407862186432, -1.2774508818984032, 9.356062975525855, -0.857866499495505, -1.2815383261442184, 0.8391479626297951, -5.137919980287552, 5.091657288372517, -1.0021863132715225, -1.3792013972997665, -0.5643747445940974, 5.669723128640651, -7.08036208152771, 6.385239085632564, 1.7299899458885193, -1.5871544003486633, -5.2556198865175245, -2.9544075357913977, -1.0862172022461891, 3.0989956647157673, 0.45796215236187, -1.2207642793655396, 0.0, -0.2264834569394587, -5.117684199661016, 2.3843677771627902, 2.6659681890159845, -2.8091387283056974, -1.5703365728259087, -1.4036983609199525, -1.2137988686561585, -1.51483522619009, -5.562899187207222, -1.6734006881713868, 1.0560020059347153, 4.507043092548848, -0.2481882547259331, -1.1778327226638794, -2.677266261577606, 4.323660712838173, -2.796939895749092, -1.222452102303505, -1.3939813017845155, 10.452088022232056, -2.824533537626266, -1.29644113779068, -1.391984075307846, 1.4119163106381891, 3.8878142948448655, -1.264758825302124, -2.407354436218739, 2.3790071365237235, -1.265760236978531, -1.0601206421852112, -0.8625654423236844, -5.325713880658149, -1.3894342687726022, -1.3242960393428802, -2.5406102954596284, -0.5038271397352219, 1.5628803315728905, 3.9084466695785522, -1.4397997632622719, 3.049810738861561, -1.225712075829506, 4.379303399473429, 1.362903163805604, 2.7376742387950417, 2.49951190687716, -1.1821796417236328, 2.5050033517181873, -2.4507028031349183, -1.2019200325012207, 6.257042288780212, -0.7423002365231515, -1.9601462921917436, 3.24980092048645, -1.8146634358406062, 4.490374695551397, -1.078293225169182, 0.21791133493185022, -2.5415359288454056, -0.19799467980861696, -1.6628259265422813, -1.1169095373153692, 3.5883956769347183, 2.8630827060043815, -5.3230892136693, -2.7513740467429164, -1.4480949342250824, -1.5075569152832031, 4.377406450286507, 1.6594261665403849, 3.565146390330792, 1.4229866772890096, -4.034698252379894, 9.307856327915193, 2.375821649146081, 3.566876146942377, -1.1683981454372407, -3.1154092305898664, 6.486499339401722, -8.859309747159482, 7.599872566771506, -3.244701747298241]}],\n",
       "                        {\"height\": 500, \"template\": {\"data\": {\"bar\": [{\"error_x\": {\"color\": \"#2a3f5f\"}, \"error_y\": {\"color\": \"#2a3f5f\"}, \"marker\": {\"line\": {\"color\": \"#E5ECF6\", \"width\": 0.5}}, \"type\": \"bar\"}], \"barpolar\": [{\"marker\": {\"line\": {\"color\": \"#E5ECF6\", \"width\": 0.5}}, \"type\": \"barpolar\"}], \"carpet\": [{\"aaxis\": {\"endlinecolor\": \"#2a3f5f\", \"gridcolor\": \"white\", \"linecolor\": \"white\", \"minorgridcolor\": \"white\", \"startlinecolor\": \"#2a3f5f\"}, \"baxis\": {\"endlinecolor\": \"#2a3f5f\", \"gridcolor\": \"white\", \"linecolor\": \"white\", \"minorgridcolor\": \"white\", \"startlinecolor\": \"#2a3f5f\"}, \"type\": \"carpet\"}], \"choropleth\": [{\"colorbar\": {\"outlinewidth\": 0, \"ticks\": \"\"}, \"type\": \"choropleth\"}], \"contour\": [{\"colorbar\": {\"outlinewidth\": 0, \"ticks\": \"\"}, \"colorscale\": [[0.0, \"#0d0887\"], [0.1111111111111111, \"#46039f\"], [0.2222222222222222, \"#7201a8\"], [0.3333333333333333, \"#9c179e\"], [0.4444444444444444, \"#bd3786\"], [0.5555555555555556, \"#d8576b\"], [0.6666666666666666, \"#ed7953\"], [0.7777777777777778, \"#fb9f3a\"], [0.8888888888888888, \"#fdca26\"], [1.0, \"#f0f921\"]], \"type\": \"contour\"}], \"contourcarpet\": [{\"colorbar\": {\"outlinewidth\": 0, \"ticks\": \"\"}, \"type\": \"contourcarpet\"}], \"heatmap\": [{\"colorbar\": {\"outlinewidth\": 0, \"ticks\": \"\"}, \"colorscale\": [[0.0, \"#0d0887\"], [0.1111111111111111, \"#46039f\"], [0.2222222222222222, \"#7201a8\"], [0.3333333333333333, \"#9c179e\"], [0.4444444444444444, \"#bd3786\"], [0.5555555555555556, \"#d8576b\"], [0.6666666666666666, \"#ed7953\"], [0.7777777777777778, \"#fb9f3a\"], [0.8888888888888888, \"#fdca26\"], [1.0, \"#f0f921\"]], \"type\": \"heatmap\"}], \"heatmapgl\": [{\"colorbar\": {\"outlinewidth\": 0, \"ticks\": \"\"}, \"colorscale\": [[0.0, \"#0d0887\"], [0.1111111111111111, \"#46039f\"], [0.2222222222222222, \"#7201a8\"], [0.3333333333333333, \"#9c179e\"], [0.4444444444444444, \"#bd3786\"], [0.5555555555555556, \"#d8576b\"], [0.6666666666666666, \"#ed7953\"], [0.7777777777777778, \"#fb9f3a\"], [0.8888888888888888, \"#fdca26\"], [1.0, \"#f0f921\"]], \"type\": \"heatmapgl\"}], \"histogram\": [{\"marker\": {\"colorbar\": {\"outlinewidth\": 0, \"ticks\": \"\"}}, \"type\": \"histogram\"}], \"histogram2d\": [{\"colorbar\": {\"outlinewidth\": 0, \"ticks\": \"\"}, \"colorscale\": [[0.0, \"#0d0887\"], [0.1111111111111111, \"#46039f\"], [0.2222222222222222, \"#7201a8\"], [0.3333333333333333, \"#9c179e\"], [0.4444444444444444, \"#bd3786\"], [0.5555555555555556, \"#d8576b\"], [0.6666666666666666, \"#ed7953\"], [0.7777777777777778, \"#fb9f3a\"], [0.8888888888888888, \"#fdca26\"], [1.0, \"#f0f921\"]], \"type\": \"histogram2d\"}], \"histogram2dcontour\": [{\"colorbar\": {\"outlinewidth\": 0, \"ticks\": \"\"}, \"colorscale\": [[0.0, \"#0d0887\"], [0.1111111111111111, \"#46039f\"], [0.2222222222222222, \"#7201a8\"], [0.3333333333333333, \"#9c179e\"], [0.4444444444444444, \"#bd3786\"], [0.5555555555555556, \"#d8576b\"], [0.6666666666666666, \"#ed7953\"], [0.7777777777777778, \"#fb9f3a\"], [0.8888888888888888, \"#fdca26\"], [1.0, \"#f0f921\"]], \"type\": \"histogram2dcontour\"}], \"mesh3d\": [{\"colorbar\": {\"outlinewidth\": 0, \"ticks\": \"\"}, \"type\": \"mesh3d\"}], \"parcoords\": [{\"line\": {\"colorbar\": {\"outlinewidth\": 0, \"ticks\": \"\"}}, \"type\": \"parcoords\"}], \"scatter\": [{\"marker\": {\"colorbar\": {\"outlinewidth\": 0, \"ticks\": \"\"}}, \"type\": \"scatter\"}], \"scatter3d\": [{\"line\": {\"colorbar\": {\"outlinewidth\": 0, \"ticks\": \"\"}}, \"marker\": {\"colorbar\": {\"outlinewidth\": 0, \"ticks\": \"\"}}, \"type\": \"scatter3d\"}], \"scattercarpet\": [{\"marker\": {\"colorbar\": {\"outlinewidth\": 0, \"ticks\": \"\"}}, \"type\": \"scattercarpet\"}], \"scattergeo\": [{\"marker\": {\"colorbar\": {\"outlinewidth\": 0, \"ticks\": \"\"}}, \"type\": \"scattergeo\"}], \"scattergl\": [{\"marker\": {\"colorbar\": {\"outlinewidth\": 0, \"ticks\": \"\"}}, \"type\": \"scattergl\"}], \"scattermapbox\": [{\"marker\": {\"colorbar\": {\"outlinewidth\": 0, \"ticks\": \"\"}}, \"type\": \"scattermapbox\"}], \"scatterpolar\": [{\"marker\": {\"colorbar\": {\"outlinewidth\": 0, \"ticks\": \"\"}}, \"type\": \"scatterpolar\"}], \"scatterpolargl\": [{\"marker\": {\"colorbar\": {\"outlinewidth\": 0, \"ticks\": \"\"}}, \"type\": \"scatterpolargl\"}], \"scatterternary\": [{\"marker\": {\"colorbar\": {\"outlinewidth\": 0, \"ticks\": \"\"}}, \"type\": \"scatterternary\"}], \"surface\": [{\"colorbar\": {\"outlinewidth\": 0, \"ticks\": \"\"}, \"colorscale\": [[0.0, \"#0d0887\"], [0.1111111111111111, \"#46039f\"], [0.2222222222222222, \"#7201a8\"], [0.3333333333333333, \"#9c179e\"], [0.4444444444444444, \"#bd3786\"], [0.5555555555555556, \"#d8576b\"], [0.6666666666666666, \"#ed7953\"], [0.7777777777777778, \"#fb9f3a\"], [0.8888888888888888, \"#fdca26\"], [1.0, \"#f0f921\"]], \"type\": \"surface\"}], \"table\": [{\"cells\": {\"fill\": {\"color\": \"#EBF0F8\"}, \"line\": {\"color\": \"white\"}}, \"header\": {\"fill\": {\"color\": \"#C8D4E3\"}, \"line\": {\"color\": \"white\"}}, \"type\": \"table\"}]}, \"layout\": {\"annotationdefaults\": {\"arrowcolor\": \"#2a3f5f\", \"arrowhead\": 0, \"arrowwidth\": 1}, \"colorscale\": {\"diverging\": [[0, \"#8e0152\"], [0.1, \"#c51b7d\"], [0.2, \"#de77ae\"], [0.3, \"#f1b6da\"], [0.4, \"#fde0ef\"], [0.5, \"#f7f7f7\"], [0.6, \"#e6f5d0\"], [0.7, \"#b8e186\"], [0.8, \"#7fbc41\"], [0.9, \"#4d9221\"], [1, \"#276419\"]], \"sequential\": [[0.0, \"#0d0887\"], [0.1111111111111111, \"#46039f\"], [0.2222222222222222, \"#7201a8\"], [0.3333333333333333, \"#9c179e\"], [0.4444444444444444, \"#bd3786\"], [0.5555555555555556, \"#d8576b\"], [0.6666666666666666, \"#ed7953\"], [0.7777777777777778, \"#fb9f3a\"], [0.8888888888888888, \"#fdca26\"], [1.0, \"#f0f921\"]], \"sequentialminus\": [[0.0, \"#0d0887\"], [0.1111111111111111, \"#46039f\"], [0.2222222222222222, \"#7201a8\"], [0.3333333333333333, \"#9c179e\"], [0.4444444444444444, \"#bd3786\"], [0.5555555555555556, \"#d8576b\"], [0.6666666666666666, \"#ed7953\"], [0.7777777777777778, \"#fb9f3a\"], [0.8888888888888888, \"#fdca26\"], [1.0, \"#f0f921\"]]}, \"colorway\": [\"#636efa\", \"#EF553B\", \"#00cc96\", \"#ab63fa\", \"#FFA15A\", \"#19d3f3\", \"#FF6692\", \"#B6E880\", \"#FF97FF\", \"#FECB52\"], \"font\": {\"color\": \"#2a3f5f\"}, \"geo\": {\"bgcolor\": \"white\", \"lakecolor\": \"white\", \"landcolor\": \"#E5ECF6\", \"showlakes\": true, \"showland\": true, \"subunitcolor\": \"white\"}, \"hoverlabel\": {\"align\": \"left\"}, \"hovermode\": \"closest\", \"mapbox\": {\"style\": \"light\"}, \"paper_bgcolor\": \"white\", \"plot_bgcolor\": \"#E5ECF6\", \"polar\": {\"angularaxis\": {\"gridcolor\": \"white\", \"linecolor\": \"white\", \"ticks\": \"\"}, \"bgcolor\": \"#E5ECF6\", \"radialaxis\": {\"gridcolor\": \"white\", \"linecolor\": \"white\", \"ticks\": \"\"}}, \"scene\": {\"xaxis\": {\"backgroundcolor\": \"#E5ECF6\", \"gridcolor\": \"white\", \"gridwidth\": 2, \"linecolor\": \"white\", \"showbackground\": true, \"ticks\": \"\", \"zerolinecolor\": \"white\"}, \"yaxis\": {\"backgroundcolor\": \"#E5ECF6\", \"gridcolor\": \"white\", \"gridwidth\": 2, \"linecolor\": \"white\", \"showbackground\": true, \"ticks\": \"\", \"zerolinecolor\": \"white\"}, \"zaxis\": {\"backgroundcolor\": \"#E5ECF6\", \"gridcolor\": \"white\", \"gridwidth\": 2, \"linecolor\": \"white\", \"showbackground\": true, \"ticks\": \"\", \"zerolinecolor\": \"white\"}}, \"shapedefaults\": {\"line\": {\"color\": \"#2a3f5f\"}}, \"ternary\": {\"aaxis\": {\"gridcolor\": \"white\", \"linecolor\": \"white\", \"ticks\": \"\"}, \"baxis\": {\"gridcolor\": \"white\", \"linecolor\": \"white\", \"ticks\": \"\"}, \"bgcolor\": \"#E5ECF6\", \"caxis\": {\"gridcolor\": \"white\", \"linecolor\": \"white\", \"ticks\": \"\"}}, \"title\": {\"x\": 0.05}, \"xaxis\": {\"automargin\": true, \"gridcolor\": \"white\", \"linecolor\": \"white\", \"ticks\": \"\", \"zerolinecolor\": \"white\", \"zerolinewidth\": 2}, \"yaxis\": {\"automargin\": true, \"gridcolor\": \"white\", \"linecolor\": \"white\", \"ticks\": \"\", \"zerolinecolor\": \"white\", \"zerolinewidth\": 2}}}, \"title\": {\"text\": \"Returns over time\"}, \"width\": 1300, \"xaxis\": {\"title\": {\"text\": \"time\"}}, \"yaxis\": {\"title\": {\"text\": \"euros\"}}},\n",
       "                        {\"responsive\": true}\n",
       "                    ).then(function(){\n",
       "                            \n",
       "var gd = document.getElementById('92f710f1-966e-4cbd-bd07-56eb49ff1e36');\n",
       "var x = new MutationObserver(function (mutations, observer) {{\n",
       "        var display = window.getComputedStyle(gd).display;\n",
       "        if (!display || display === 'none') {{\n",
       "            console.log([gd, 'removed!']);\n",
       "            Plotly.purge(gd);\n",
       "            observer.disconnect();\n",
       "        }}\n",
       "}});\n",
       "\n",
       "// Listen for the removal of the full notebook cells\n",
       "var notebookContainer = gd.closest('#notebook-container');\n",
       "if (notebookContainer) {{\n",
       "    x.observe(notebookContainer, {childList: true});\n",
       "}}\n",
       "\n",
       "// Listen for the clearing of the current output cell\n",
       "var outputEl = gd.closest('.output');\n",
       "if (outputEl) {{\n",
       "    x.observe(outputEl, {childList: true});\n",
       "}}\n",
       "\n",
       "                        })\n",
       "                };\n",
       "                });\n",
       "            </script>\n",
       "        </div>"
      ]
     },
     "metadata": {},
     "output_type": "display_data"
    }
   ],
   "source": [
    "traces = []\n",
    "scatter = go.Scatter(\n",
    "    x=list(returns_over_time.keys()),\n",
    "    y=list(returns_over_time.values),\n",
    "    mode='lines',\n",
    ")\n",
    "traces.append(scatter)\n",
    "\n",
    "layout = {\n",
    "    'title':'Returns over time',\n",
    "    'xaxis': {\n",
    "        'title': 'time',\n",
    "    },\n",
    "    'yaxis': {\n",
    "        'title': 'euros',\n",
    "    },\n",
    "    'width': 1300,\n",
    "    'height': 500,\n",
    "}\n",
    "fig = go.Figure(data=traces, layout=layout)\n",
    "iplot(fig)"
   ]
  },
  {
   "cell_type": "code",
   "execution_count": 201,
   "metadata": {},
   "outputs": [
    {
     "data": {
      "application/vnd.plotly.v1+json": {
       "config": {
        "linkText": "Export to plot.ly",
        "plotlyServerURL": "https://plot.ly",
        "showLink": false
       },
       "data": [
        {
         "mode": "lines",
         "type": "scatter",
         "x": [
          "2018-08-17T00:00:00",
          "2018-08-18T00:00:00",
          "2018-08-19T00:00:00",
          "2018-08-20T00:00:00",
          "2018-08-24T00:00:00",
          "2018-08-25T00:00:00",
          "2018-08-26T00:00:00",
          "2018-08-27T00:00:00",
          "2018-08-31T00:00:00",
          "2018-09-01T00:00:00",
          "2018-09-02T00:00:00",
          "2018-09-14T00:00:00",
          "2018-09-15T00:00:00",
          "2018-09-16T00:00:00",
          "2018-09-17T00:00:00",
          "2018-09-21T00:00:00",
          "2018-09-22T00:00:00",
          "2018-09-23T00:00:00",
          "2018-09-25T00:00:00",
          "2018-09-26T00:00:00",
          "2018-09-27T00:00:00",
          "2018-09-28T00:00:00",
          "2018-09-29T00:00:00",
          "2018-09-30T00:00:00",
          "2018-10-01T00:00:00",
          "2018-10-05T00:00:00",
          "2018-10-06T00:00:00",
          "2018-10-07T00:00:00",
          "2018-10-19T00:00:00",
          "2018-10-20T00:00:00",
          "2018-10-21T00:00:00",
          "2018-10-22T00:00:00",
          "2018-10-24T00:00:00",
          "2018-10-26T00:00:00",
          "2018-10-27T00:00:00",
          "2018-10-28T00:00:00",
          "2018-11-03T00:00:00",
          "2018-11-04T00:00:00",
          "2018-11-05T00:00:00",
          "2018-11-09T00:00:00",
          "2018-11-10T00:00:00",
          "2018-11-11T00:00:00",
          "2018-11-23T00:00:00",
          "2018-11-24T00:00:00",
          "2018-11-25T00:00:00",
          "2018-11-26T00:00:00",
          "2018-11-30T00:00:00",
          "2018-12-01T00:00:00",
          "2018-12-02T00:00:00",
          "2018-12-03T00:00:00",
          "2018-12-07T00:00:00",
          "2018-12-08T00:00:00",
          "2018-12-09T00:00:00",
          "2018-12-10T00:00:00",
          "2018-12-14T00:00:00",
          "2018-12-15T00:00:00",
          "2018-12-16T00:00:00",
          "2018-12-17T00:00:00",
          "2018-12-21T00:00:00",
          "2018-12-22T00:00:00",
          "2018-12-23T00:00:00",
          "2019-01-03T00:00:00",
          "2019-01-04T00:00:00",
          "2019-01-05T00:00:00",
          "2019-01-06T00:00:00",
          "2019-01-07T00:00:00",
          "2019-01-11T00:00:00",
          "2019-01-12T00:00:00",
          "2019-01-13T00:00:00",
          "2019-01-14T00:00:00",
          "2019-01-18T00:00:00",
          "2019-01-19T00:00:00",
          "2019-01-20T00:00:00",
          "2019-01-21T00:00:00",
          "2019-01-26T00:00:00",
          "2019-01-27T00:00:00",
          "2019-01-28T00:00:00",
          "2019-02-01T00:00:00",
          "2019-02-02T00:00:00",
          "2019-02-03T00:00:00",
          "2019-02-04T00:00:00",
          "2019-02-08T00:00:00",
          "2019-02-09T00:00:00",
          "2019-02-10T00:00:00",
          "2019-02-11T00:00:00",
          "2019-02-15T00:00:00",
          "2019-02-16T00:00:00",
          "2019-02-17T00:00:00",
          "2019-02-18T00:00:00",
          "2019-02-22T00:00:00",
          "2019-02-23T00:00:00",
          "2019-02-24T00:00:00",
          "2019-02-25T00:00:00",
          "2019-03-01T00:00:00",
          "2019-03-02T00:00:00",
          "2019-03-03T00:00:00",
          "2019-03-04T00:00:00",
          "2019-03-08T00:00:00",
          "2019-03-09T00:00:00",
          "2019-03-10T00:00:00",
          "2019-03-15T00:00:00",
          "2019-03-16T00:00:00",
          "2019-03-17T00:00:00",
          "2019-03-29T00:00:00",
          "2019-03-30T00:00:00",
          "2019-03-31T00:00:00",
          "2019-04-02T00:00:00",
          "2019-04-03T00:00:00",
          "2019-04-04T00:00:00",
          "2019-04-06T00:00:00",
          "2019-04-07T00:00:00",
          "2019-04-13T00:00:00",
          "2019-04-14T00:00:00",
          "2019-04-15T00:00:00",
          "2019-04-19T00:00:00",
          "2019-04-20T00:00:00",
          "2019-04-21T00:00:00",
          "2019-04-23T00:00:00",
          "2019-04-24T00:00:00",
          "2019-04-25T00:00:00",
          "2019-04-27T00:00:00",
          "2019-04-28T00:00:00",
          "2019-04-29T00:00:00",
          "2019-05-03T00:00:00",
          "2019-05-04T00:00:00",
          "2019-05-05T00:00:00",
          "2019-05-12T00:00:00",
          "2019-05-18T00:00:00",
          "2019-05-19T00:00:00"
         ],
         "y": [
          3.712049638852477,
          -2.285572116747499,
          -7.658779581561685,
          -10.409071942344308,
          -12.638788422122598,
          -21.363242270722985,
          -22.259773024097086,
          -18.450460591092707,
          -13.904177149683237,
          -16.757213088423015,
          -16.272473977851867,
          -17.483232997703553,
          -1.4734250705450762,
          -6.575884736678003,
          -6.575884736678003,
          -7.863932825228571,
          -6.524071503230928,
          19.6370675552398,
          21.19148931538165,
          40.72132906200886,
          39.129970772290235,
          37.90150499167443,
          46.5994087761879,
          42.794394135499005,
          41.605986273312574,
          40.32853539141417,
          49.68459836694002,
          48.826731867444515,
          47.5451935413003,
          48.384341503930095,
          43.246421523642546,
          48.33807881201506,
          47.33589249874354,
          45.956691101443774,
          45.392316356849676,
          51.06203948549033,
          43.98167740396262,
          50.366916489595184,
          52.0969064354837,
          50.50975203513504,
          45.254132148617515,
          42.29972461282612,
          41.21350741057993,
          44.312503075295695,
          44.77046522765757,
          43.54970094829203,
          43.54970094829203,
          43.323217491352565,
          38.20553329169155,
          40.589901068854346,
          43.25586925787033,
          40.44673052956463,
          38.876393956738724,
          37.47269559581877,
          36.258896727162615,
          34.74406150097253,
          29.181162313765306,
          27.50776162559392,
          28.563763631528634,
          33.070806724077485,
          32.82261846935155,
          31.644785746687674,
          28.967519485110067,
          33.291180197948236,
          30.494240302199145,
          29.27178819989564,
          27.877806898111125,
          38.32989492034318,
          35.50536138271691,
          34.20892024492623,
          32.81693616961839,
          34.22885248025658,
          38.11666677510144,
          36.85190794979932,
          34.44455351358058,
          36.823560650104305,
          35.557800413125776,
          34.497679770940564,
          33.63511432861688,
          28.30940044795873,
          26.919966179186126,
          25.595670139843246,
          23.055059844383617,
          22.551232704648395,
          24.114113036221287,
          28.02255970579984,
          26.582759942537567,
          29.63257068139913,
          28.406858605569624,
          32.78616200504305,
          34.14906516884866,
          36.8867394076437,
          39.38625131452086,
          38.20407167279723,
          40.709075024515414,
          38.2583722213805,
          37.05645218887928,
          43.31349447765949,
          42.57119424113634,
          40.611047948944595,
          43.860848869431045,
          42.04618543359044,
          46.53656012914183,
          45.45826690397265,
          45.6761782389045,
          43.13464231005909,
          42.93664763025048,
          41.273821703708194,
          40.15691216639282,
          43.74530784332754,
          46.60839054933192,
          41.28530133566262,
          38.533927288919706,
          37.085832354694624,
          35.57827543941142,
          39.95568188969793,
          41.61510805623831,
          45.18025444656911,
          46.60324112385812,
          42.56854287147822,
          51.87639919939342,
          54.2522208485395,
          57.81909699548188,
          56.650698850044634,
          53.535289619454765,
          60.02178895885649,
          51.162479211697004,
          58.76235177846851,
          55.51765003117027
         ]
        }
       ],
       "layout": {
        "height": 500,
        "template": {
         "data": {
          "bar": [
           {
            "error_x": {
             "color": "#2a3f5f"
            },
            "error_y": {
             "color": "#2a3f5f"
            },
            "marker": {
             "line": {
              "color": "#E5ECF6",
              "width": 0.5
             }
            },
            "type": "bar"
           }
          ],
          "barpolar": [
           {
            "marker": {
             "line": {
              "color": "#E5ECF6",
              "width": 0.5
             }
            },
            "type": "barpolar"
           }
          ],
          "carpet": [
           {
            "aaxis": {
             "endlinecolor": "#2a3f5f",
             "gridcolor": "white",
             "linecolor": "white",
             "minorgridcolor": "white",
             "startlinecolor": "#2a3f5f"
            },
            "baxis": {
             "endlinecolor": "#2a3f5f",
             "gridcolor": "white",
             "linecolor": "white",
             "minorgridcolor": "white",
             "startlinecolor": "#2a3f5f"
            },
            "type": "carpet"
           }
          ],
          "choropleth": [
           {
            "colorbar": {
             "outlinewidth": 0,
             "ticks": ""
            },
            "type": "choropleth"
           }
          ],
          "contour": [
           {
            "colorbar": {
             "outlinewidth": 0,
             "ticks": ""
            },
            "colorscale": [
             [
              0,
              "#0d0887"
             ],
             [
              0.1111111111111111,
              "#46039f"
             ],
             [
              0.2222222222222222,
              "#7201a8"
             ],
             [
              0.3333333333333333,
              "#9c179e"
             ],
             [
              0.4444444444444444,
              "#bd3786"
             ],
             [
              0.5555555555555556,
              "#d8576b"
             ],
             [
              0.6666666666666666,
              "#ed7953"
             ],
             [
              0.7777777777777778,
              "#fb9f3a"
             ],
             [
              0.8888888888888888,
              "#fdca26"
             ],
             [
              1,
              "#f0f921"
             ]
            ],
            "type": "contour"
           }
          ],
          "contourcarpet": [
           {
            "colorbar": {
             "outlinewidth": 0,
             "ticks": ""
            },
            "type": "contourcarpet"
           }
          ],
          "heatmap": [
           {
            "colorbar": {
             "outlinewidth": 0,
             "ticks": ""
            },
            "colorscale": [
             [
              0,
              "#0d0887"
             ],
             [
              0.1111111111111111,
              "#46039f"
             ],
             [
              0.2222222222222222,
              "#7201a8"
             ],
             [
              0.3333333333333333,
              "#9c179e"
             ],
             [
              0.4444444444444444,
              "#bd3786"
             ],
             [
              0.5555555555555556,
              "#d8576b"
             ],
             [
              0.6666666666666666,
              "#ed7953"
             ],
             [
              0.7777777777777778,
              "#fb9f3a"
             ],
             [
              0.8888888888888888,
              "#fdca26"
             ],
             [
              1,
              "#f0f921"
             ]
            ],
            "type": "heatmap"
           }
          ],
          "heatmapgl": [
           {
            "colorbar": {
             "outlinewidth": 0,
             "ticks": ""
            },
            "colorscale": [
             [
              0,
              "#0d0887"
             ],
             [
              0.1111111111111111,
              "#46039f"
             ],
             [
              0.2222222222222222,
              "#7201a8"
             ],
             [
              0.3333333333333333,
              "#9c179e"
             ],
             [
              0.4444444444444444,
              "#bd3786"
             ],
             [
              0.5555555555555556,
              "#d8576b"
             ],
             [
              0.6666666666666666,
              "#ed7953"
             ],
             [
              0.7777777777777778,
              "#fb9f3a"
             ],
             [
              0.8888888888888888,
              "#fdca26"
             ],
             [
              1,
              "#f0f921"
             ]
            ],
            "type": "heatmapgl"
           }
          ],
          "histogram": [
           {
            "marker": {
             "colorbar": {
              "outlinewidth": 0,
              "ticks": ""
             }
            },
            "type": "histogram"
           }
          ],
          "histogram2d": [
           {
            "colorbar": {
             "outlinewidth": 0,
             "ticks": ""
            },
            "colorscale": [
             [
              0,
              "#0d0887"
             ],
             [
              0.1111111111111111,
              "#46039f"
             ],
             [
              0.2222222222222222,
              "#7201a8"
             ],
             [
              0.3333333333333333,
              "#9c179e"
             ],
             [
              0.4444444444444444,
              "#bd3786"
             ],
             [
              0.5555555555555556,
              "#d8576b"
             ],
             [
              0.6666666666666666,
              "#ed7953"
             ],
             [
              0.7777777777777778,
              "#fb9f3a"
             ],
             [
              0.8888888888888888,
              "#fdca26"
             ],
             [
              1,
              "#f0f921"
             ]
            ],
            "type": "histogram2d"
           }
          ],
          "histogram2dcontour": [
           {
            "colorbar": {
             "outlinewidth": 0,
             "ticks": ""
            },
            "colorscale": [
             [
              0,
              "#0d0887"
             ],
             [
              0.1111111111111111,
              "#46039f"
             ],
             [
              0.2222222222222222,
              "#7201a8"
             ],
             [
              0.3333333333333333,
              "#9c179e"
             ],
             [
              0.4444444444444444,
              "#bd3786"
             ],
             [
              0.5555555555555556,
              "#d8576b"
             ],
             [
              0.6666666666666666,
              "#ed7953"
             ],
             [
              0.7777777777777778,
              "#fb9f3a"
             ],
             [
              0.8888888888888888,
              "#fdca26"
             ],
             [
              1,
              "#f0f921"
             ]
            ],
            "type": "histogram2dcontour"
           }
          ],
          "mesh3d": [
           {
            "colorbar": {
             "outlinewidth": 0,
             "ticks": ""
            },
            "type": "mesh3d"
           }
          ],
          "parcoords": [
           {
            "line": {
             "colorbar": {
              "outlinewidth": 0,
              "ticks": ""
             }
            },
            "type": "parcoords"
           }
          ],
          "scatter": [
           {
            "marker": {
             "colorbar": {
              "outlinewidth": 0,
              "ticks": ""
             }
            },
            "type": "scatter"
           }
          ],
          "scatter3d": [
           {
            "line": {
             "colorbar": {
              "outlinewidth": 0,
              "ticks": ""
             }
            },
            "marker": {
             "colorbar": {
              "outlinewidth": 0,
              "ticks": ""
             }
            },
            "type": "scatter3d"
           }
          ],
          "scattercarpet": [
           {
            "marker": {
             "colorbar": {
              "outlinewidth": 0,
              "ticks": ""
             }
            },
            "type": "scattercarpet"
           }
          ],
          "scattergeo": [
           {
            "marker": {
             "colorbar": {
              "outlinewidth": 0,
              "ticks": ""
             }
            },
            "type": "scattergeo"
           }
          ],
          "scattergl": [
           {
            "marker": {
             "colorbar": {
              "outlinewidth": 0,
              "ticks": ""
             }
            },
            "type": "scattergl"
           }
          ],
          "scattermapbox": [
           {
            "marker": {
             "colorbar": {
              "outlinewidth": 0,
              "ticks": ""
             }
            },
            "type": "scattermapbox"
           }
          ],
          "scatterpolar": [
           {
            "marker": {
             "colorbar": {
              "outlinewidth": 0,
              "ticks": ""
             }
            },
            "type": "scatterpolar"
           }
          ],
          "scatterpolargl": [
           {
            "marker": {
             "colorbar": {
              "outlinewidth": 0,
              "ticks": ""
             }
            },
            "type": "scatterpolargl"
           }
          ],
          "scatterternary": [
           {
            "marker": {
             "colorbar": {
              "outlinewidth": 0,
              "ticks": ""
             }
            },
            "type": "scatterternary"
           }
          ],
          "surface": [
           {
            "colorbar": {
             "outlinewidth": 0,
             "ticks": ""
            },
            "colorscale": [
             [
              0,
              "#0d0887"
             ],
             [
              0.1111111111111111,
              "#46039f"
             ],
             [
              0.2222222222222222,
              "#7201a8"
             ],
             [
              0.3333333333333333,
              "#9c179e"
             ],
             [
              0.4444444444444444,
              "#bd3786"
             ],
             [
              0.5555555555555556,
              "#d8576b"
             ],
             [
              0.6666666666666666,
              "#ed7953"
             ],
             [
              0.7777777777777778,
              "#fb9f3a"
             ],
             [
              0.8888888888888888,
              "#fdca26"
             ],
             [
              1,
              "#f0f921"
             ]
            ],
            "type": "surface"
           }
          ],
          "table": [
           {
            "cells": {
             "fill": {
              "color": "#EBF0F8"
             },
             "line": {
              "color": "white"
             }
            },
            "header": {
             "fill": {
              "color": "#C8D4E3"
             },
             "line": {
              "color": "white"
             }
            },
            "type": "table"
           }
          ]
         },
         "layout": {
          "annotationdefaults": {
           "arrowcolor": "#2a3f5f",
           "arrowhead": 0,
           "arrowwidth": 1
          },
          "colorscale": {
           "diverging": [
            [
             0,
             "#8e0152"
            ],
            [
             0.1,
             "#c51b7d"
            ],
            [
             0.2,
             "#de77ae"
            ],
            [
             0.3,
             "#f1b6da"
            ],
            [
             0.4,
             "#fde0ef"
            ],
            [
             0.5,
             "#f7f7f7"
            ],
            [
             0.6,
             "#e6f5d0"
            ],
            [
             0.7,
             "#b8e186"
            ],
            [
             0.8,
             "#7fbc41"
            ],
            [
             0.9,
             "#4d9221"
            ],
            [
             1,
             "#276419"
            ]
           ],
           "sequential": [
            [
             0,
             "#0d0887"
            ],
            [
             0.1111111111111111,
             "#46039f"
            ],
            [
             0.2222222222222222,
             "#7201a8"
            ],
            [
             0.3333333333333333,
             "#9c179e"
            ],
            [
             0.4444444444444444,
             "#bd3786"
            ],
            [
             0.5555555555555556,
             "#d8576b"
            ],
            [
             0.6666666666666666,
             "#ed7953"
            ],
            [
             0.7777777777777778,
             "#fb9f3a"
            ],
            [
             0.8888888888888888,
             "#fdca26"
            ],
            [
             1,
             "#f0f921"
            ]
           ],
           "sequentialminus": [
            [
             0,
             "#0d0887"
            ],
            [
             0.1111111111111111,
             "#46039f"
            ],
            [
             0.2222222222222222,
             "#7201a8"
            ],
            [
             0.3333333333333333,
             "#9c179e"
            ],
            [
             0.4444444444444444,
             "#bd3786"
            ],
            [
             0.5555555555555556,
             "#d8576b"
            ],
            [
             0.6666666666666666,
             "#ed7953"
            ],
            [
             0.7777777777777778,
             "#fb9f3a"
            ],
            [
             0.8888888888888888,
             "#fdca26"
            ],
            [
             1,
             "#f0f921"
            ]
           ]
          },
          "colorway": [
           "#636efa",
           "#EF553B",
           "#00cc96",
           "#ab63fa",
           "#FFA15A",
           "#19d3f3",
           "#FF6692",
           "#B6E880",
           "#FF97FF",
           "#FECB52"
          ],
          "font": {
           "color": "#2a3f5f"
          },
          "geo": {
           "bgcolor": "white",
           "lakecolor": "white",
           "landcolor": "#E5ECF6",
           "showlakes": true,
           "showland": true,
           "subunitcolor": "white"
          },
          "hoverlabel": {
           "align": "left"
          },
          "hovermode": "closest",
          "mapbox": {
           "style": "light"
          },
          "paper_bgcolor": "white",
          "plot_bgcolor": "#E5ECF6",
          "polar": {
           "angularaxis": {
            "gridcolor": "white",
            "linecolor": "white",
            "ticks": ""
           },
           "bgcolor": "#E5ECF6",
           "radialaxis": {
            "gridcolor": "white",
            "linecolor": "white",
            "ticks": ""
           }
          },
          "scene": {
           "xaxis": {
            "backgroundcolor": "#E5ECF6",
            "gridcolor": "white",
            "gridwidth": 2,
            "linecolor": "white",
            "showbackground": true,
            "ticks": "",
            "zerolinecolor": "white"
           },
           "yaxis": {
            "backgroundcolor": "#E5ECF6",
            "gridcolor": "white",
            "gridwidth": 2,
            "linecolor": "white",
            "showbackground": true,
            "ticks": "",
            "zerolinecolor": "white"
           },
           "zaxis": {
            "backgroundcolor": "#E5ECF6",
            "gridcolor": "white",
            "gridwidth": 2,
            "linecolor": "white",
            "showbackground": true,
            "ticks": "",
            "zerolinecolor": "white"
           }
          },
          "shapedefaults": {
           "line": {
            "color": "#2a3f5f"
           }
          },
          "ternary": {
           "aaxis": {
            "gridcolor": "white",
            "linecolor": "white",
            "ticks": ""
           },
           "baxis": {
            "gridcolor": "white",
            "linecolor": "white",
            "ticks": ""
           },
           "bgcolor": "#E5ECF6",
           "caxis": {
            "gridcolor": "white",
            "linecolor": "white",
            "ticks": ""
           }
          },
          "title": {
           "x": 0.05
          },
          "xaxis": {
           "automargin": true,
           "gridcolor": "white",
           "linecolor": "white",
           "ticks": "",
           "zerolinecolor": "white",
           "zerolinewidth": 2
          },
          "yaxis": {
           "automargin": true,
           "gridcolor": "white",
           "linecolor": "white",
           "ticks": "",
           "zerolinecolor": "white",
           "zerolinewidth": 2
          }
         }
        },
        "title": {
         "text": "Cumulative returns over time"
        },
        "width": 1300,
        "xaxis": {
         "title": {
          "text": "time"
         }
        },
        "yaxis": {
         "title": {
          "text": "euros"
         }
        }
       }
      },
      "text/html": [
       "<div>\n",
       "        \n",
       "        \n",
       "            <div id=\"a004537a-f0ff-4ac7-8fd5-3de4a70b4078\" class=\"plotly-graph-div\" style=\"height:500px; width:1300px;\"></div>\n",
       "            <script type=\"text/javascript\">\n",
       "                require([\"plotly\"], function(Plotly) {\n",
       "                    window.PLOTLYENV=window.PLOTLYENV || {};\n",
       "                    \n",
       "                if (document.getElementById(\"a004537a-f0ff-4ac7-8fd5-3de4a70b4078\")) {\n",
       "                    Plotly.newPlot(\n",
       "                        'a004537a-f0ff-4ac7-8fd5-3de4a70b4078',\n",
       "                        [{\"mode\": \"lines\", \"type\": \"scatter\", \"x\": [\"2018-08-17T00:00:00\", \"2018-08-18T00:00:00\", \"2018-08-19T00:00:00\", \"2018-08-20T00:00:00\", \"2018-08-24T00:00:00\", \"2018-08-25T00:00:00\", \"2018-08-26T00:00:00\", \"2018-08-27T00:00:00\", \"2018-08-31T00:00:00\", \"2018-09-01T00:00:00\", \"2018-09-02T00:00:00\", \"2018-09-14T00:00:00\", \"2018-09-15T00:00:00\", \"2018-09-16T00:00:00\", \"2018-09-17T00:00:00\", \"2018-09-21T00:00:00\", \"2018-09-22T00:00:00\", \"2018-09-23T00:00:00\", \"2018-09-25T00:00:00\", \"2018-09-26T00:00:00\", \"2018-09-27T00:00:00\", \"2018-09-28T00:00:00\", \"2018-09-29T00:00:00\", \"2018-09-30T00:00:00\", \"2018-10-01T00:00:00\", \"2018-10-05T00:00:00\", \"2018-10-06T00:00:00\", \"2018-10-07T00:00:00\", \"2018-10-19T00:00:00\", \"2018-10-20T00:00:00\", \"2018-10-21T00:00:00\", \"2018-10-22T00:00:00\", \"2018-10-24T00:00:00\", \"2018-10-26T00:00:00\", \"2018-10-27T00:00:00\", \"2018-10-28T00:00:00\", \"2018-11-03T00:00:00\", \"2018-11-04T00:00:00\", \"2018-11-05T00:00:00\", \"2018-11-09T00:00:00\", \"2018-11-10T00:00:00\", \"2018-11-11T00:00:00\", \"2018-11-23T00:00:00\", \"2018-11-24T00:00:00\", \"2018-11-25T00:00:00\", \"2018-11-26T00:00:00\", \"2018-11-30T00:00:00\", \"2018-12-01T00:00:00\", \"2018-12-02T00:00:00\", \"2018-12-03T00:00:00\", \"2018-12-07T00:00:00\", \"2018-12-08T00:00:00\", \"2018-12-09T00:00:00\", \"2018-12-10T00:00:00\", \"2018-12-14T00:00:00\", \"2018-12-15T00:00:00\", \"2018-12-16T00:00:00\", \"2018-12-17T00:00:00\", \"2018-12-21T00:00:00\", \"2018-12-22T00:00:00\", \"2018-12-23T00:00:00\", \"2019-01-03T00:00:00\", \"2019-01-04T00:00:00\", \"2019-01-05T00:00:00\", \"2019-01-06T00:00:00\", \"2019-01-07T00:00:00\", \"2019-01-11T00:00:00\", \"2019-01-12T00:00:00\", \"2019-01-13T00:00:00\", \"2019-01-14T00:00:00\", \"2019-01-18T00:00:00\", \"2019-01-19T00:00:00\", \"2019-01-20T00:00:00\", \"2019-01-21T00:00:00\", \"2019-01-26T00:00:00\", \"2019-01-27T00:00:00\", \"2019-01-28T00:00:00\", \"2019-02-01T00:00:00\", \"2019-02-02T00:00:00\", \"2019-02-03T00:00:00\", \"2019-02-04T00:00:00\", \"2019-02-08T00:00:00\", \"2019-02-09T00:00:00\", \"2019-02-10T00:00:00\", \"2019-02-11T00:00:00\", \"2019-02-15T00:00:00\", \"2019-02-16T00:00:00\", \"2019-02-17T00:00:00\", \"2019-02-18T00:00:00\", \"2019-02-22T00:00:00\", \"2019-02-23T00:00:00\", \"2019-02-24T00:00:00\", \"2019-02-25T00:00:00\", \"2019-03-01T00:00:00\", \"2019-03-02T00:00:00\", \"2019-03-03T00:00:00\", \"2019-03-04T00:00:00\", \"2019-03-08T00:00:00\", \"2019-03-09T00:00:00\", \"2019-03-10T00:00:00\", \"2019-03-15T00:00:00\", \"2019-03-16T00:00:00\", \"2019-03-17T00:00:00\", \"2019-03-29T00:00:00\", \"2019-03-30T00:00:00\", \"2019-03-31T00:00:00\", \"2019-04-02T00:00:00\", \"2019-04-03T00:00:00\", \"2019-04-04T00:00:00\", \"2019-04-06T00:00:00\", \"2019-04-07T00:00:00\", \"2019-04-13T00:00:00\", \"2019-04-14T00:00:00\", \"2019-04-15T00:00:00\", \"2019-04-19T00:00:00\", \"2019-04-20T00:00:00\", \"2019-04-21T00:00:00\", \"2019-04-23T00:00:00\", \"2019-04-24T00:00:00\", \"2019-04-25T00:00:00\", \"2019-04-27T00:00:00\", \"2019-04-28T00:00:00\", \"2019-04-29T00:00:00\", \"2019-05-03T00:00:00\", \"2019-05-04T00:00:00\", \"2019-05-05T00:00:00\", \"2019-05-12T00:00:00\", \"2019-05-18T00:00:00\", \"2019-05-19T00:00:00\"], \"y\": [3.712049638852477, -2.285572116747499, -7.658779581561685, -10.409071942344308, -12.638788422122598, -21.363242270722985, -22.259773024097086, -18.450460591092707, -13.904177149683237, -16.757213088423015, -16.272473977851867, -17.483232997703553, -1.4734250705450762, -6.575884736678003, -6.575884736678003, -7.863932825228571, -6.524071503230928, 19.6370675552398, 21.19148931538165, 40.72132906200886, 39.129970772290235, 37.90150499167443, 46.5994087761879, 42.794394135499005, 41.605986273312574, 40.32853539141417, 49.68459836694002, 48.826731867444515, 47.5451935413003, 48.384341503930095, 43.246421523642546, 48.33807881201506, 47.33589249874354, 45.956691101443774, 45.392316356849676, 51.06203948549033, 43.98167740396262, 50.366916489595184, 52.0969064354837, 50.50975203513504, 45.254132148617515, 42.29972461282612, 41.21350741057993, 44.312503075295695, 44.77046522765757, 43.54970094829203, 43.54970094829203, 43.323217491352565, 38.20553329169155, 40.589901068854346, 43.25586925787033, 40.44673052956463, 38.876393956738724, 37.47269559581877, 36.258896727162615, 34.74406150097253, 29.181162313765306, 27.50776162559392, 28.563763631528634, 33.070806724077485, 32.82261846935155, 31.644785746687674, 28.967519485110067, 33.291180197948236, 30.494240302199145, 29.27178819989564, 27.877806898111125, 38.32989492034318, 35.50536138271691, 34.20892024492623, 32.81693616961839, 34.22885248025658, 38.11666677510144, 36.85190794979932, 34.44455351358058, 36.823560650104305, 35.557800413125776, 34.497679770940564, 33.63511432861688, 28.30940044795873, 26.919966179186126, 25.595670139843246, 23.055059844383617, 22.551232704648395, 24.114113036221287, 28.02255970579984, 26.582759942537567, 29.63257068139913, 28.406858605569624, 32.78616200504305, 34.14906516884866, 36.8867394076437, 39.38625131452086, 38.20407167279723, 40.709075024515414, 38.2583722213805, 37.05645218887928, 43.31349447765949, 42.57119424113634, 40.611047948944595, 43.860848869431045, 42.04618543359044, 46.53656012914183, 45.45826690397265, 45.6761782389045, 43.13464231005909, 42.93664763025048, 41.273821703708194, 40.15691216639282, 43.74530784332754, 46.60839054933192, 41.28530133566262, 38.533927288919706, 37.085832354694624, 35.57827543941142, 39.95568188969793, 41.61510805623831, 45.18025444656911, 46.60324112385812, 42.56854287147822, 51.87639919939342, 54.2522208485395, 57.81909699548188, 56.650698850044634, 53.535289619454765, 60.02178895885649, 51.162479211697004, 58.76235177846851, 55.51765003117027]}],\n",
       "                        {\"height\": 500, \"template\": {\"data\": {\"bar\": [{\"error_x\": {\"color\": \"#2a3f5f\"}, \"error_y\": {\"color\": \"#2a3f5f\"}, \"marker\": {\"line\": {\"color\": \"#E5ECF6\", \"width\": 0.5}}, \"type\": \"bar\"}], \"barpolar\": [{\"marker\": {\"line\": {\"color\": \"#E5ECF6\", \"width\": 0.5}}, \"type\": \"barpolar\"}], \"carpet\": [{\"aaxis\": {\"endlinecolor\": \"#2a3f5f\", \"gridcolor\": \"white\", \"linecolor\": \"white\", \"minorgridcolor\": \"white\", \"startlinecolor\": \"#2a3f5f\"}, \"baxis\": {\"endlinecolor\": \"#2a3f5f\", \"gridcolor\": \"white\", \"linecolor\": \"white\", \"minorgridcolor\": \"white\", \"startlinecolor\": \"#2a3f5f\"}, \"type\": \"carpet\"}], \"choropleth\": [{\"colorbar\": {\"outlinewidth\": 0, \"ticks\": \"\"}, \"type\": \"choropleth\"}], \"contour\": [{\"colorbar\": {\"outlinewidth\": 0, \"ticks\": \"\"}, \"colorscale\": [[0.0, \"#0d0887\"], [0.1111111111111111, \"#46039f\"], [0.2222222222222222, \"#7201a8\"], [0.3333333333333333, \"#9c179e\"], [0.4444444444444444, \"#bd3786\"], [0.5555555555555556, \"#d8576b\"], [0.6666666666666666, \"#ed7953\"], [0.7777777777777778, \"#fb9f3a\"], [0.8888888888888888, \"#fdca26\"], [1.0, \"#f0f921\"]], \"type\": \"contour\"}], \"contourcarpet\": [{\"colorbar\": {\"outlinewidth\": 0, \"ticks\": \"\"}, \"type\": \"contourcarpet\"}], \"heatmap\": [{\"colorbar\": {\"outlinewidth\": 0, \"ticks\": \"\"}, \"colorscale\": [[0.0, \"#0d0887\"], [0.1111111111111111, \"#46039f\"], [0.2222222222222222, \"#7201a8\"], [0.3333333333333333, \"#9c179e\"], [0.4444444444444444, \"#bd3786\"], [0.5555555555555556, \"#d8576b\"], [0.6666666666666666, \"#ed7953\"], [0.7777777777777778, \"#fb9f3a\"], [0.8888888888888888, \"#fdca26\"], [1.0, \"#f0f921\"]], \"type\": \"heatmap\"}], \"heatmapgl\": [{\"colorbar\": {\"outlinewidth\": 0, \"ticks\": \"\"}, \"colorscale\": [[0.0, \"#0d0887\"], [0.1111111111111111, \"#46039f\"], [0.2222222222222222, \"#7201a8\"], [0.3333333333333333, \"#9c179e\"], [0.4444444444444444, \"#bd3786\"], [0.5555555555555556, \"#d8576b\"], [0.6666666666666666, \"#ed7953\"], [0.7777777777777778, \"#fb9f3a\"], [0.8888888888888888, \"#fdca26\"], [1.0, \"#f0f921\"]], \"type\": \"heatmapgl\"}], \"histogram\": [{\"marker\": {\"colorbar\": {\"outlinewidth\": 0, \"ticks\": \"\"}}, \"type\": \"histogram\"}], \"histogram2d\": [{\"colorbar\": {\"outlinewidth\": 0, \"ticks\": \"\"}, \"colorscale\": [[0.0, \"#0d0887\"], [0.1111111111111111, \"#46039f\"], [0.2222222222222222, \"#7201a8\"], [0.3333333333333333, \"#9c179e\"], [0.4444444444444444, \"#bd3786\"], [0.5555555555555556, \"#d8576b\"], [0.6666666666666666, \"#ed7953\"], [0.7777777777777778, \"#fb9f3a\"], [0.8888888888888888, \"#fdca26\"], [1.0, \"#f0f921\"]], \"type\": \"histogram2d\"}], \"histogram2dcontour\": [{\"colorbar\": {\"outlinewidth\": 0, \"ticks\": \"\"}, \"colorscale\": [[0.0, \"#0d0887\"], [0.1111111111111111, \"#46039f\"], [0.2222222222222222, \"#7201a8\"], [0.3333333333333333, \"#9c179e\"], [0.4444444444444444, \"#bd3786\"], [0.5555555555555556, \"#d8576b\"], [0.6666666666666666, \"#ed7953\"], [0.7777777777777778, \"#fb9f3a\"], [0.8888888888888888, \"#fdca26\"], [1.0, \"#f0f921\"]], \"type\": \"histogram2dcontour\"}], \"mesh3d\": [{\"colorbar\": {\"outlinewidth\": 0, \"ticks\": \"\"}, \"type\": \"mesh3d\"}], \"parcoords\": [{\"line\": {\"colorbar\": {\"outlinewidth\": 0, \"ticks\": \"\"}}, \"type\": \"parcoords\"}], \"scatter\": [{\"marker\": {\"colorbar\": {\"outlinewidth\": 0, \"ticks\": \"\"}}, \"type\": \"scatter\"}], \"scatter3d\": [{\"line\": {\"colorbar\": {\"outlinewidth\": 0, \"ticks\": \"\"}}, \"marker\": {\"colorbar\": {\"outlinewidth\": 0, \"ticks\": \"\"}}, \"type\": \"scatter3d\"}], \"scattercarpet\": [{\"marker\": {\"colorbar\": {\"outlinewidth\": 0, \"ticks\": \"\"}}, \"type\": \"scattercarpet\"}], \"scattergeo\": [{\"marker\": {\"colorbar\": {\"outlinewidth\": 0, \"ticks\": \"\"}}, \"type\": \"scattergeo\"}], \"scattergl\": [{\"marker\": {\"colorbar\": {\"outlinewidth\": 0, \"ticks\": \"\"}}, \"type\": \"scattergl\"}], \"scattermapbox\": [{\"marker\": {\"colorbar\": {\"outlinewidth\": 0, \"ticks\": \"\"}}, \"type\": \"scattermapbox\"}], \"scatterpolar\": [{\"marker\": {\"colorbar\": {\"outlinewidth\": 0, \"ticks\": \"\"}}, \"type\": \"scatterpolar\"}], \"scatterpolargl\": [{\"marker\": {\"colorbar\": {\"outlinewidth\": 0, \"ticks\": \"\"}}, \"type\": \"scatterpolargl\"}], \"scatterternary\": [{\"marker\": {\"colorbar\": {\"outlinewidth\": 0, \"ticks\": \"\"}}, \"type\": \"scatterternary\"}], \"surface\": [{\"colorbar\": {\"outlinewidth\": 0, \"ticks\": \"\"}, \"colorscale\": [[0.0, \"#0d0887\"], [0.1111111111111111, \"#46039f\"], [0.2222222222222222, \"#7201a8\"], [0.3333333333333333, \"#9c179e\"], [0.4444444444444444, \"#bd3786\"], [0.5555555555555556, \"#d8576b\"], [0.6666666666666666, \"#ed7953\"], [0.7777777777777778, \"#fb9f3a\"], [0.8888888888888888, \"#fdca26\"], [1.0, \"#f0f921\"]], \"type\": \"surface\"}], \"table\": [{\"cells\": {\"fill\": {\"color\": \"#EBF0F8\"}, \"line\": {\"color\": \"white\"}}, \"header\": {\"fill\": {\"color\": \"#C8D4E3\"}, \"line\": {\"color\": \"white\"}}, \"type\": \"table\"}]}, \"layout\": {\"annotationdefaults\": {\"arrowcolor\": \"#2a3f5f\", \"arrowhead\": 0, \"arrowwidth\": 1}, \"colorscale\": {\"diverging\": [[0, \"#8e0152\"], [0.1, \"#c51b7d\"], [0.2, \"#de77ae\"], [0.3, \"#f1b6da\"], [0.4, \"#fde0ef\"], [0.5, \"#f7f7f7\"], [0.6, \"#e6f5d0\"], [0.7, \"#b8e186\"], [0.8, \"#7fbc41\"], [0.9, \"#4d9221\"], [1, \"#276419\"]], \"sequential\": [[0.0, \"#0d0887\"], [0.1111111111111111, \"#46039f\"], [0.2222222222222222, \"#7201a8\"], [0.3333333333333333, \"#9c179e\"], [0.4444444444444444, \"#bd3786\"], [0.5555555555555556, \"#d8576b\"], [0.6666666666666666, \"#ed7953\"], [0.7777777777777778, \"#fb9f3a\"], [0.8888888888888888, \"#fdca26\"], [1.0, \"#f0f921\"]], \"sequentialminus\": [[0.0, \"#0d0887\"], [0.1111111111111111, \"#46039f\"], [0.2222222222222222, \"#7201a8\"], [0.3333333333333333, \"#9c179e\"], [0.4444444444444444, \"#bd3786\"], [0.5555555555555556, \"#d8576b\"], [0.6666666666666666, \"#ed7953\"], [0.7777777777777778, \"#fb9f3a\"], [0.8888888888888888, \"#fdca26\"], [1.0, \"#f0f921\"]]}, \"colorway\": [\"#636efa\", \"#EF553B\", \"#00cc96\", \"#ab63fa\", \"#FFA15A\", \"#19d3f3\", \"#FF6692\", \"#B6E880\", \"#FF97FF\", \"#FECB52\"], \"font\": {\"color\": \"#2a3f5f\"}, \"geo\": {\"bgcolor\": \"white\", \"lakecolor\": \"white\", \"landcolor\": \"#E5ECF6\", \"showlakes\": true, \"showland\": true, \"subunitcolor\": \"white\"}, \"hoverlabel\": {\"align\": \"left\"}, \"hovermode\": \"closest\", \"mapbox\": {\"style\": \"light\"}, \"paper_bgcolor\": \"white\", \"plot_bgcolor\": \"#E5ECF6\", \"polar\": {\"angularaxis\": {\"gridcolor\": \"white\", \"linecolor\": \"white\", \"ticks\": \"\"}, \"bgcolor\": \"#E5ECF6\", \"radialaxis\": {\"gridcolor\": \"white\", \"linecolor\": \"white\", \"ticks\": \"\"}}, \"scene\": {\"xaxis\": {\"backgroundcolor\": \"#E5ECF6\", \"gridcolor\": \"white\", \"gridwidth\": 2, \"linecolor\": \"white\", \"showbackground\": true, \"ticks\": \"\", \"zerolinecolor\": \"white\"}, \"yaxis\": {\"backgroundcolor\": \"#E5ECF6\", \"gridcolor\": \"white\", \"gridwidth\": 2, \"linecolor\": \"white\", \"showbackground\": true, \"ticks\": \"\", \"zerolinecolor\": \"white\"}, \"zaxis\": {\"backgroundcolor\": \"#E5ECF6\", \"gridcolor\": \"white\", \"gridwidth\": 2, \"linecolor\": \"white\", \"showbackground\": true, \"ticks\": \"\", \"zerolinecolor\": \"white\"}}, \"shapedefaults\": {\"line\": {\"color\": \"#2a3f5f\"}}, \"ternary\": {\"aaxis\": {\"gridcolor\": \"white\", \"linecolor\": \"white\", \"ticks\": \"\"}, \"baxis\": {\"gridcolor\": \"white\", \"linecolor\": \"white\", \"ticks\": \"\"}, \"bgcolor\": \"#E5ECF6\", \"caxis\": {\"gridcolor\": \"white\", \"linecolor\": \"white\", \"ticks\": \"\"}}, \"title\": {\"x\": 0.05}, \"xaxis\": {\"automargin\": true, \"gridcolor\": \"white\", \"linecolor\": \"white\", \"ticks\": \"\", \"zerolinecolor\": \"white\", \"zerolinewidth\": 2}, \"yaxis\": {\"automargin\": true, \"gridcolor\": \"white\", \"linecolor\": \"white\", \"ticks\": \"\", \"zerolinecolor\": \"white\", \"zerolinewidth\": 2}}}, \"title\": {\"text\": \"Cumulative returns over time\"}, \"width\": 1300, \"xaxis\": {\"title\": {\"text\": \"time\"}}, \"yaxis\": {\"title\": {\"text\": \"euros\"}}},\n",
       "                        {\"responsive\": true}\n",
       "                    ).then(function(){\n",
       "                            \n",
       "var gd = document.getElementById('a004537a-f0ff-4ac7-8fd5-3de4a70b4078');\n",
       "var x = new MutationObserver(function (mutations, observer) {{\n",
       "        var display = window.getComputedStyle(gd).display;\n",
       "        if (!display || display === 'none') {{\n",
       "            console.log([gd, 'removed!']);\n",
       "            Plotly.purge(gd);\n",
       "            observer.disconnect();\n",
       "        }}\n",
       "}});\n",
       "\n",
       "// Listen for the removal of the full notebook cells\n",
       "var notebookContainer = gd.closest('#notebook-container');\n",
       "if (notebookContainer) {{\n",
       "    x.observe(notebookContainer, {childList: true});\n",
       "}}\n",
       "\n",
       "// Listen for the clearing of the current output cell\n",
       "var outputEl = gd.closest('.output');\n",
       "if (outputEl) {{\n",
       "    x.observe(outputEl, {childList: true});\n",
       "}}\n",
       "\n",
       "                        })\n",
       "                };\n",
       "                });\n",
       "            </script>\n",
       "        </div>"
      ]
     },
     "metadata": {},
     "output_type": "display_data"
    }
   ],
   "source": [
    "traces = []\n",
    "scatter = go.Scatter(\n",
    "    x=list(returns_over_time.keys()),\n",
    "    y=list(returns_over_time.cumsum().values),\n",
    "    mode='lines',\n",
    ")\n",
    "traces.append(scatter)\n",
    "\n",
    "layout = {\n",
    "    'title':'Cumulative returns over time',\n",
    "    'xaxis': {\n",
    "        'title': 'time',\n",
    "    },\n",
    "    'yaxis': {\n",
    "        'title': 'euros',\n",
    "    },\n",
    "    'width': 1300,\n",
    "    'height': 500,\n",
    "}\n",
    "fig = go.Figure(data=traces, layout=layout)\n",
    "iplot(fig)"
   ]
  },
  {
   "cell_type": "code",
   "execution_count": 207,
   "metadata": {},
   "outputs": [
    {
     "data": {
      "application/vnd.plotly.v1+json": {
       "config": {
        "linkText": "Export to plot.ly",
        "plotlyServerURL": "https://plot.ly",
        "showLink": false
       },
       "data": [
        {
         "mode": "lines",
         "type": "scatter",
         "x": [
          "2018-08-17T00:00:00",
          "2018-08-18T00:00:00",
          "2018-08-19T00:00:00",
          "2018-08-20T00:00:00",
          "2018-08-24T00:00:00",
          "2018-08-25T00:00:00",
          "2018-08-26T00:00:00",
          "2018-08-27T00:00:00",
          "2018-08-31T00:00:00",
          "2018-09-01T00:00:00",
          "2018-09-02T00:00:00",
          "2018-09-14T00:00:00",
          "2018-09-15T00:00:00",
          "2018-09-16T00:00:00",
          "2018-09-17T00:00:00",
          "2018-09-21T00:00:00",
          "2018-09-22T00:00:00",
          "2018-09-23T00:00:00",
          "2018-09-25T00:00:00",
          "2018-09-26T00:00:00",
          "2018-09-27T00:00:00",
          "2018-09-28T00:00:00",
          "2018-09-29T00:00:00",
          "2018-09-30T00:00:00",
          "2018-10-01T00:00:00",
          "2018-10-05T00:00:00",
          "2018-10-06T00:00:00",
          "2018-10-07T00:00:00",
          "2018-10-19T00:00:00",
          "2018-10-20T00:00:00",
          "2018-10-21T00:00:00",
          "2018-10-22T00:00:00",
          "2018-10-24T00:00:00",
          "2018-10-26T00:00:00",
          "2018-10-27T00:00:00",
          "2018-10-28T00:00:00",
          "2018-11-03T00:00:00",
          "2018-11-04T00:00:00",
          "2018-11-05T00:00:00",
          "2018-11-09T00:00:00",
          "2018-11-10T00:00:00",
          "2018-11-11T00:00:00",
          "2018-11-23T00:00:00",
          "2018-11-24T00:00:00",
          "2018-11-25T00:00:00",
          "2018-11-26T00:00:00",
          "2018-11-30T00:00:00",
          "2018-12-01T00:00:00",
          "2018-12-02T00:00:00",
          "2018-12-03T00:00:00",
          "2018-12-07T00:00:00",
          "2018-12-08T00:00:00",
          "2018-12-09T00:00:00",
          "2018-12-10T00:00:00",
          "2018-12-14T00:00:00",
          "2018-12-15T00:00:00",
          "2018-12-16T00:00:00",
          "2018-12-17T00:00:00",
          "2018-12-21T00:00:00",
          "2018-12-22T00:00:00",
          "2018-12-23T00:00:00",
          "2019-01-03T00:00:00",
          "2019-01-04T00:00:00",
          "2019-01-05T00:00:00",
          "2019-01-06T00:00:00",
          "2019-01-07T00:00:00",
          "2019-01-11T00:00:00",
          "2019-01-12T00:00:00",
          "2019-01-13T00:00:00",
          "2019-01-14T00:00:00",
          "2019-01-18T00:00:00",
          "2019-01-19T00:00:00",
          "2019-01-20T00:00:00",
          "2019-01-21T00:00:00",
          "2019-01-26T00:00:00",
          "2019-01-27T00:00:00",
          "2019-01-28T00:00:00",
          "2019-02-01T00:00:00",
          "2019-02-02T00:00:00",
          "2019-02-03T00:00:00",
          "2019-02-04T00:00:00",
          "2019-02-08T00:00:00",
          "2019-02-09T00:00:00",
          "2019-02-10T00:00:00",
          "2019-02-11T00:00:00",
          "2019-02-15T00:00:00",
          "2019-02-16T00:00:00",
          "2019-02-17T00:00:00",
          "2019-02-18T00:00:00",
          "2019-02-22T00:00:00",
          "2019-02-23T00:00:00",
          "2019-02-24T00:00:00",
          "2019-02-25T00:00:00",
          "2019-03-01T00:00:00",
          "2019-03-02T00:00:00",
          "2019-03-03T00:00:00",
          "2019-03-04T00:00:00",
          "2019-03-08T00:00:00",
          "2019-03-09T00:00:00",
          "2019-03-10T00:00:00",
          "2019-03-15T00:00:00",
          "2019-03-16T00:00:00",
          "2019-03-17T00:00:00",
          "2019-03-29T00:00:00",
          "2019-03-30T00:00:00",
          "2019-03-31T00:00:00",
          "2019-04-02T00:00:00",
          "2019-04-03T00:00:00",
          "2019-04-04T00:00:00",
          "2019-04-06T00:00:00",
          "2019-04-07T00:00:00",
          "2019-04-13T00:00:00",
          "2019-04-14T00:00:00",
          "2019-04-15T00:00:00",
          "2019-04-19T00:00:00",
          "2019-04-20T00:00:00",
          "2019-04-21T00:00:00",
          "2019-04-23T00:00:00",
          "2019-04-24T00:00:00",
          "2019-04-25T00:00:00",
          "2019-04-27T00:00:00",
          "2019-04-28T00:00:00",
          "2019-04-29T00:00:00",
          "2019-05-03T00:00:00",
          "2019-05-04T00:00:00",
          "2019-05-05T00:00:00",
          "2019-05-12T00:00:00",
          "2019-05-18T00:00:00",
          "2019-05-19T00:00:00"
         ],
         "y": [
          1.2745008634462123,
          -0.2565126404872836,
          -0.5362021521131924,
          -0.6110879185576177,
          -0.6561040703647303,
          -0.7633043323842297,
          -0.6858820629458247,
          -0.5257309627328633,
          -0.3544841545912469,
          -0.39825371592790354,
          -0.32996910083116265,
          -0.34602514127501743,
          -0.025751927014338788,
          -0.10552047080930756,
          -0.10552047080930756,
          -0.12363387946562548,
          -0.0928950153273121,
          0.258516464924382,
          0.2610563093767183,
          0.4685061710458177,
          0.43111019910912257,
          0.4119995084383322,
          0.480594835320419,
          0.4246867759071851,
          0.40808040148043256,
          0.39065615962795874,
          0.4571309038836567,
          0.4227449229437217,
          0.4071318945351679,
          0.39330450317263604,
          0.33744619968484085,
          0.37294235948976734,
          0.3624080036977811,
          0.34817225593092305,
          0.3279688024738109,
          0.35587010045034534,
          0.2921100970400964,
          0.326214241705314,
          0.33442128655636016,
          0.3209629374904839,
          0.27827283888939297,
          0.24968667170751813,
          0.24172507913174499,
          0.2507945821076159,
          0.24590651194584665,
          0.23760813059133762,
          0.23760813059133762,
          0.23024324262667265,
          0.19766884265345128,
          0.20862883521277165,
          0.22098585833782747,
          0.2003419523705715,
          0.18699184960160323,
          0.17903143149725542,
          0.17223352455799498,
          0.1614278422537729,
          0.13216550805476465,
          0.12364929981676864,
          0.12692915799362237,
          0.1431048885659684,
          0.13984959969113653,
          0.13415785874717184,
          0.12142935242153403,
          0.13740237727130103,
          0.12442228932465602,
          0.11884168974760263,
          0.11254526233341479,
          0.15128956121764997,
          0.13783005876417898,
          0.13213235312200522,
          0.12607793350112878,
          0.1295122412668369,
          0.1407126386991279,
          0.13541137811817136,
          0.1242638986563062,
          0.12960955258855106,
          0.1245992900372929,
          0.12043708523592771,
          0.11560860900037577,
          0.09555424088386506,
          0.09044025908212162,
          0.08561026820485552,
          0.07584273606017096,
          0.07285108581338307,
          0.07761389498582714,
          0.08981703001914762,
          0.08391881300839238,
          0.09202782394107677,
          0.08788666459393912,
          0.10107041651335291,
          0.10361200233946517,
          0.11022666956224061,
          0.11730641386585561,
          0.11338623003972872,
          0.11900809496028424,
          0.11024745568364641,
          0.10641536428348526,
          0.12382752594980495,
          0.11981888641538126,
          0.11224168547338863,
          0.12086170029623221,
          0.11480572373019228,
          0.12483508033042648,
          0.12159083494683899,
          0.12093074244926914,
          0.11343854069617083,
          0.11170599004402569,
          0.10623960448530648,
          0.1022692932370277,
          0.11016787038907319,
          0.11531298536682086,
          0.10081550951290687,
          0.0930132631494613,
          0.0892060369420523,
          0.08527055474328923,
          0.09467990573916094,
          0.09743733932182708,
          0.10531464018765549,
          0.1073782216461415,
          0.09717849733797357,
          0.11696152563508273,
          0.12054901671287993,
          0.1281054474903009,
          0.12519262493382252,
          0.11686097301593297,
          0.12954985328551522,
          0.10748650891918328,
          0.12112693465038503,
          0.11367830979374212
         ]
        }
       ],
       "layout": {
        "height": 500,
        "template": {
         "data": {
          "bar": [
           {
            "error_x": {
             "color": "#2a3f5f"
            },
            "error_y": {
             "color": "#2a3f5f"
            },
            "marker": {
             "line": {
              "color": "#E5ECF6",
              "width": 0.5
             }
            },
            "type": "bar"
           }
          ],
          "barpolar": [
           {
            "marker": {
             "line": {
              "color": "#E5ECF6",
              "width": 0.5
             }
            },
            "type": "barpolar"
           }
          ],
          "carpet": [
           {
            "aaxis": {
             "endlinecolor": "#2a3f5f",
             "gridcolor": "white",
             "linecolor": "white",
             "minorgridcolor": "white",
             "startlinecolor": "#2a3f5f"
            },
            "baxis": {
             "endlinecolor": "#2a3f5f",
             "gridcolor": "white",
             "linecolor": "white",
             "minorgridcolor": "white",
             "startlinecolor": "#2a3f5f"
            },
            "type": "carpet"
           }
          ],
          "choropleth": [
           {
            "colorbar": {
             "outlinewidth": 0,
             "ticks": ""
            },
            "type": "choropleth"
           }
          ],
          "contour": [
           {
            "colorbar": {
             "outlinewidth": 0,
             "ticks": ""
            },
            "colorscale": [
             [
              0,
              "#0d0887"
             ],
             [
              0.1111111111111111,
              "#46039f"
             ],
             [
              0.2222222222222222,
              "#7201a8"
             ],
             [
              0.3333333333333333,
              "#9c179e"
             ],
             [
              0.4444444444444444,
              "#bd3786"
             ],
             [
              0.5555555555555556,
              "#d8576b"
             ],
             [
              0.6666666666666666,
              "#ed7953"
             ],
             [
              0.7777777777777778,
              "#fb9f3a"
             ],
             [
              0.8888888888888888,
              "#fdca26"
             ],
             [
              1,
              "#f0f921"
             ]
            ],
            "type": "contour"
           }
          ],
          "contourcarpet": [
           {
            "colorbar": {
             "outlinewidth": 0,
             "ticks": ""
            },
            "type": "contourcarpet"
           }
          ],
          "heatmap": [
           {
            "colorbar": {
             "outlinewidth": 0,
             "ticks": ""
            },
            "colorscale": [
             [
              0,
              "#0d0887"
             ],
             [
              0.1111111111111111,
              "#46039f"
             ],
             [
              0.2222222222222222,
              "#7201a8"
             ],
             [
              0.3333333333333333,
              "#9c179e"
             ],
             [
              0.4444444444444444,
              "#bd3786"
             ],
             [
              0.5555555555555556,
              "#d8576b"
             ],
             [
              0.6666666666666666,
              "#ed7953"
             ],
             [
              0.7777777777777778,
              "#fb9f3a"
             ],
             [
              0.8888888888888888,
              "#fdca26"
             ],
             [
              1,
              "#f0f921"
             ]
            ],
            "type": "heatmap"
           }
          ],
          "heatmapgl": [
           {
            "colorbar": {
             "outlinewidth": 0,
             "ticks": ""
            },
            "colorscale": [
             [
              0,
              "#0d0887"
             ],
             [
              0.1111111111111111,
              "#46039f"
             ],
             [
              0.2222222222222222,
              "#7201a8"
             ],
             [
              0.3333333333333333,
              "#9c179e"
             ],
             [
              0.4444444444444444,
              "#bd3786"
             ],
             [
              0.5555555555555556,
              "#d8576b"
             ],
             [
              0.6666666666666666,
              "#ed7953"
             ],
             [
              0.7777777777777778,
              "#fb9f3a"
             ],
             [
              0.8888888888888888,
              "#fdca26"
             ],
             [
              1,
              "#f0f921"
             ]
            ],
            "type": "heatmapgl"
           }
          ],
          "histogram": [
           {
            "marker": {
             "colorbar": {
              "outlinewidth": 0,
              "ticks": ""
             }
            },
            "type": "histogram"
           }
          ],
          "histogram2d": [
           {
            "colorbar": {
             "outlinewidth": 0,
             "ticks": ""
            },
            "colorscale": [
             [
              0,
              "#0d0887"
             ],
             [
              0.1111111111111111,
              "#46039f"
             ],
             [
              0.2222222222222222,
              "#7201a8"
             ],
             [
              0.3333333333333333,
              "#9c179e"
             ],
             [
              0.4444444444444444,
              "#bd3786"
             ],
             [
              0.5555555555555556,
              "#d8576b"
             ],
             [
              0.6666666666666666,
              "#ed7953"
             ],
             [
              0.7777777777777778,
              "#fb9f3a"
             ],
             [
              0.8888888888888888,
              "#fdca26"
             ],
             [
              1,
              "#f0f921"
             ]
            ],
            "type": "histogram2d"
           }
          ],
          "histogram2dcontour": [
           {
            "colorbar": {
             "outlinewidth": 0,
             "ticks": ""
            },
            "colorscale": [
             [
              0,
              "#0d0887"
             ],
             [
              0.1111111111111111,
              "#46039f"
             ],
             [
              0.2222222222222222,
              "#7201a8"
             ],
             [
              0.3333333333333333,
              "#9c179e"
             ],
             [
              0.4444444444444444,
              "#bd3786"
             ],
             [
              0.5555555555555556,
              "#d8576b"
             ],
             [
              0.6666666666666666,
              "#ed7953"
             ],
             [
              0.7777777777777778,
              "#fb9f3a"
             ],
             [
              0.8888888888888888,
              "#fdca26"
             ],
             [
              1,
              "#f0f921"
             ]
            ],
            "type": "histogram2dcontour"
           }
          ],
          "mesh3d": [
           {
            "colorbar": {
             "outlinewidth": 0,
             "ticks": ""
            },
            "type": "mesh3d"
           }
          ],
          "parcoords": [
           {
            "line": {
             "colorbar": {
              "outlinewidth": 0,
              "ticks": ""
             }
            },
            "type": "parcoords"
           }
          ],
          "scatter": [
           {
            "marker": {
             "colorbar": {
              "outlinewidth": 0,
              "ticks": ""
             }
            },
            "type": "scatter"
           }
          ],
          "scatter3d": [
           {
            "line": {
             "colorbar": {
              "outlinewidth": 0,
              "ticks": ""
             }
            },
            "marker": {
             "colorbar": {
              "outlinewidth": 0,
              "ticks": ""
             }
            },
            "type": "scatter3d"
           }
          ],
          "scattercarpet": [
           {
            "marker": {
             "colorbar": {
              "outlinewidth": 0,
              "ticks": ""
             }
            },
            "type": "scattercarpet"
           }
          ],
          "scattergeo": [
           {
            "marker": {
             "colorbar": {
              "outlinewidth": 0,
              "ticks": ""
             }
            },
            "type": "scattergeo"
           }
          ],
          "scattergl": [
           {
            "marker": {
             "colorbar": {
              "outlinewidth": 0,
              "ticks": ""
             }
            },
            "type": "scattergl"
           }
          ],
          "scattermapbox": [
           {
            "marker": {
             "colorbar": {
              "outlinewidth": 0,
              "ticks": ""
             }
            },
            "type": "scattermapbox"
           }
          ],
          "scatterpolar": [
           {
            "marker": {
             "colorbar": {
              "outlinewidth": 0,
              "ticks": ""
             }
            },
            "type": "scatterpolar"
           }
          ],
          "scatterpolargl": [
           {
            "marker": {
             "colorbar": {
              "outlinewidth": 0,
              "ticks": ""
             }
            },
            "type": "scatterpolargl"
           }
          ],
          "scatterternary": [
           {
            "marker": {
             "colorbar": {
              "outlinewidth": 0,
              "ticks": ""
             }
            },
            "type": "scatterternary"
           }
          ],
          "surface": [
           {
            "colorbar": {
             "outlinewidth": 0,
             "ticks": ""
            },
            "colorscale": [
             [
              0,
              "#0d0887"
             ],
             [
              0.1111111111111111,
              "#46039f"
             ],
             [
              0.2222222222222222,
              "#7201a8"
             ],
             [
              0.3333333333333333,
              "#9c179e"
             ],
             [
              0.4444444444444444,
              "#bd3786"
             ],
             [
              0.5555555555555556,
              "#d8576b"
             ],
             [
              0.6666666666666666,
              "#ed7953"
             ],
             [
              0.7777777777777778,
              "#fb9f3a"
             ],
             [
              0.8888888888888888,
              "#fdca26"
             ],
             [
              1,
              "#f0f921"
             ]
            ],
            "type": "surface"
           }
          ],
          "table": [
           {
            "cells": {
             "fill": {
              "color": "#EBF0F8"
             },
             "line": {
              "color": "white"
             }
            },
            "header": {
             "fill": {
              "color": "#C8D4E3"
             },
             "line": {
              "color": "white"
             }
            },
            "type": "table"
           }
          ]
         },
         "layout": {
          "annotationdefaults": {
           "arrowcolor": "#2a3f5f",
           "arrowhead": 0,
           "arrowwidth": 1
          },
          "colorscale": {
           "diverging": [
            [
             0,
             "#8e0152"
            ],
            [
             0.1,
             "#c51b7d"
            ],
            [
             0.2,
             "#de77ae"
            ],
            [
             0.3,
             "#f1b6da"
            ],
            [
             0.4,
             "#fde0ef"
            ],
            [
             0.5,
             "#f7f7f7"
            ],
            [
             0.6,
             "#e6f5d0"
            ],
            [
             0.7,
             "#b8e186"
            ],
            [
             0.8,
             "#7fbc41"
            ],
            [
             0.9,
             "#4d9221"
            ],
            [
             1,
             "#276419"
            ]
           ],
           "sequential": [
            [
             0,
             "#0d0887"
            ],
            [
             0.1111111111111111,
             "#46039f"
            ],
            [
             0.2222222222222222,
             "#7201a8"
            ],
            [
             0.3333333333333333,
             "#9c179e"
            ],
            [
             0.4444444444444444,
             "#bd3786"
            ],
            [
             0.5555555555555556,
             "#d8576b"
            ],
            [
             0.6666666666666666,
             "#ed7953"
            ],
            [
             0.7777777777777778,
             "#fb9f3a"
            ],
            [
             0.8888888888888888,
             "#fdca26"
            ],
            [
             1,
             "#f0f921"
            ]
           ],
           "sequentialminus": [
            [
             0,
             "#0d0887"
            ],
            [
             0.1111111111111111,
             "#46039f"
            ],
            [
             0.2222222222222222,
             "#7201a8"
            ],
            [
             0.3333333333333333,
             "#9c179e"
            ],
            [
             0.4444444444444444,
             "#bd3786"
            ],
            [
             0.5555555555555556,
             "#d8576b"
            ],
            [
             0.6666666666666666,
             "#ed7953"
            ],
            [
             0.7777777777777778,
             "#fb9f3a"
            ],
            [
             0.8888888888888888,
             "#fdca26"
            ],
            [
             1,
             "#f0f921"
            ]
           ]
          },
          "colorway": [
           "#636efa",
           "#EF553B",
           "#00cc96",
           "#ab63fa",
           "#FFA15A",
           "#19d3f3",
           "#FF6692",
           "#B6E880",
           "#FF97FF",
           "#FECB52"
          ],
          "font": {
           "color": "#2a3f5f"
          },
          "geo": {
           "bgcolor": "white",
           "lakecolor": "white",
           "landcolor": "#E5ECF6",
           "showlakes": true,
           "showland": true,
           "subunitcolor": "white"
          },
          "hoverlabel": {
           "align": "left"
          },
          "hovermode": "closest",
          "mapbox": {
           "style": "light"
          },
          "paper_bgcolor": "white",
          "plot_bgcolor": "#E5ECF6",
          "polar": {
           "angularaxis": {
            "gridcolor": "white",
            "linecolor": "white",
            "ticks": ""
           },
           "bgcolor": "#E5ECF6",
           "radialaxis": {
            "gridcolor": "white",
            "linecolor": "white",
            "ticks": ""
           }
          },
          "scene": {
           "xaxis": {
            "backgroundcolor": "#E5ECF6",
            "gridcolor": "white",
            "gridwidth": 2,
            "linecolor": "white",
            "showbackground": true,
            "ticks": "",
            "zerolinecolor": "white"
           },
           "yaxis": {
            "backgroundcolor": "#E5ECF6",
            "gridcolor": "white",
            "gridwidth": 2,
            "linecolor": "white",
            "showbackground": true,
            "ticks": "",
            "zerolinecolor": "white"
           },
           "zaxis": {
            "backgroundcolor": "#E5ECF6",
            "gridcolor": "white",
            "gridwidth": 2,
            "linecolor": "white",
            "showbackground": true,
            "ticks": "",
            "zerolinecolor": "white"
           }
          },
          "shapedefaults": {
           "line": {
            "color": "#2a3f5f"
           }
          },
          "ternary": {
           "aaxis": {
            "gridcolor": "white",
            "linecolor": "white",
            "ticks": ""
           },
           "baxis": {
            "gridcolor": "white",
            "linecolor": "white",
            "ticks": ""
           },
           "bgcolor": "#E5ECF6",
           "caxis": {
            "gridcolor": "white",
            "linecolor": "white",
            "ticks": ""
           }
          },
          "title": {
           "x": 0.05
          },
          "xaxis": {
           "automargin": true,
           "gridcolor": "white",
           "linecolor": "white",
           "ticks": "",
           "zerolinecolor": "white",
           "zerolinewidth": 2
          },
          "yaxis": {
           "automargin": true,
           "gridcolor": "white",
           "linecolor": "white",
           "ticks": "",
           "zerolinecolor": "white",
           "zerolinewidth": 2
          }
         }
        },
        "title": {
         "text": "ROI over time"
        },
        "width": 1300,
        "xaxis": {
         "title": {
          "text": "time"
         }
        },
        "yaxis": {
         "title": {
          "text": "ROI"
         }
        }
       }
      },
      "text/html": [
       "<div>\n",
       "        \n",
       "        \n",
       "            <div id=\"41a2f1b0-6013-47e1-8b7b-cd4876aa9af0\" class=\"plotly-graph-div\" style=\"height:500px; width:1300px;\"></div>\n",
       "            <script type=\"text/javascript\">\n",
       "                require([\"plotly\"], function(Plotly) {\n",
       "                    window.PLOTLYENV=window.PLOTLYENV || {};\n",
       "                    \n",
       "                if (document.getElementById(\"41a2f1b0-6013-47e1-8b7b-cd4876aa9af0\")) {\n",
       "                    Plotly.newPlot(\n",
       "                        '41a2f1b0-6013-47e1-8b7b-cd4876aa9af0',\n",
       "                        [{\"mode\": \"lines\", \"type\": \"scatter\", \"x\": [\"2018-08-17T00:00:00\", \"2018-08-18T00:00:00\", \"2018-08-19T00:00:00\", \"2018-08-20T00:00:00\", \"2018-08-24T00:00:00\", \"2018-08-25T00:00:00\", \"2018-08-26T00:00:00\", \"2018-08-27T00:00:00\", \"2018-08-31T00:00:00\", \"2018-09-01T00:00:00\", \"2018-09-02T00:00:00\", \"2018-09-14T00:00:00\", \"2018-09-15T00:00:00\", \"2018-09-16T00:00:00\", \"2018-09-17T00:00:00\", \"2018-09-21T00:00:00\", \"2018-09-22T00:00:00\", \"2018-09-23T00:00:00\", \"2018-09-25T00:00:00\", \"2018-09-26T00:00:00\", \"2018-09-27T00:00:00\", \"2018-09-28T00:00:00\", \"2018-09-29T00:00:00\", \"2018-09-30T00:00:00\", \"2018-10-01T00:00:00\", \"2018-10-05T00:00:00\", \"2018-10-06T00:00:00\", \"2018-10-07T00:00:00\", \"2018-10-19T00:00:00\", \"2018-10-20T00:00:00\", \"2018-10-21T00:00:00\", \"2018-10-22T00:00:00\", \"2018-10-24T00:00:00\", \"2018-10-26T00:00:00\", \"2018-10-27T00:00:00\", \"2018-10-28T00:00:00\", \"2018-11-03T00:00:00\", \"2018-11-04T00:00:00\", \"2018-11-05T00:00:00\", \"2018-11-09T00:00:00\", \"2018-11-10T00:00:00\", \"2018-11-11T00:00:00\", \"2018-11-23T00:00:00\", \"2018-11-24T00:00:00\", \"2018-11-25T00:00:00\", \"2018-11-26T00:00:00\", \"2018-11-30T00:00:00\", \"2018-12-01T00:00:00\", \"2018-12-02T00:00:00\", \"2018-12-03T00:00:00\", \"2018-12-07T00:00:00\", \"2018-12-08T00:00:00\", \"2018-12-09T00:00:00\", \"2018-12-10T00:00:00\", \"2018-12-14T00:00:00\", \"2018-12-15T00:00:00\", \"2018-12-16T00:00:00\", \"2018-12-17T00:00:00\", \"2018-12-21T00:00:00\", \"2018-12-22T00:00:00\", \"2018-12-23T00:00:00\", \"2019-01-03T00:00:00\", \"2019-01-04T00:00:00\", \"2019-01-05T00:00:00\", \"2019-01-06T00:00:00\", \"2019-01-07T00:00:00\", \"2019-01-11T00:00:00\", \"2019-01-12T00:00:00\", \"2019-01-13T00:00:00\", \"2019-01-14T00:00:00\", \"2019-01-18T00:00:00\", \"2019-01-19T00:00:00\", \"2019-01-20T00:00:00\", \"2019-01-21T00:00:00\", \"2019-01-26T00:00:00\", \"2019-01-27T00:00:00\", \"2019-01-28T00:00:00\", \"2019-02-01T00:00:00\", \"2019-02-02T00:00:00\", \"2019-02-03T00:00:00\", \"2019-02-04T00:00:00\", \"2019-02-08T00:00:00\", \"2019-02-09T00:00:00\", \"2019-02-10T00:00:00\", \"2019-02-11T00:00:00\", \"2019-02-15T00:00:00\", \"2019-02-16T00:00:00\", \"2019-02-17T00:00:00\", \"2019-02-18T00:00:00\", \"2019-02-22T00:00:00\", \"2019-02-23T00:00:00\", \"2019-02-24T00:00:00\", \"2019-02-25T00:00:00\", \"2019-03-01T00:00:00\", \"2019-03-02T00:00:00\", \"2019-03-03T00:00:00\", \"2019-03-04T00:00:00\", \"2019-03-08T00:00:00\", \"2019-03-09T00:00:00\", \"2019-03-10T00:00:00\", \"2019-03-15T00:00:00\", \"2019-03-16T00:00:00\", \"2019-03-17T00:00:00\", \"2019-03-29T00:00:00\", \"2019-03-30T00:00:00\", \"2019-03-31T00:00:00\", \"2019-04-02T00:00:00\", \"2019-04-03T00:00:00\", \"2019-04-04T00:00:00\", \"2019-04-06T00:00:00\", \"2019-04-07T00:00:00\", \"2019-04-13T00:00:00\", \"2019-04-14T00:00:00\", \"2019-04-15T00:00:00\", \"2019-04-19T00:00:00\", \"2019-04-20T00:00:00\", \"2019-04-21T00:00:00\", \"2019-04-23T00:00:00\", \"2019-04-24T00:00:00\", \"2019-04-25T00:00:00\", \"2019-04-27T00:00:00\", \"2019-04-28T00:00:00\", \"2019-04-29T00:00:00\", \"2019-05-03T00:00:00\", \"2019-05-04T00:00:00\", \"2019-05-05T00:00:00\", \"2019-05-12T00:00:00\", \"2019-05-18T00:00:00\", \"2019-05-19T00:00:00\"], \"y\": [1.2745008634462123, -0.2565126404872836, -0.5362021521131924, -0.6110879185576177, -0.6561040703647303, -0.7633043323842297, -0.6858820629458247, -0.5257309627328633, -0.3544841545912469, -0.39825371592790354, -0.32996910083116265, -0.34602514127501743, -0.025751927014338788, -0.10552047080930756, -0.10552047080930756, -0.12363387946562548, -0.0928950153273121, 0.258516464924382, 0.2610563093767183, 0.4685061710458177, 0.43111019910912257, 0.4119995084383322, 0.480594835320419, 0.4246867759071851, 0.40808040148043256, 0.39065615962795874, 0.4571309038836567, 0.4227449229437217, 0.4071318945351679, 0.39330450317263604, 0.33744619968484085, 0.37294235948976734, 0.3624080036977811, 0.34817225593092305, 0.3279688024738109, 0.35587010045034534, 0.2921100970400964, 0.326214241705314, 0.33442128655636016, 0.3209629374904839, 0.27827283888939297, 0.24968667170751813, 0.24172507913174499, 0.2507945821076159, 0.24590651194584665, 0.23760813059133762, 0.23760813059133762, 0.23024324262667265, 0.19766884265345128, 0.20862883521277165, 0.22098585833782747, 0.2003419523705715, 0.18699184960160323, 0.17903143149725542, 0.17223352455799498, 0.1614278422537729, 0.13216550805476465, 0.12364929981676864, 0.12692915799362237, 0.1431048885659684, 0.13984959969113653, 0.13415785874717184, 0.12142935242153403, 0.13740237727130103, 0.12442228932465602, 0.11884168974760263, 0.11254526233341479, 0.15128956121764997, 0.13783005876417898, 0.13213235312200522, 0.12607793350112878, 0.1295122412668369, 0.1407126386991279, 0.13541137811817136, 0.1242638986563062, 0.12960955258855106, 0.1245992900372929, 0.12043708523592771, 0.11560860900037577, 0.09555424088386506, 0.09044025908212162, 0.08561026820485552, 0.07584273606017096, 0.07285108581338307, 0.07761389498582714, 0.08981703001914762, 0.08391881300839238, 0.09202782394107677, 0.08788666459393912, 0.10107041651335291, 0.10361200233946517, 0.11022666956224061, 0.11730641386585561, 0.11338623003972872, 0.11900809496028424, 0.11024745568364641, 0.10641536428348526, 0.12382752594980495, 0.11981888641538126, 0.11224168547338863, 0.12086170029623221, 0.11480572373019228, 0.12483508033042648, 0.12159083494683899, 0.12093074244926914, 0.11343854069617083, 0.11170599004402569, 0.10623960448530648, 0.1022692932370277, 0.11016787038907319, 0.11531298536682086, 0.10081550951290687, 0.0930132631494613, 0.0892060369420523, 0.08527055474328923, 0.09467990573916094, 0.09743733932182708, 0.10531464018765549, 0.1073782216461415, 0.09717849733797357, 0.11696152563508273, 0.12054901671287993, 0.1281054474903009, 0.12519262493382252, 0.11686097301593297, 0.12954985328551522, 0.10748650891918328, 0.12112693465038503, 0.11367830979374212]}],\n",
       "                        {\"height\": 500, \"template\": {\"data\": {\"bar\": [{\"error_x\": {\"color\": \"#2a3f5f\"}, \"error_y\": {\"color\": \"#2a3f5f\"}, \"marker\": {\"line\": {\"color\": \"#E5ECF6\", \"width\": 0.5}}, \"type\": \"bar\"}], \"barpolar\": [{\"marker\": {\"line\": {\"color\": \"#E5ECF6\", \"width\": 0.5}}, \"type\": \"barpolar\"}], \"carpet\": [{\"aaxis\": {\"endlinecolor\": \"#2a3f5f\", \"gridcolor\": \"white\", \"linecolor\": \"white\", \"minorgridcolor\": \"white\", \"startlinecolor\": \"#2a3f5f\"}, \"baxis\": {\"endlinecolor\": \"#2a3f5f\", \"gridcolor\": \"white\", \"linecolor\": \"white\", \"minorgridcolor\": \"white\", \"startlinecolor\": \"#2a3f5f\"}, \"type\": \"carpet\"}], \"choropleth\": [{\"colorbar\": {\"outlinewidth\": 0, \"ticks\": \"\"}, \"type\": \"choropleth\"}], \"contour\": [{\"colorbar\": {\"outlinewidth\": 0, \"ticks\": \"\"}, \"colorscale\": [[0.0, \"#0d0887\"], [0.1111111111111111, \"#46039f\"], [0.2222222222222222, \"#7201a8\"], [0.3333333333333333, \"#9c179e\"], [0.4444444444444444, \"#bd3786\"], [0.5555555555555556, \"#d8576b\"], [0.6666666666666666, \"#ed7953\"], [0.7777777777777778, \"#fb9f3a\"], [0.8888888888888888, \"#fdca26\"], [1.0, \"#f0f921\"]], \"type\": \"contour\"}], \"contourcarpet\": [{\"colorbar\": {\"outlinewidth\": 0, \"ticks\": \"\"}, \"type\": \"contourcarpet\"}], \"heatmap\": [{\"colorbar\": {\"outlinewidth\": 0, \"ticks\": \"\"}, \"colorscale\": [[0.0, \"#0d0887\"], [0.1111111111111111, \"#46039f\"], [0.2222222222222222, \"#7201a8\"], [0.3333333333333333, \"#9c179e\"], [0.4444444444444444, \"#bd3786\"], [0.5555555555555556, \"#d8576b\"], [0.6666666666666666, \"#ed7953\"], [0.7777777777777778, \"#fb9f3a\"], [0.8888888888888888, \"#fdca26\"], [1.0, \"#f0f921\"]], \"type\": \"heatmap\"}], \"heatmapgl\": [{\"colorbar\": {\"outlinewidth\": 0, \"ticks\": \"\"}, \"colorscale\": [[0.0, \"#0d0887\"], [0.1111111111111111, \"#46039f\"], [0.2222222222222222, \"#7201a8\"], [0.3333333333333333, \"#9c179e\"], [0.4444444444444444, \"#bd3786\"], [0.5555555555555556, \"#d8576b\"], [0.6666666666666666, \"#ed7953\"], [0.7777777777777778, \"#fb9f3a\"], [0.8888888888888888, \"#fdca26\"], [1.0, \"#f0f921\"]], \"type\": \"heatmapgl\"}], \"histogram\": [{\"marker\": {\"colorbar\": {\"outlinewidth\": 0, \"ticks\": \"\"}}, \"type\": \"histogram\"}], \"histogram2d\": [{\"colorbar\": {\"outlinewidth\": 0, \"ticks\": \"\"}, \"colorscale\": [[0.0, \"#0d0887\"], [0.1111111111111111, \"#46039f\"], [0.2222222222222222, \"#7201a8\"], [0.3333333333333333, \"#9c179e\"], [0.4444444444444444, \"#bd3786\"], [0.5555555555555556, \"#d8576b\"], [0.6666666666666666, \"#ed7953\"], [0.7777777777777778, \"#fb9f3a\"], [0.8888888888888888, \"#fdca26\"], [1.0, \"#f0f921\"]], \"type\": \"histogram2d\"}], \"histogram2dcontour\": [{\"colorbar\": {\"outlinewidth\": 0, \"ticks\": \"\"}, \"colorscale\": [[0.0, \"#0d0887\"], [0.1111111111111111, \"#46039f\"], [0.2222222222222222, \"#7201a8\"], [0.3333333333333333, \"#9c179e\"], [0.4444444444444444, \"#bd3786\"], [0.5555555555555556, \"#d8576b\"], [0.6666666666666666, \"#ed7953\"], [0.7777777777777778, \"#fb9f3a\"], [0.8888888888888888, \"#fdca26\"], [1.0, \"#f0f921\"]], \"type\": \"histogram2dcontour\"}], \"mesh3d\": [{\"colorbar\": {\"outlinewidth\": 0, \"ticks\": \"\"}, \"type\": \"mesh3d\"}], \"parcoords\": [{\"line\": {\"colorbar\": {\"outlinewidth\": 0, \"ticks\": \"\"}}, \"type\": \"parcoords\"}], \"scatter\": [{\"marker\": {\"colorbar\": {\"outlinewidth\": 0, \"ticks\": \"\"}}, \"type\": \"scatter\"}], \"scatter3d\": [{\"line\": {\"colorbar\": {\"outlinewidth\": 0, \"ticks\": \"\"}}, \"marker\": {\"colorbar\": {\"outlinewidth\": 0, \"ticks\": \"\"}}, \"type\": \"scatter3d\"}], \"scattercarpet\": [{\"marker\": {\"colorbar\": {\"outlinewidth\": 0, \"ticks\": \"\"}}, \"type\": \"scattercarpet\"}], \"scattergeo\": [{\"marker\": {\"colorbar\": {\"outlinewidth\": 0, \"ticks\": \"\"}}, \"type\": \"scattergeo\"}], \"scattergl\": [{\"marker\": {\"colorbar\": {\"outlinewidth\": 0, \"ticks\": \"\"}}, \"type\": \"scattergl\"}], \"scattermapbox\": [{\"marker\": {\"colorbar\": {\"outlinewidth\": 0, \"ticks\": \"\"}}, \"type\": \"scattermapbox\"}], \"scatterpolar\": [{\"marker\": {\"colorbar\": {\"outlinewidth\": 0, \"ticks\": \"\"}}, \"type\": \"scatterpolar\"}], \"scatterpolargl\": [{\"marker\": {\"colorbar\": {\"outlinewidth\": 0, \"ticks\": \"\"}}, \"type\": \"scatterpolargl\"}], \"scatterternary\": [{\"marker\": {\"colorbar\": {\"outlinewidth\": 0, \"ticks\": \"\"}}, \"type\": \"scatterternary\"}], \"surface\": [{\"colorbar\": {\"outlinewidth\": 0, \"ticks\": \"\"}, \"colorscale\": [[0.0, \"#0d0887\"], [0.1111111111111111, \"#46039f\"], [0.2222222222222222, \"#7201a8\"], [0.3333333333333333, \"#9c179e\"], [0.4444444444444444, \"#bd3786\"], [0.5555555555555556, \"#d8576b\"], [0.6666666666666666, \"#ed7953\"], [0.7777777777777778, \"#fb9f3a\"], [0.8888888888888888, \"#fdca26\"], [1.0, \"#f0f921\"]], \"type\": \"surface\"}], \"table\": [{\"cells\": {\"fill\": {\"color\": \"#EBF0F8\"}, \"line\": {\"color\": \"white\"}}, \"header\": {\"fill\": {\"color\": \"#C8D4E3\"}, \"line\": {\"color\": \"white\"}}, \"type\": \"table\"}]}, \"layout\": {\"annotationdefaults\": {\"arrowcolor\": \"#2a3f5f\", \"arrowhead\": 0, \"arrowwidth\": 1}, \"colorscale\": {\"diverging\": [[0, \"#8e0152\"], [0.1, \"#c51b7d\"], [0.2, \"#de77ae\"], [0.3, \"#f1b6da\"], [0.4, \"#fde0ef\"], [0.5, \"#f7f7f7\"], [0.6, \"#e6f5d0\"], [0.7, \"#b8e186\"], [0.8, \"#7fbc41\"], [0.9, \"#4d9221\"], [1, \"#276419\"]], \"sequential\": [[0.0, \"#0d0887\"], [0.1111111111111111, \"#46039f\"], [0.2222222222222222, \"#7201a8\"], [0.3333333333333333, \"#9c179e\"], [0.4444444444444444, \"#bd3786\"], [0.5555555555555556, \"#d8576b\"], [0.6666666666666666, \"#ed7953\"], [0.7777777777777778, \"#fb9f3a\"], [0.8888888888888888, \"#fdca26\"], [1.0, \"#f0f921\"]], \"sequentialminus\": [[0.0, \"#0d0887\"], [0.1111111111111111, \"#46039f\"], [0.2222222222222222, \"#7201a8\"], [0.3333333333333333, \"#9c179e\"], [0.4444444444444444, \"#bd3786\"], [0.5555555555555556, \"#d8576b\"], [0.6666666666666666, \"#ed7953\"], [0.7777777777777778, \"#fb9f3a\"], [0.8888888888888888, \"#fdca26\"], [1.0, \"#f0f921\"]]}, \"colorway\": [\"#636efa\", \"#EF553B\", \"#00cc96\", \"#ab63fa\", \"#FFA15A\", \"#19d3f3\", \"#FF6692\", \"#B6E880\", \"#FF97FF\", \"#FECB52\"], \"font\": {\"color\": \"#2a3f5f\"}, \"geo\": {\"bgcolor\": \"white\", \"lakecolor\": \"white\", \"landcolor\": \"#E5ECF6\", \"showlakes\": true, \"showland\": true, \"subunitcolor\": \"white\"}, \"hoverlabel\": {\"align\": \"left\"}, \"hovermode\": \"closest\", \"mapbox\": {\"style\": \"light\"}, \"paper_bgcolor\": \"white\", \"plot_bgcolor\": \"#E5ECF6\", \"polar\": {\"angularaxis\": {\"gridcolor\": \"white\", \"linecolor\": \"white\", \"ticks\": \"\"}, \"bgcolor\": \"#E5ECF6\", \"radialaxis\": {\"gridcolor\": \"white\", \"linecolor\": \"white\", \"ticks\": \"\"}}, \"scene\": {\"xaxis\": {\"backgroundcolor\": \"#E5ECF6\", \"gridcolor\": \"white\", \"gridwidth\": 2, \"linecolor\": \"white\", \"showbackground\": true, \"ticks\": \"\", \"zerolinecolor\": \"white\"}, \"yaxis\": {\"backgroundcolor\": \"#E5ECF6\", \"gridcolor\": \"white\", \"gridwidth\": 2, \"linecolor\": \"white\", \"showbackground\": true, \"ticks\": \"\", \"zerolinecolor\": \"white\"}, \"zaxis\": {\"backgroundcolor\": \"#E5ECF6\", \"gridcolor\": \"white\", \"gridwidth\": 2, \"linecolor\": \"white\", \"showbackground\": true, \"ticks\": \"\", \"zerolinecolor\": \"white\"}}, \"shapedefaults\": {\"line\": {\"color\": \"#2a3f5f\"}}, \"ternary\": {\"aaxis\": {\"gridcolor\": \"white\", \"linecolor\": \"white\", \"ticks\": \"\"}, \"baxis\": {\"gridcolor\": \"white\", \"linecolor\": \"white\", \"ticks\": \"\"}, \"bgcolor\": \"#E5ECF6\", \"caxis\": {\"gridcolor\": \"white\", \"linecolor\": \"white\", \"ticks\": \"\"}}, \"title\": {\"x\": 0.05}, \"xaxis\": {\"automargin\": true, \"gridcolor\": \"white\", \"linecolor\": \"white\", \"ticks\": \"\", \"zerolinecolor\": \"white\", \"zerolinewidth\": 2}, \"yaxis\": {\"automargin\": true, \"gridcolor\": \"white\", \"linecolor\": \"white\", \"ticks\": \"\", \"zerolinecolor\": \"white\", \"zerolinewidth\": 2}}}, \"title\": {\"text\": \"ROI over time\"}, \"width\": 1300, \"xaxis\": {\"title\": {\"text\": \"time\"}}, \"yaxis\": {\"title\": {\"text\": \"ROI\"}}},\n",
       "                        {\"responsive\": true}\n",
       "                    ).then(function(){\n",
       "                            \n",
       "var gd = document.getElementById('41a2f1b0-6013-47e1-8b7b-cd4876aa9af0');\n",
       "var x = new MutationObserver(function (mutations, observer) {{\n",
       "        var display = window.getComputedStyle(gd).display;\n",
       "        if (!display || display === 'none') {{\n",
       "            console.log([gd, 'removed!']);\n",
       "            Plotly.purge(gd);\n",
       "            observer.disconnect();\n",
       "        }}\n",
       "}});\n",
       "\n",
       "// Listen for the removal of the full notebook cells\n",
       "var notebookContainer = gd.closest('#notebook-container');\n",
       "if (notebookContainer) {{\n",
       "    x.observe(notebookContainer, {childList: true});\n",
       "}}\n",
       "\n",
       "// Listen for the clearing of the current output cell\n",
       "var outputEl = gd.closest('.output');\n",
       "if (outputEl) {{\n",
       "    x.observe(outputEl, {childList: true});\n",
       "}}\n",
       "\n",
       "                        })\n",
       "                };\n",
       "                });\n",
       "            </script>\n",
       "        </div>"
      ]
     },
     "metadata": {},
     "output_type": "display_data"
    }
   ],
   "source": [
    "traces = []\n",
    "scatter = go.Scatter(\n",
    "    x=list(returns_over_time.keys()),\n",
    "    y=list((returns_over_time.cumsum() / money_bet_over_time.cumsum()).values),\n",
    "    mode='lines',\n",
    ")\n",
    "traces.append(scatter)\n",
    "\n",
    "layout = {\n",
    "    'title':'ROI over time',\n",
    "    'xaxis': {\n",
    "        'title': 'time',\n",
    "    },\n",
    "    'yaxis': {\n",
    "        'title': 'ROI',\n",
    "    },\n",
    "    'width': 1300,\n",
    "    'height': 500,\n",
    "}\n",
    "fig = go.Figure(data=traces, layout=layout)\n",
    "iplot(fig)"
   ]
  },
  {
   "cell_type": "code",
   "execution_count": 209,
   "metadata": {},
   "outputs": [
    {
     "data": {
      "application/vnd.plotly.v1+json": {
       "config": {
        "linkText": "Export to plot.ly",
        "plotlyServerURL": "https://plot.ly",
        "showLink": false
       },
       "data": [
        {
         "mode": "lines",
         "type": "scatter",
         "x": [
          "2018-08-17T00:00:00",
          "2018-08-18T00:00:00",
          "2018-08-19T00:00:00",
          "2018-08-20T00:00:00",
          "2018-08-24T00:00:00",
          "2018-08-25T00:00:00",
          "2018-08-26T00:00:00",
          "2018-08-27T00:00:00",
          "2018-08-31T00:00:00",
          "2018-09-01T00:00:00",
          "2018-09-02T00:00:00",
          "2018-09-14T00:00:00",
          "2018-09-15T00:00:00",
          "2018-09-16T00:00:00",
          "2018-09-17T00:00:00",
          "2018-09-21T00:00:00",
          "2018-09-22T00:00:00",
          "2018-09-23T00:00:00",
          "2018-09-25T00:00:00",
          "2018-09-26T00:00:00",
          "2018-09-27T00:00:00",
          "2018-09-28T00:00:00",
          "2018-09-29T00:00:00",
          "2018-09-30T00:00:00",
          "2018-10-01T00:00:00",
          "2018-10-05T00:00:00",
          "2018-10-06T00:00:00",
          "2018-10-07T00:00:00",
          "2018-10-19T00:00:00",
          "2018-10-20T00:00:00",
          "2018-10-21T00:00:00",
          "2018-10-22T00:00:00",
          "2018-10-24T00:00:00",
          "2018-10-26T00:00:00",
          "2018-10-27T00:00:00",
          "2018-10-28T00:00:00",
          "2018-11-03T00:00:00",
          "2018-11-04T00:00:00",
          "2018-11-05T00:00:00",
          "2018-11-09T00:00:00",
          "2018-11-10T00:00:00",
          "2018-11-11T00:00:00",
          "2018-11-23T00:00:00",
          "2018-11-24T00:00:00",
          "2018-11-25T00:00:00",
          "2018-11-26T00:00:00",
          "2018-11-30T00:00:00",
          "2018-12-01T00:00:00",
          "2018-12-02T00:00:00",
          "2018-12-03T00:00:00",
          "2018-12-07T00:00:00",
          "2018-12-08T00:00:00",
          "2018-12-09T00:00:00",
          "2018-12-10T00:00:00",
          "2018-12-14T00:00:00",
          "2018-12-15T00:00:00",
          "2018-12-16T00:00:00",
          "2018-12-17T00:00:00",
          "2018-12-21T00:00:00",
          "2018-12-22T00:00:00",
          "2018-12-23T00:00:00",
          "2019-01-03T00:00:00",
          "2019-01-04T00:00:00",
          "2019-01-05T00:00:00",
          "2019-01-06T00:00:00",
          "2019-01-07T00:00:00",
          "2019-01-11T00:00:00",
          "2019-01-12T00:00:00",
          "2019-01-13T00:00:00",
          "2019-01-14T00:00:00",
          "2019-01-18T00:00:00",
          "2019-01-19T00:00:00",
          "2019-01-20T00:00:00",
          "2019-01-21T00:00:00",
          "2019-01-26T00:00:00",
          "2019-01-27T00:00:00",
          "2019-01-28T00:00:00",
          "2019-02-01T00:00:00",
          "2019-02-02T00:00:00",
          "2019-02-03T00:00:00",
          "2019-02-04T00:00:00",
          "2019-02-08T00:00:00",
          "2019-02-09T00:00:00",
          "2019-02-10T00:00:00",
          "2019-02-11T00:00:00",
          "2019-02-15T00:00:00",
          "2019-02-16T00:00:00",
          "2019-02-17T00:00:00",
          "2019-02-18T00:00:00",
          "2019-02-22T00:00:00",
          "2019-02-23T00:00:00",
          "2019-02-24T00:00:00",
          "2019-02-25T00:00:00",
          "2019-03-01T00:00:00",
          "2019-03-02T00:00:00",
          "2019-03-03T00:00:00",
          "2019-03-04T00:00:00",
          "2019-03-08T00:00:00",
          "2019-03-09T00:00:00",
          "2019-03-10T00:00:00",
          "2019-03-15T00:00:00",
          "2019-03-16T00:00:00",
          "2019-03-17T00:00:00",
          "2019-03-29T00:00:00",
          "2019-03-30T00:00:00",
          "2019-03-31T00:00:00",
          "2019-04-02T00:00:00",
          "2019-04-03T00:00:00",
          "2019-04-04T00:00:00",
          "2019-04-06T00:00:00",
          "2019-04-07T00:00:00",
          "2019-04-13T00:00:00",
          "2019-04-14T00:00:00",
          "2019-04-15T00:00:00",
          "2019-04-19T00:00:00",
          "2019-04-20T00:00:00",
          "2019-04-21T00:00:00",
          "2019-04-23T00:00:00",
          "2019-04-24T00:00:00",
          "2019-04-25T00:00:00",
          "2019-04-27T00:00:00",
          "2019-04-28T00:00:00",
          "2019-04-29T00:00:00",
          "2019-05-03T00:00:00",
          "2019-05-04T00:00:00",
          "2019-05-05T00:00:00",
          "2019-05-12T00:00:00",
          "2019-05-18T00:00:00",
          "2019-05-19T00:00:00"
         ],
         "y": [
          1.2745008634462123,
          -1,
          -1,
          -1,
          -1,
          -1,
          -0.2007285136811592,
          1.4425698760519758,
          1.101109608830074,
          -1,
          0.06696755569556923,
          -1,
          2.393021847556709,
          -1,
          null,
          -1,
          0.20227465225365893,
          4.5656284086138434,
          0.2980488470233316,
          3.4015530308249975,
          -0.41353231860159906,
          -1,
          1.750825059149405,
          -1,
          -1,
          -1,
          1.715108555485638,
          -0.12594618290613246,
          -1,
          0.1344951784719334,
          -1,
          3.5,
          -1,
          -1,
          -0.08804253427319131,
          1.1159382327492107,
          -1,
          1.6659189959806604,
          1.25,
          -1,
          -1,
          -0.4353563894697425,
          -1,
          0.5005648432981328,
          0.08520998836145095,
          -1,
          null,
          -0.04641907368201706,
          -1,
          1.8699999999999999,
          2.25,
          -0.456916817859996,
          -0.261037759158229,
          -1,
          -1,
          -0.32176055333259845,
          -1,
          -1,
          0.41072293343655436,
          0.7440035270734822,
          -0.06885450546180297,
          -1,
          -1,
          1.1575485554199614,
          -1,
          -1,
          -1,
          1.8494505291590142,
          -0.6649201273093123,
          -1,
          -1,
          0.3530142684281415,
          0.5897279614257065,
          -1,
          -0.4775601177457306,
          0.3436515390347889,
          -1,
          -1,
          -0.1915884921886086,
          -1,
          -1,
          -1,
          -0.5075027433813029,
          -0.0904962264420766,
          1.37,
          3,
          -0.3017483392346467,
          0.5833397396312703,
          -1,
          3.75,
          0.2622634831626522,
          0.5412115746529528,
          2.25,
          -1,
          0.48808507444770727,
          -0.4947991605313881,
          -1,
          4,
          -0.13478502094462516,
          -0.3005584882947946,
          3,
          -0.5438708857245277,
          0.6859087973343097,
          -1,
          0.056708520585177336,
          -1,
          -0.04799715240588848,
          -0.4030533015193935,
          -0.26842084458006604,
          0.8118377940432799,
          0.402589578821976,
          -1,
          -0.5767078010342674,
          -1,
          -1,
          0.9180471769788531,
          0.3261412448655296,
          1.87,
          0.2841666281018059,
          -1,
          1.6957281132732231,
          0.3650082985969966,
          2.75,
          -1,
          -0.5560590217988226,
          1.2475420603059122,
          -0.6987158745406927,
          0.8314439289926201,
          -1
         ]
        }
       ],
       "layout": {
        "height": 500,
        "template": {
         "data": {
          "bar": [
           {
            "error_x": {
             "color": "#2a3f5f"
            },
            "error_y": {
             "color": "#2a3f5f"
            },
            "marker": {
             "line": {
              "color": "#E5ECF6",
              "width": 0.5
             }
            },
            "type": "bar"
           }
          ],
          "barpolar": [
           {
            "marker": {
             "line": {
              "color": "#E5ECF6",
              "width": 0.5
             }
            },
            "type": "barpolar"
           }
          ],
          "carpet": [
           {
            "aaxis": {
             "endlinecolor": "#2a3f5f",
             "gridcolor": "white",
             "linecolor": "white",
             "minorgridcolor": "white",
             "startlinecolor": "#2a3f5f"
            },
            "baxis": {
             "endlinecolor": "#2a3f5f",
             "gridcolor": "white",
             "linecolor": "white",
             "minorgridcolor": "white",
             "startlinecolor": "#2a3f5f"
            },
            "type": "carpet"
           }
          ],
          "choropleth": [
           {
            "colorbar": {
             "outlinewidth": 0,
             "ticks": ""
            },
            "type": "choropleth"
           }
          ],
          "contour": [
           {
            "colorbar": {
             "outlinewidth": 0,
             "ticks": ""
            },
            "colorscale": [
             [
              0,
              "#0d0887"
             ],
             [
              0.1111111111111111,
              "#46039f"
             ],
             [
              0.2222222222222222,
              "#7201a8"
             ],
             [
              0.3333333333333333,
              "#9c179e"
             ],
             [
              0.4444444444444444,
              "#bd3786"
             ],
             [
              0.5555555555555556,
              "#d8576b"
             ],
             [
              0.6666666666666666,
              "#ed7953"
             ],
             [
              0.7777777777777778,
              "#fb9f3a"
             ],
             [
              0.8888888888888888,
              "#fdca26"
             ],
             [
              1,
              "#f0f921"
             ]
            ],
            "type": "contour"
           }
          ],
          "contourcarpet": [
           {
            "colorbar": {
             "outlinewidth": 0,
             "ticks": ""
            },
            "type": "contourcarpet"
           }
          ],
          "heatmap": [
           {
            "colorbar": {
             "outlinewidth": 0,
             "ticks": ""
            },
            "colorscale": [
             [
              0,
              "#0d0887"
             ],
             [
              0.1111111111111111,
              "#46039f"
             ],
             [
              0.2222222222222222,
              "#7201a8"
             ],
             [
              0.3333333333333333,
              "#9c179e"
             ],
             [
              0.4444444444444444,
              "#bd3786"
             ],
             [
              0.5555555555555556,
              "#d8576b"
             ],
             [
              0.6666666666666666,
              "#ed7953"
             ],
             [
              0.7777777777777778,
              "#fb9f3a"
             ],
             [
              0.8888888888888888,
              "#fdca26"
             ],
             [
              1,
              "#f0f921"
             ]
            ],
            "type": "heatmap"
           }
          ],
          "heatmapgl": [
           {
            "colorbar": {
             "outlinewidth": 0,
             "ticks": ""
            },
            "colorscale": [
             [
              0,
              "#0d0887"
             ],
             [
              0.1111111111111111,
              "#46039f"
             ],
             [
              0.2222222222222222,
              "#7201a8"
             ],
             [
              0.3333333333333333,
              "#9c179e"
             ],
             [
              0.4444444444444444,
              "#bd3786"
             ],
             [
              0.5555555555555556,
              "#d8576b"
             ],
             [
              0.6666666666666666,
              "#ed7953"
             ],
             [
              0.7777777777777778,
              "#fb9f3a"
             ],
             [
              0.8888888888888888,
              "#fdca26"
             ],
             [
              1,
              "#f0f921"
             ]
            ],
            "type": "heatmapgl"
           }
          ],
          "histogram": [
           {
            "marker": {
             "colorbar": {
              "outlinewidth": 0,
              "ticks": ""
             }
            },
            "type": "histogram"
           }
          ],
          "histogram2d": [
           {
            "colorbar": {
             "outlinewidth": 0,
             "ticks": ""
            },
            "colorscale": [
             [
              0,
              "#0d0887"
             ],
             [
              0.1111111111111111,
              "#46039f"
             ],
             [
              0.2222222222222222,
              "#7201a8"
             ],
             [
              0.3333333333333333,
              "#9c179e"
             ],
             [
              0.4444444444444444,
              "#bd3786"
             ],
             [
              0.5555555555555556,
              "#d8576b"
             ],
             [
              0.6666666666666666,
              "#ed7953"
             ],
             [
              0.7777777777777778,
              "#fb9f3a"
             ],
             [
              0.8888888888888888,
              "#fdca26"
             ],
             [
              1,
              "#f0f921"
             ]
            ],
            "type": "histogram2d"
           }
          ],
          "histogram2dcontour": [
           {
            "colorbar": {
             "outlinewidth": 0,
             "ticks": ""
            },
            "colorscale": [
             [
              0,
              "#0d0887"
             ],
             [
              0.1111111111111111,
              "#46039f"
             ],
             [
              0.2222222222222222,
              "#7201a8"
             ],
             [
              0.3333333333333333,
              "#9c179e"
             ],
             [
              0.4444444444444444,
              "#bd3786"
             ],
             [
              0.5555555555555556,
              "#d8576b"
             ],
             [
              0.6666666666666666,
              "#ed7953"
             ],
             [
              0.7777777777777778,
              "#fb9f3a"
             ],
             [
              0.8888888888888888,
              "#fdca26"
             ],
             [
              1,
              "#f0f921"
             ]
            ],
            "type": "histogram2dcontour"
           }
          ],
          "mesh3d": [
           {
            "colorbar": {
             "outlinewidth": 0,
             "ticks": ""
            },
            "type": "mesh3d"
           }
          ],
          "parcoords": [
           {
            "line": {
             "colorbar": {
              "outlinewidth": 0,
              "ticks": ""
             }
            },
            "type": "parcoords"
           }
          ],
          "scatter": [
           {
            "marker": {
             "colorbar": {
              "outlinewidth": 0,
              "ticks": ""
             }
            },
            "type": "scatter"
           }
          ],
          "scatter3d": [
           {
            "line": {
             "colorbar": {
              "outlinewidth": 0,
              "ticks": ""
             }
            },
            "marker": {
             "colorbar": {
              "outlinewidth": 0,
              "ticks": ""
             }
            },
            "type": "scatter3d"
           }
          ],
          "scattercarpet": [
           {
            "marker": {
             "colorbar": {
              "outlinewidth": 0,
              "ticks": ""
             }
            },
            "type": "scattercarpet"
           }
          ],
          "scattergeo": [
           {
            "marker": {
             "colorbar": {
              "outlinewidth": 0,
              "ticks": ""
             }
            },
            "type": "scattergeo"
           }
          ],
          "scattergl": [
           {
            "marker": {
             "colorbar": {
              "outlinewidth": 0,
              "ticks": ""
             }
            },
            "type": "scattergl"
           }
          ],
          "scattermapbox": [
           {
            "marker": {
             "colorbar": {
              "outlinewidth": 0,
              "ticks": ""
             }
            },
            "type": "scattermapbox"
           }
          ],
          "scatterpolar": [
           {
            "marker": {
             "colorbar": {
              "outlinewidth": 0,
              "ticks": ""
             }
            },
            "type": "scatterpolar"
           }
          ],
          "scatterpolargl": [
           {
            "marker": {
             "colorbar": {
              "outlinewidth": 0,
              "ticks": ""
             }
            },
            "type": "scatterpolargl"
           }
          ],
          "scatterternary": [
           {
            "marker": {
             "colorbar": {
              "outlinewidth": 0,
              "ticks": ""
             }
            },
            "type": "scatterternary"
           }
          ],
          "surface": [
           {
            "colorbar": {
             "outlinewidth": 0,
             "ticks": ""
            },
            "colorscale": [
             [
              0,
              "#0d0887"
             ],
             [
              0.1111111111111111,
              "#46039f"
             ],
             [
              0.2222222222222222,
              "#7201a8"
             ],
             [
              0.3333333333333333,
              "#9c179e"
             ],
             [
              0.4444444444444444,
              "#bd3786"
             ],
             [
              0.5555555555555556,
              "#d8576b"
             ],
             [
              0.6666666666666666,
              "#ed7953"
             ],
             [
              0.7777777777777778,
              "#fb9f3a"
             ],
             [
              0.8888888888888888,
              "#fdca26"
             ],
             [
              1,
              "#f0f921"
             ]
            ],
            "type": "surface"
           }
          ],
          "table": [
           {
            "cells": {
             "fill": {
              "color": "#EBF0F8"
             },
             "line": {
              "color": "white"
             }
            },
            "header": {
             "fill": {
              "color": "#C8D4E3"
             },
             "line": {
              "color": "white"
             }
            },
            "type": "table"
           }
          ]
         },
         "layout": {
          "annotationdefaults": {
           "arrowcolor": "#2a3f5f",
           "arrowhead": 0,
           "arrowwidth": 1
          },
          "colorscale": {
           "diverging": [
            [
             0,
             "#8e0152"
            ],
            [
             0.1,
             "#c51b7d"
            ],
            [
             0.2,
             "#de77ae"
            ],
            [
             0.3,
             "#f1b6da"
            ],
            [
             0.4,
             "#fde0ef"
            ],
            [
             0.5,
             "#f7f7f7"
            ],
            [
             0.6,
             "#e6f5d0"
            ],
            [
             0.7,
             "#b8e186"
            ],
            [
             0.8,
             "#7fbc41"
            ],
            [
             0.9,
             "#4d9221"
            ],
            [
             1,
             "#276419"
            ]
           ],
           "sequential": [
            [
             0,
             "#0d0887"
            ],
            [
             0.1111111111111111,
             "#46039f"
            ],
            [
             0.2222222222222222,
             "#7201a8"
            ],
            [
             0.3333333333333333,
             "#9c179e"
            ],
            [
             0.4444444444444444,
             "#bd3786"
            ],
            [
             0.5555555555555556,
             "#d8576b"
            ],
            [
             0.6666666666666666,
             "#ed7953"
            ],
            [
             0.7777777777777778,
             "#fb9f3a"
            ],
            [
             0.8888888888888888,
             "#fdca26"
            ],
            [
             1,
             "#f0f921"
            ]
           ],
           "sequentialminus": [
            [
             0,
             "#0d0887"
            ],
            [
             0.1111111111111111,
             "#46039f"
            ],
            [
             0.2222222222222222,
             "#7201a8"
            ],
            [
             0.3333333333333333,
             "#9c179e"
            ],
            [
             0.4444444444444444,
             "#bd3786"
            ],
            [
             0.5555555555555556,
             "#d8576b"
            ],
            [
             0.6666666666666666,
             "#ed7953"
            ],
            [
             0.7777777777777778,
             "#fb9f3a"
            ],
            [
             0.8888888888888888,
             "#fdca26"
            ],
            [
             1,
             "#f0f921"
            ]
           ]
          },
          "colorway": [
           "#636efa",
           "#EF553B",
           "#00cc96",
           "#ab63fa",
           "#FFA15A",
           "#19d3f3",
           "#FF6692",
           "#B6E880",
           "#FF97FF",
           "#FECB52"
          ],
          "font": {
           "color": "#2a3f5f"
          },
          "geo": {
           "bgcolor": "white",
           "lakecolor": "white",
           "landcolor": "#E5ECF6",
           "showlakes": true,
           "showland": true,
           "subunitcolor": "white"
          },
          "hoverlabel": {
           "align": "left"
          },
          "hovermode": "closest",
          "mapbox": {
           "style": "light"
          },
          "paper_bgcolor": "white",
          "plot_bgcolor": "#E5ECF6",
          "polar": {
           "angularaxis": {
            "gridcolor": "white",
            "linecolor": "white",
            "ticks": ""
           },
           "bgcolor": "#E5ECF6",
           "radialaxis": {
            "gridcolor": "white",
            "linecolor": "white",
            "ticks": ""
           }
          },
          "scene": {
           "xaxis": {
            "backgroundcolor": "#E5ECF6",
            "gridcolor": "white",
            "gridwidth": 2,
            "linecolor": "white",
            "showbackground": true,
            "ticks": "",
            "zerolinecolor": "white"
           },
           "yaxis": {
            "backgroundcolor": "#E5ECF6",
            "gridcolor": "white",
            "gridwidth": 2,
            "linecolor": "white",
            "showbackground": true,
            "ticks": "",
            "zerolinecolor": "white"
           },
           "zaxis": {
            "backgroundcolor": "#E5ECF6",
            "gridcolor": "white",
            "gridwidth": 2,
            "linecolor": "white",
            "showbackground": true,
            "ticks": "",
            "zerolinecolor": "white"
           }
          },
          "shapedefaults": {
           "line": {
            "color": "#2a3f5f"
           }
          },
          "ternary": {
           "aaxis": {
            "gridcolor": "white",
            "linecolor": "white",
            "ticks": ""
           },
           "baxis": {
            "gridcolor": "white",
            "linecolor": "white",
            "ticks": ""
           },
           "bgcolor": "#E5ECF6",
           "caxis": {
            "gridcolor": "white",
            "linecolor": "white",
            "ticks": ""
           }
          },
          "title": {
           "x": 0.05
          },
          "xaxis": {
           "automargin": true,
           "gridcolor": "white",
           "linecolor": "white",
           "ticks": "",
           "zerolinecolor": "white",
           "zerolinewidth": 2
          },
          "yaxis": {
           "automargin": true,
           "gridcolor": "white",
           "linecolor": "white",
           "ticks": "",
           "zerolinecolor": "white",
           "zerolinewidth": 2
          }
         }
        },
        "title": {
         "text": "ROI per date"
        },
        "width": 1300,
        "xaxis": {
         "title": {
          "text": "time"
         }
        },
        "yaxis": {
         "title": {
          "text": "ROI"
         }
        }
       }
      },
      "text/html": [
       "<div>\n",
       "        \n",
       "        \n",
       "            <div id=\"fb7ed78c-706d-4bd7-8bbb-4651524b0b8d\" class=\"plotly-graph-div\" style=\"height:500px; width:1300px;\"></div>\n",
       "            <script type=\"text/javascript\">\n",
       "                require([\"plotly\"], function(Plotly) {\n",
       "                    window.PLOTLYENV=window.PLOTLYENV || {};\n",
       "                    \n",
       "                if (document.getElementById(\"fb7ed78c-706d-4bd7-8bbb-4651524b0b8d\")) {\n",
       "                    Plotly.newPlot(\n",
       "                        'fb7ed78c-706d-4bd7-8bbb-4651524b0b8d',\n",
       "                        [{\"mode\": \"lines\", \"type\": \"scatter\", \"x\": [\"2018-08-17T00:00:00\", \"2018-08-18T00:00:00\", \"2018-08-19T00:00:00\", \"2018-08-20T00:00:00\", \"2018-08-24T00:00:00\", \"2018-08-25T00:00:00\", \"2018-08-26T00:00:00\", \"2018-08-27T00:00:00\", \"2018-08-31T00:00:00\", \"2018-09-01T00:00:00\", \"2018-09-02T00:00:00\", \"2018-09-14T00:00:00\", \"2018-09-15T00:00:00\", \"2018-09-16T00:00:00\", \"2018-09-17T00:00:00\", \"2018-09-21T00:00:00\", \"2018-09-22T00:00:00\", \"2018-09-23T00:00:00\", \"2018-09-25T00:00:00\", \"2018-09-26T00:00:00\", \"2018-09-27T00:00:00\", \"2018-09-28T00:00:00\", \"2018-09-29T00:00:00\", \"2018-09-30T00:00:00\", \"2018-10-01T00:00:00\", \"2018-10-05T00:00:00\", \"2018-10-06T00:00:00\", \"2018-10-07T00:00:00\", \"2018-10-19T00:00:00\", \"2018-10-20T00:00:00\", \"2018-10-21T00:00:00\", \"2018-10-22T00:00:00\", \"2018-10-24T00:00:00\", \"2018-10-26T00:00:00\", \"2018-10-27T00:00:00\", \"2018-10-28T00:00:00\", \"2018-11-03T00:00:00\", \"2018-11-04T00:00:00\", \"2018-11-05T00:00:00\", \"2018-11-09T00:00:00\", \"2018-11-10T00:00:00\", \"2018-11-11T00:00:00\", \"2018-11-23T00:00:00\", \"2018-11-24T00:00:00\", \"2018-11-25T00:00:00\", \"2018-11-26T00:00:00\", \"2018-11-30T00:00:00\", \"2018-12-01T00:00:00\", \"2018-12-02T00:00:00\", \"2018-12-03T00:00:00\", \"2018-12-07T00:00:00\", \"2018-12-08T00:00:00\", \"2018-12-09T00:00:00\", \"2018-12-10T00:00:00\", \"2018-12-14T00:00:00\", \"2018-12-15T00:00:00\", \"2018-12-16T00:00:00\", \"2018-12-17T00:00:00\", \"2018-12-21T00:00:00\", \"2018-12-22T00:00:00\", \"2018-12-23T00:00:00\", \"2019-01-03T00:00:00\", \"2019-01-04T00:00:00\", \"2019-01-05T00:00:00\", \"2019-01-06T00:00:00\", \"2019-01-07T00:00:00\", \"2019-01-11T00:00:00\", \"2019-01-12T00:00:00\", \"2019-01-13T00:00:00\", \"2019-01-14T00:00:00\", \"2019-01-18T00:00:00\", \"2019-01-19T00:00:00\", \"2019-01-20T00:00:00\", \"2019-01-21T00:00:00\", \"2019-01-26T00:00:00\", \"2019-01-27T00:00:00\", \"2019-01-28T00:00:00\", \"2019-02-01T00:00:00\", \"2019-02-02T00:00:00\", \"2019-02-03T00:00:00\", \"2019-02-04T00:00:00\", \"2019-02-08T00:00:00\", \"2019-02-09T00:00:00\", \"2019-02-10T00:00:00\", \"2019-02-11T00:00:00\", \"2019-02-15T00:00:00\", \"2019-02-16T00:00:00\", \"2019-02-17T00:00:00\", \"2019-02-18T00:00:00\", \"2019-02-22T00:00:00\", \"2019-02-23T00:00:00\", \"2019-02-24T00:00:00\", \"2019-02-25T00:00:00\", \"2019-03-01T00:00:00\", \"2019-03-02T00:00:00\", \"2019-03-03T00:00:00\", \"2019-03-04T00:00:00\", \"2019-03-08T00:00:00\", \"2019-03-09T00:00:00\", \"2019-03-10T00:00:00\", \"2019-03-15T00:00:00\", \"2019-03-16T00:00:00\", \"2019-03-17T00:00:00\", \"2019-03-29T00:00:00\", \"2019-03-30T00:00:00\", \"2019-03-31T00:00:00\", \"2019-04-02T00:00:00\", \"2019-04-03T00:00:00\", \"2019-04-04T00:00:00\", \"2019-04-06T00:00:00\", \"2019-04-07T00:00:00\", \"2019-04-13T00:00:00\", \"2019-04-14T00:00:00\", \"2019-04-15T00:00:00\", \"2019-04-19T00:00:00\", \"2019-04-20T00:00:00\", \"2019-04-21T00:00:00\", \"2019-04-23T00:00:00\", \"2019-04-24T00:00:00\", \"2019-04-25T00:00:00\", \"2019-04-27T00:00:00\", \"2019-04-28T00:00:00\", \"2019-04-29T00:00:00\", \"2019-05-03T00:00:00\", \"2019-05-04T00:00:00\", \"2019-05-05T00:00:00\", \"2019-05-12T00:00:00\", \"2019-05-18T00:00:00\", \"2019-05-19T00:00:00\"], \"y\": [1.2745008634462123, -1.0, -1.0, -1.0, -1.0, -1.0, -0.2007285136811592, 1.4425698760519758, 1.101109608830074, -1.0, 0.06696755569556923, -1.0, 2.393021847556709, -1.0, null, -1.0, 0.20227465225365893, 4.5656284086138434, 0.2980488470233316, 3.4015530308249975, -0.41353231860159906, -1.0, 1.750825059149405, -1.0, -1.0, -1.0, 1.715108555485638, -0.12594618290613246, -1.0, 0.1344951784719334, -1.0, 3.5, -1.0, -1.0, -0.08804253427319131, 1.1159382327492107, -1.0, 1.6659189959806604, 1.25, -1.0, -1.0, -0.4353563894697425, -1.0, 0.5005648432981328, 0.08520998836145095, -1.0, null, -0.04641907368201706, -1.0, 1.8699999999999999, 2.25, -0.456916817859996, -0.261037759158229, -1.0, -1.0, -0.32176055333259845, -1.0, -1.0, 0.41072293343655436, 0.7440035270734822, -0.06885450546180297, -1.0, -1.0, 1.1575485554199614, -1.0, -1.0, -1.0, 1.8494505291590142, -0.6649201273093123, -1.0, -1.0, 0.3530142684281415, 0.5897279614257065, -1.0, -0.4775601177457306, 0.3436515390347889, -1.0, -1.0, -0.1915884921886086, -1.0, -1.0, -1.0, -0.5075027433813029, -0.0904962264420766, 1.37, 3.0, -0.3017483392346467, 0.5833397396312703, -1.0, 3.75, 0.2622634831626522, 0.5412115746529528, 2.25, -1.0, 0.48808507444770727, -0.4947991605313881, -1.0, 4.0, -0.13478502094462516, -0.3005584882947946, 3.0, -0.5438708857245277, 0.6859087973343097, -1.0, 0.056708520585177336, -1.0, -0.04799715240588848, -0.4030533015193935, -0.26842084458006604, 0.8118377940432799, 0.402589578821976, -1.0, -0.5767078010342674, -1.0, -1.0, 0.9180471769788531, 0.3261412448655296, 1.87, 0.2841666281018059, -1.0, 1.6957281132732231, 0.3650082985969966, 2.75, -1.0, -0.5560590217988226, 1.2475420603059122, -0.6987158745406927, 0.8314439289926201, -1.0]}],\n",
       "                        {\"height\": 500, \"template\": {\"data\": {\"bar\": [{\"error_x\": {\"color\": \"#2a3f5f\"}, \"error_y\": {\"color\": \"#2a3f5f\"}, \"marker\": {\"line\": {\"color\": \"#E5ECF6\", \"width\": 0.5}}, \"type\": \"bar\"}], \"barpolar\": [{\"marker\": {\"line\": {\"color\": \"#E5ECF6\", \"width\": 0.5}}, \"type\": \"barpolar\"}], \"carpet\": [{\"aaxis\": {\"endlinecolor\": \"#2a3f5f\", \"gridcolor\": \"white\", \"linecolor\": \"white\", \"minorgridcolor\": \"white\", \"startlinecolor\": \"#2a3f5f\"}, \"baxis\": {\"endlinecolor\": \"#2a3f5f\", \"gridcolor\": \"white\", \"linecolor\": \"white\", \"minorgridcolor\": \"white\", \"startlinecolor\": \"#2a3f5f\"}, \"type\": \"carpet\"}], \"choropleth\": [{\"colorbar\": {\"outlinewidth\": 0, \"ticks\": \"\"}, \"type\": \"choropleth\"}], \"contour\": [{\"colorbar\": {\"outlinewidth\": 0, \"ticks\": \"\"}, \"colorscale\": [[0.0, \"#0d0887\"], [0.1111111111111111, \"#46039f\"], [0.2222222222222222, \"#7201a8\"], [0.3333333333333333, \"#9c179e\"], [0.4444444444444444, \"#bd3786\"], [0.5555555555555556, \"#d8576b\"], [0.6666666666666666, \"#ed7953\"], [0.7777777777777778, \"#fb9f3a\"], [0.8888888888888888, \"#fdca26\"], [1.0, \"#f0f921\"]], \"type\": \"contour\"}], \"contourcarpet\": [{\"colorbar\": {\"outlinewidth\": 0, \"ticks\": \"\"}, \"type\": \"contourcarpet\"}], \"heatmap\": [{\"colorbar\": {\"outlinewidth\": 0, \"ticks\": \"\"}, \"colorscale\": [[0.0, \"#0d0887\"], [0.1111111111111111, \"#46039f\"], [0.2222222222222222, \"#7201a8\"], [0.3333333333333333, \"#9c179e\"], [0.4444444444444444, \"#bd3786\"], [0.5555555555555556, \"#d8576b\"], [0.6666666666666666, \"#ed7953\"], [0.7777777777777778, \"#fb9f3a\"], [0.8888888888888888, \"#fdca26\"], [1.0, \"#f0f921\"]], \"type\": \"heatmap\"}], \"heatmapgl\": [{\"colorbar\": {\"outlinewidth\": 0, \"ticks\": \"\"}, \"colorscale\": [[0.0, \"#0d0887\"], [0.1111111111111111, \"#46039f\"], [0.2222222222222222, \"#7201a8\"], [0.3333333333333333, \"#9c179e\"], [0.4444444444444444, \"#bd3786\"], [0.5555555555555556, \"#d8576b\"], [0.6666666666666666, \"#ed7953\"], [0.7777777777777778, \"#fb9f3a\"], [0.8888888888888888, \"#fdca26\"], [1.0, \"#f0f921\"]], \"type\": \"heatmapgl\"}], \"histogram\": [{\"marker\": {\"colorbar\": {\"outlinewidth\": 0, \"ticks\": \"\"}}, \"type\": \"histogram\"}], \"histogram2d\": [{\"colorbar\": {\"outlinewidth\": 0, \"ticks\": \"\"}, \"colorscale\": [[0.0, \"#0d0887\"], [0.1111111111111111, \"#46039f\"], [0.2222222222222222, \"#7201a8\"], [0.3333333333333333, \"#9c179e\"], [0.4444444444444444, \"#bd3786\"], [0.5555555555555556, \"#d8576b\"], [0.6666666666666666, \"#ed7953\"], [0.7777777777777778, \"#fb9f3a\"], [0.8888888888888888, \"#fdca26\"], [1.0, \"#f0f921\"]], \"type\": \"histogram2d\"}], \"histogram2dcontour\": [{\"colorbar\": {\"outlinewidth\": 0, \"ticks\": \"\"}, \"colorscale\": [[0.0, \"#0d0887\"], [0.1111111111111111, \"#46039f\"], [0.2222222222222222, \"#7201a8\"], [0.3333333333333333, \"#9c179e\"], [0.4444444444444444, \"#bd3786\"], [0.5555555555555556, \"#d8576b\"], [0.6666666666666666, \"#ed7953\"], [0.7777777777777778, \"#fb9f3a\"], [0.8888888888888888, \"#fdca26\"], [1.0, \"#f0f921\"]], \"type\": \"histogram2dcontour\"}], \"mesh3d\": [{\"colorbar\": {\"outlinewidth\": 0, \"ticks\": \"\"}, \"type\": \"mesh3d\"}], \"parcoords\": [{\"line\": {\"colorbar\": {\"outlinewidth\": 0, \"ticks\": \"\"}}, \"type\": \"parcoords\"}], \"scatter\": [{\"marker\": {\"colorbar\": {\"outlinewidth\": 0, \"ticks\": \"\"}}, \"type\": \"scatter\"}], \"scatter3d\": [{\"line\": {\"colorbar\": {\"outlinewidth\": 0, \"ticks\": \"\"}}, \"marker\": {\"colorbar\": {\"outlinewidth\": 0, \"ticks\": \"\"}}, \"type\": \"scatter3d\"}], \"scattercarpet\": [{\"marker\": {\"colorbar\": {\"outlinewidth\": 0, \"ticks\": \"\"}}, \"type\": \"scattercarpet\"}], \"scattergeo\": [{\"marker\": {\"colorbar\": {\"outlinewidth\": 0, \"ticks\": \"\"}}, \"type\": \"scattergeo\"}], \"scattergl\": [{\"marker\": {\"colorbar\": {\"outlinewidth\": 0, \"ticks\": \"\"}}, \"type\": \"scattergl\"}], \"scattermapbox\": [{\"marker\": {\"colorbar\": {\"outlinewidth\": 0, \"ticks\": \"\"}}, \"type\": \"scattermapbox\"}], \"scatterpolar\": [{\"marker\": {\"colorbar\": {\"outlinewidth\": 0, \"ticks\": \"\"}}, \"type\": \"scatterpolar\"}], \"scatterpolargl\": [{\"marker\": {\"colorbar\": {\"outlinewidth\": 0, \"ticks\": \"\"}}, \"type\": \"scatterpolargl\"}], \"scatterternary\": [{\"marker\": {\"colorbar\": {\"outlinewidth\": 0, \"ticks\": \"\"}}, \"type\": \"scatterternary\"}], \"surface\": [{\"colorbar\": {\"outlinewidth\": 0, \"ticks\": \"\"}, \"colorscale\": [[0.0, \"#0d0887\"], [0.1111111111111111, \"#46039f\"], [0.2222222222222222, \"#7201a8\"], [0.3333333333333333, \"#9c179e\"], [0.4444444444444444, \"#bd3786\"], [0.5555555555555556, \"#d8576b\"], [0.6666666666666666, \"#ed7953\"], [0.7777777777777778, \"#fb9f3a\"], [0.8888888888888888, \"#fdca26\"], [1.0, \"#f0f921\"]], \"type\": \"surface\"}], \"table\": [{\"cells\": {\"fill\": {\"color\": \"#EBF0F8\"}, \"line\": {\"color\": \"white\"}}, \"header\": {\"fill\": {\"color\": \"#C8D4E3\"}, \"line\": {\"color\": \"white\"}}, \"type\": \"table\"}]}, \"layout\": {\"annotationdefaults\": {\"arrowcolor\": \"#2a3f5f\", \"arrowhead\": 0, \"arrowwidth\": 1}, \"colorscale\": {\"diverging\": [[0, \"#8e0152\"], [0.1, \"#c51b7d\"], [0.2, \"#de77ae\"], [0.3, \"#f1b6da\"], [0.4, \"#fde0ef\"], [0.5, \"#f7f7f7\"], [0.6, \"#e6f5d0\"], [0.7, \"#b8e186\"], [0.8, \"#7fbc41\"], [0.9, \"#4d9221\"], [1, \"#276419\"]], \"sequential\": [[0.0, \"#0d0887\"], [0.1111111111111111, \"#46039f\"], [0.2222222222222222, \"#7201a8\"], [0.3333333333333333, \"#9c179e\"], [0.4444444444444444, \"#bd3786\"], [0.5555555555555556, \"#d8576b\"], [0.6666666666666666, \"#ed7953\"], [0.7777777777777778, \"#fb9f3a\"], [0.8888888888888888, \"#fdca26\"], [1.0, \"#f0f921\"]], \"sequentialminus\": [[0.0, \"#0d0887\"], [0.1111111111111111, \"#46039f\"], [0.2222222222222222, \"#7201a8\"], [0.3333333333333333, \"#9c179e\"], [0.4444444444444444, \"#bd3786\"], [0.5555555555555556, \"#d8576b\"], [0.6666666666666666, \"#ed7953\"], [0.7777777777777778, \"#fb9f3a\"], [0.8888888888888888, \"#fdca26\"], [1.0, \"#f0f921\"]]}, \"colorway\": [\"#636efa\", \"#EF553B\", \"#00cc96\", \"#ab63fa\", \"#FFA15A\", \"#19d3f3\", \"#FF6692\", \"#B6E880\", \"#FF97FF\", \"#FECB52\"], \"font\": {\"color\": \"#2a3f5f\"}, \"geo\": {\"bgcolor\": \"white\", \"lakecolor\": \"white\", \"landcolor\": \"#E5ECF6\", \"showlakes\": true, \"showland\": true, \"subunitcolor\": \"white\"}, \"hoverlabel\": {\"align\": \"left\"}, \"hovermode\": \"closest\", \"mapbox\": {\"style\": \"light\"}, \"paper_bgcolor\": \"white\", \"plot_bgcolor\": \"#E5ECF6\", \"polar\": {\"angularaxis\": {\"gridcolor\": \"white\", \"linecolor\": \"white\", \"ticks\": \"\"}, \"bgcolor\": \"#E5ECF6\", \"radialaxis\": {\"gridcolor\": \"white\", \"linecolor\": \"white\", \"ticks\": \"\"}}, \"scene\": {\"xaxis\": {\"backgroundcolor\": \"#E5ECF6\", \"gridcolor\": \"white\", \"gridwidth\": 2, \"linecolor\": \"white\", \"showbackground\": true, \"ticks\": \"\", \"zerolinecolor\": \"white\"}, \"yaxis\": {\"backgroundcolor\": \"#E5ECF6\", \"gridcolor\": \"white\", \"gridwidth\": 2, \"linecolor\": \"white\", \"showbackground\": true, \"ticks\": \"\", \"zerolinecolor\": \"white\"}, \"zaxis\": {\"backgroundcolor\": \"#E5ECF6\", \"gridcolor\": \"white\", \"gridwidth\": 2, \"linecolor\": \"white\", \"showbackground\": true, \"ticks\": \"\", \"zerolinecolor\": \"white\"}}, \"shapedefaults\": {\"line\": {\"color\": \"#2a3f5f\"}}, \"ternary\": {\"aaxis\": {\"gridcolor\": \"white\", \"linecolor\": \"white\", \"ticks\": \"\"}, \"baxis\": {\"gridcolor\": \"white\", \"linecolor\": \"white\", \"ticks\": \"\"}, \"bgcolor\": \"#E5ECF6\", \"caxis\": {\"gridcolor\": \"white\", \"linecolor\": \"white\", \"ticks\": \"\"}}, \"title\": {\"x\": 0.05}, \"xaxis\": {\"automargin\": true, \"gridcolor\": \"white\", \"linecolor\": \"white\", \"ticks\": \"\", \"zerolinecolor\": \"white\", \"zerolinewidth\": 2}, \"yaxis\": {\"automargin\": true, \"gridcolor\": \"white\", \"linecolor\": \"white\", \"ticks\": \"\", \"zerolinecolor\": \"white\", \"zerolinewidth\": 2}}}, \"title\": {\"text\": \"ROI per date\"}, \"width\": 1300, \"xaxis\": {\"title\": {\"text\": \"time\"}}, \"yaxis\": {\"title\": {\"text\": \"ROI\"}}},\n",
       "                        {\"responsive\": true}\n",
       "                    ).then(function(){\n",
       "                            \n",
       "var gd = document.getElementById('fb7ed78c-706d-4bd7-8bbb-4651524b0b8d');\n",
       "var x = new MutationObserver(function (mutations, observer) {{\n",
       "        var display = window.getComputedStyle(gd).display;\n",
       "        if (!display || display === 'none') {{\n",
       "            console.log([gd, 'removed!']);\n",
       "            Plotly.purge(gd);\n",
       "            observer.disconnect();\n",
       "        }}\n",
       "}});\n",
       "\n",
       "// Listen for the removal of the full notebook cells\n",
       "var notebookContainer = gd.closest('#notebook-container');\n",
       "if (notebookContainer) {{\n",
       "    x.observe(notebookContainer, {childList: true});\n",
       "}}\n",
       "\n",
       "// Listen for the clearing of the current output cell\n",
       "var outputEl = gd.closest('.output');\n",
       "if (outputEl) {{\n",
       "    x.observe(outputEl, {childList: true});\n",
       "}}\n",
       "\n",
       "                        })\n",
       "                };\n",
       "                });\n",
       "            </script>\n",
       "        </div>"
      ]
     },
     "metadata": {},
     "output_type": "display_data"
    }
   ],
   "source": [
    "traces = []\n",
    "scatter = go.Scatter(\n",
    "    x=list(returns_over_time.keys()),\n",
    "    y=list((returns_over_time / money_bet_over_time).values),\n",
    "    mode='lines',\n",
    ")\n",
    "traces.append(scatter)\n",
    "\n",
    "layout = {\n",
    "    'title':'ROI per date',\n",
    "    'xaxis': {\n",
    "        'title': 'time',\n",
    "    },\n",
    "    'yaxis': {\n",
    "        'title': 'ROI',\n",
    "    },\n",
    "    'width': 1300,\n",
    "    'height': 500,\n",
    "}\n",
    "fig = go.Figure(data=traces, layout=layout)\n",
    "iplot(fig)"
   ]
  },
  {
   "cell_type": "code",
   "execution_count": 68,
   "metadata": {},
   "outputs": [
    {
     "name": "stdout",
     "output_type": "stream",
     "text": [
      "Total returns after 129 betting days: 127.88610497493147\n"
     ]
    },
    {
     "data": {
      "image/png": "[encoded data removed]",
      "text/plain": [
       "<Figure size 1800x360 with 1 Axes>"
      ]
     },
     "metadata": {
      "needs_background": "light"
     },
     "output_type": "display_data"
    }
   ],
   "source": [
    "print(f'Total returns after {features_with_odds.date.nunique()} betting days: {np.sum(returns_over_time)}')\n",
    "fig, ax = plt.subplots(figsize=(25, 5))\n",
    "ax.hist(returns_over_time, bins=20)\n",
    "ax.set_title('Distribution of returns')\n",
    "ax.set_xlabel('returns')\n",
    "plt.show()"
   ]
  },
  {
   "cell_type": "code",
   "execution_count": null,
   "metadata": {},
   "outputs": [],
   "source": []
  }
 ],
 "metadata": {
  "kernelspec": {
   "display_name": "Python 3",
   "language": "python",
   "name": "python3"
  },
  "language_info": {
   "codemirror_mode": {
    "name": "ipython",
    "version": 3
   },
   "file_extension": ".py",
   "mimetype": "text/x-python",
   "name": "python",
   "nbconvert_exporter": "python",
   "pygments_lexer": "ipython3",
   "version": "3.7.4"
  }
 },
 "nbformat": 4,
 "nbformat_minor": 4
}
